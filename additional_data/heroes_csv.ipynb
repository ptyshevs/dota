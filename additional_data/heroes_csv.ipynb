{
 "cells": [
  {
   "cell_type": "code",
   "execution_count": 2,
   "metadata": {},
   "outputs": [],
   "source": [
    "import orjson as json\n",
    "import pandas as pd"
   ]
  },
  {
   "cell_type": "code",
   "execution_count": 30,
   "metadata": {},
   "outputs": [],
   "source": [
    "with open('heroes.json') as f:\n",
    "    heroes = pd.DataFrame(json.loads(f.read()))"
   ]
  },
  {
   "cell_type": "code",
   "execution_count": 33,
   "metadata": {},
   "outputs": [
    {
     "data": {
      "text/plain": [
       "{'AttributePrimary': 'DOTA_ATTRIBUTE_STRENGTH',\n",
       " 'AttributeBaseAgility': '18',\n",
       " 'AttributeAgilityGain': '1.600000',\n",
       " 'AttributeBaseStrength': '23',\n",
       " 'AttributeStrengthGain': '2.900000',\n",
       " 'AttributeBaseIntelligence': '16',\n",
       " 'AttributeIntelligenceGain': '1.900000',\n",
       " 'ArmorPhysical': '-1',\n",
       " 'MagicalResistance': '25',\n",
       " 'StatusHealth': '200',\n",
       " 'StatusHealthRegen': '1.5000',\n",
       " 'StatusMana': '75',\n",
       " 'StatusManaRegen': '0.9',\n",
       " 'MovementSpeed': '305',\n",
       " 'MovementTurnRate': '0.500000',\n",
       " 'VisionDaytimeRange': '1800',\n",
       " 'VisionNighttimeRange': '800',\n",
       " 'AttackCapabilities': 'DOTA_UNIT_CAP_MELEE_ATTACK',\n",
       " 'AttackDamageMin': '41',\n",
       " 'AttackDamageMax': '45',\n",
       " 'AttackRate': '1.700000',\n",
       " 'AttackAnimationPoint': '0.300000',\n",
       " 'AttackAcquisitionRange': '600',\n",
       " 'AttackRange': '150',\n",
       " 'ProjectileSpeed': '0',\n",
       " 'Role': 'Initiator,Disabler,Durable,Nuker',\n",
       " 'Rolelevels': '2,2,2,1',\n",
       " 'Complexity': '2',\n",
       " 'Team': 'Good',\n",
       " 'HeroID': '38'}"
      ]
     },
     "execution_count": 33,
     "metadata": {},
     "output_type": "execute_result"
    }
   ],
   "source": [
    "heroes.attributes[0]"
   ]
  },
  {
   "cell_type": "code",
   "execution_count": 34,
   "metadata": {},
   "outputs": [],
   "source": [
    "attributes = ['HeroID', 'AttributePrimary', 'AttackCapabilities', 'Role', 'Rolelevels', 'Complexity']"
   ]
  },
  {
   "cell_type": "code",
   "execution_count": 35,
   "metadata": {},
   "outputs": [],
   "source": [
    "for att in attributes:\n",
    "    heroes[att] = heroes.attributes.map(lambda x: x[att])"
   ]
  },
  {
   "cell_type": "code",
   "execution_count": 36,
   "metadata": {},
   "outputs": [],
   "source": [
    "heroes.Role = heroes.Role.map(lambda x:x.split(','))\n",
    "heroes.Rolelevels = heroes.Rolelevels.map(lambda x:x.split(','))"
   ]
  },
  {
   "cell_type": "code",
   "execution_count": 37,
   "metadata": {},
   "outputs": [],
   "source": [
    "heroes = heroes[[c for c in heroes.columns if c in attributes or c in ['tag']]]"
   ]
  },
  {
   "cell_type": "code",
   "execution_count": 39,
   "metadata": {},
   "outputs": [],
   "source": [
    "columns = ['HeroID', 'tag'] + attributes[1:]"
   ]
  },
  {
   "cell_type": "code",
   "execution_count": 41,
   "metadata": {},
   "outputs": [],
   "source": [
    "heroes = heroes[columns]"
   ]
  },
  {
   "cell_type": "code",
   "execution_count": 42,
   "metadata": {},
   "outputs": [],
   "source": [
    "heroes.to_csv('heroes.csv', index=False)"
   ]
  }
 ],
 "metadata": {
  "kernelspec": {
   "display_name": "Python 3",
   "language": "python",
   "name": "python3"
  },
  "language_info": {
   "codemirror_mode": {
    "name": "ipython",
    "version": 3
   },
   "file_extension": ".py",
   "mimetype": "text/x-python",
   "name": "python",
   "nbconvert_exporter": "python",
   "pygments_lexer": "ipython3",
   "version": "3.7.5"
  }
 },
 "nbformat": 4,
 "nbformat_minor": 4
}
