{
 "cells": [
  {
   "cell_type": "code",
   "execution_count": 1,
   "metadata": {},
   "outputs": [],
   "source": [
    "import pandas as pd\n",
    "import numpy as np\n",
    "import re\n",
    "import tqdm"
   ]
  },
  {
   "cell_type": "code",
   "execution_count": 2,
   "metadata": {},
   "outputs": [],
   "source": [
    "train_df = pd.read_csv('data/train_features_total.csv')\n",
    "test_df = pd.read_csv('data/test_features_total.csv')"
   ]
  },
  {
   "cell_type": "code",
   "execution_count": 3,
   "metadata": {},
   "outputs": [],
   "source": [
    "def team_features(df, agg=None, remove_hero_features=False, calcuate_differences=True, remove_team_features=False):\n",
    "    hero_features = [c for c in df.columns if re.search(r'^[rd][0-9]_.*', c)]\n",
    "    team_features = [c for c in df.columns if re.search(r'^[rd]_.*', c)]\n",
    "\n",
    "    single_player_features = [c for c in train_df.columns.tolist() if c.startswith('r1')]\n",
    "    \n",
    "    df_cpy = df.copy()\n",
    "    if agg is None:\n",
    "        agg = [np.sum]\n",
    "    else:\n",
    "        agg = [np.sum] + agg\n",
    "    for feature in tqdm.tqdm(single_player_features):\n",
    "        if feature.endswith('chat_msg') or feature.endswith('hero_tag') or feature.endswith('lane') or \\\n",
    "            feature.endswith('attack_type') or feature.endswith('attribute'):\n",
    "            continue\n",
    "        name = feature[3:]\n",
    "        subdf = df_cpy[[c for c in df_cpy.columns if c.endswith(name)]]\n",
    "        rad = subdf[[c for c in subdf.columns if c.startswith('r')]]\n",
    "        dire = subdf[[c for c in subdf.columns if c.startswith('d')]]\n",
    "        for f in agg:\n",
    "            fname = str(f).split(' ')[1]\n",
    "            for team in ['r', 'd']:\n",
    "                team_df = subdf[[c for c in subdf.columns if c.startswith(team)]]\n",
    "                \n",
    "                df_cpy[f'{team}_{name}_{fname}'] = f(team_df, axis=1)\n",
    "\n",
    "    if remove_hero_features:\n",
    "        df_cpy.drop(hero_features, axis=1, inplace=True)\n",
    "        if calcuate_differences:\n",
    "            for feature in team_features:\n",
    "                if feature.startswith('d'):\n",
    "                    continue\n",
    "                name = feature[2:]\n",
    "                df_cpy[f'{name}_diff'] = df_cpy[feature].astype(np.float32) - df_cpy[f'd_{name}'].astype(np.float32)\n",
    "            for feature in single_player_features:\n",
    "                if feature.endswith('chat_msg') or feature.endswith('hero_tag') or feature.endswith('lane') or feature.endswith('attack_type') or feature.endswith('attribute'):\n",
    "                    continue\n",
    "                feature = feature[0] + feature[2:] + '_sum'\n",
    "                name = feature[2:]\n",
    "                df_cpy[f'{name}_diff'] = df_cpy[feature].astype(np.float32) - df_cpy[f'd_{name}'].astype(np.float32)\n",
    "            if remove_team_features:\n",
    "                df_cpy.drop(team_features, axis=1, inplace=True)\n",
    "    return df_cpy"
   ]
  },
  {
   "cell_type": "code",
   "execution_count": 4,
   "metadata": {},
   "outputs": [
    {
     "name": "stderr",
     "output_type": "stream",
     "text": [
      "100%|██████████| 129/129 [00:37<00:00,  3.46it/s]\n"
     ]
    }
   ],
   "source": [
    "train_team_df = team_features(train_df, agg=[np.min, np.median, np.max],\n",
    "                  remove_hero_features=True, calcuate_differences=True,\n",
    "                  remove_team_features=True)"
   ]
  },
  {
   "cell_type": "code",
   "execution_count": 5,
   "metadata": {},
   "outputs": [
    {
     "data": {
      "text/plain": [
       "(39675, 1401)"
      ]
     },
     "execution_count": 5,
     "metadata": {},
     "output_type": "execute_result"
    }
   ],
   "source": [
    "train_team_df.shape"
   ]
  },
  {
   "cell_type": "code",
   "execution_count": 6,
   "metadata": {},
   "outputs": [],
   "source": [
    "train_team_df.to_csv('data/train_team_features.csv', index=False)"
   ]
  },
  {
   "cell_type": "code",
   "execution_count": 7,
   "metadata": {},
   "outputs": [
    {
     "name": "stderr",
     "output_type": "stream",
     "text": [
      "100%|██████████| 129/129 [00:16<00:00,  8.00it/s]\n"
     ]
    }
   ],
   "source": [
    "test_team_df = team_features(test_df, agg=[np.min, np.median, np.max],\n",
    "                  remove_hero_features=True, calcuate_differences=True,\n",
    "                  remove_team_features=True)"
   ]
  },
  {
   "cell_type": "code",
   "execution_count": 8,
   "metadata": {},
   "outputs": [
    {
     "data": {
      "text/plain": [
       "(10000, 1401)"
      ]
     },
     "execution_count": 8,
     "metadata": {},
     "output_type": "execute_result"
    }
   ],
   "source": [
    "test_team_df.shape"
   ]
  },
  {
   "cell_type": "code",
   "execution_count": 9,
   "metadata": {},
   "outputs": [],
   "source": [
    "test_team_df.to_csv('data/test_team_features.csv', index=False)"
   ]
  }
 ],
 "metadata": {
  "kernelspec": {
   "display_name": "Python 3",
   "language": "python",
   "name": "python3"
  },
  "language_info": {
   "codemirror_mode": {
    "name": "ipython",
    "version": 3
   },
   "file_extension": ".py",
   "mimetype": "text/x-python",
   "name": "python",
   "nbconvert_exporter": "python",
   "pygments_lexer": "ipython3",
   "version": "3.7.5"
  }
 },
 "nbformat": 4,
 "nbformat_minor": 4
}
