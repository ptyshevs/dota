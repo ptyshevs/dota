{
 "cells": [
  {
   "cell_type": "code",
   "execution_count": 3,
   "metadata": {},
   "outputs": [
    {
     "name": "stdout",
     "output_type": "stream",
     "text": [
      "155 {'0': 310}\n",
      "155 {'0': 310}\n",
      "155 {'0': 300, '1': 3, '2': 7}\n",
      "155 {'0': 310}\n",
      "155 {'0': 310}\n",
      "155 {'0': 310}\n",
      "155 {'0': 310}\n",
      "155 {'0': 310}\n",
      "155 {'0': 310}\n",
      "155 {'0': 310}\n"
     ]
    }
   ],
   "source": [
    "import orjson as json\n",
    "\n",
    "features = []\n",
    "for file in ['../data/train_matches.jsonl', '../data/test_matches.jsonl']:\n",
    "    for line in open(file):\n",
    "        game = json.loads(line)\n",
    "        for p in game['players']:\n",
    "            features.append({'life_state': p['life_state']})\n",
    "            print(game['game_time'], p['life_state'])\n",
    "        break\n",
    "    break"
   ]
  },
  {
   "cell_type": "code",
   "execution_count": 9,
   "metadata": {},
   "outputs": [],
   "source": [
    "def life_state_features(game, player):\n",
    "    if 'init' not in dir(life_state_features):\n",
    "        life_state_features.init = {'sec_dead': 0, 'sec_magic': 0,\n",
    "                                    'frac_dead': 0, 'frac_magic': 0}\n",
    "    c = life_state_features.init.copy()\n",
    "    \n",
    "    time = game['game_time']\n",
    "    \n",
    "    keys = player['life_state'].keys()\n",
    "    if '1' in keys:\n",
    "        c['sec_dead'] = player['life_state']['1'] / 2.0\n",
    "        c['frac_dead'] = c['sec_dead'] / time\n",
    "    if '2' in keys:\n",
    "        c['sec_magic'] = player['life_state']['2'] / 2.0\n",
    "        c['frac_magic'] = c['sec_magic'] / time\n",
    "    return c\n",
    "    "
   ]
  },
  {
   "cell_type": "code",
   "execution_count": 10,
   "metadata": {},
   "outputs": [
    {
     "data": {
      "text/plain": [
       "{'sec_dead': 1.5,\n",
       " 'sec_magic': 3.5,\n",
       " 'frac_dead': 0.00967741935483871,\n",
       " 'frac_magic': 0.02258064516129032}"
      ]
     },
     "execution_count": 10,
     "metadata": {},
     "output_type": "execute_result"
    }
   ],
   "source": [
    "life_state_features(game, game['players'][2])"
   ]
  },
  {
   "cell_type": "code",
   "execution_count": 11,
   "metadata": {},
   "outputs": [
    {
     "data": {
      "text/plain": [
       "dict_keys(['player_slot', 'hero_id', 'hero_name', 'account_id_hash', 'ability_upgrades', 'obs_placed', 'sen_placed', 'creeps_stacked', 'camps_stacked', 'rune_pickups', 'firstblood_claimed', 'teamfight_participation', 'towers_killed', 'roshans_killed', 'observers_placed', 'stuns', 'max_hero_hit', 'times', 'gold_t', 'lh_t', 'dn_t', 'xp_t', 'obs_log', 'sen_log', 'obs_left_log', 'sen_left_log', 'purchase_log', 'kills_log', 'buyback_log', 'runes_log', 'obs', 'sen', 'actions', 'pings', 'purchase', 'gold_reasons', 'xp_reasons', 'killed', 'item_uses', 'ability_uses', 'hero_hits', 'damage', 'damage_taken', 'damage_inflictor', 'runes', 'killed_by', 'kill_streaks', 'multi_kills', 'life_state', 'healing', 'damage_inflictor_received', 'randomed', 'pred_vict', 'gold', 'lh', 'xp', 'x', 'y', 'hero_inventory', 'hero_stash', 'health', 'max_health', 'max_mana', 'level', 'kills', 'deaths', 'assists', 'denies', 'nearby_creep_death_count'])"
      ]
     },
     "execution_count": 11,
     "metadata": {},
     "output_type": "execute_result"
    }
   ],
   "source": [
    "p.keys()"
   ]
  }
 ],
 "metadata": {
  "kernelspec": {
   "display_name": "Python 3",
   "language": "python",
   "name": "python3"
  },
  "language_info": {
   "codemirror_mode": {
    "name": "ipython",
    "version": 3
   },
   "file_extension": ".py",
   "mimetype": "text/x-python",
   "name": "python",
   "nbconvert_exporter": "python",
   "pygments_lexer": "ipython3",
   "version": "3.6.8"
  }
 },
 "nbformat": 4,
 "nbformat_minor": 4
}
