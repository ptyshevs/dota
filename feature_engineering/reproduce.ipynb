{
 "cells": [
  {
   "cell_type": "code",
   "execution_count": 1,
   "metadata": {},
   "outputs": [],
   "source": [
    "import numpy as np\n",
    "import pandas as pd"
   ]
  },
  {
   "cell_type": "code",
   "execution_count": null,
   "metadata": {},
   "outputs": [],
   "source": [
    "import orjson as json\n",
    "import tqdm\n",
    "import multiprocessing as mp\n",
    "import gc"
   ]
  },
  {
   "cell_type": "code",
   "execution_count": null,
   "metadata": {},
   "outputs": [],
   "source": [
    "from catboost import Pool, CatBoostClassifier"
   ]
  },
  {
   "cell_type": "code",
   "execution_count": 2,
   "metadata": {},
   "outputs": [],
   "source": [
    "from features import game_features\n",
    "from team_features import team_features\n",
    "from permutation import permute_players, permute_teams"
   ]
  },
  {
   "cell_type": "code",
   "execution_count": 5,
   "metadata": {},
   "outputs": [],
   "source": [
    "def job(line):\n",
    "    game = json.loads(line)\n",
    "    return game_features(game)\n",
    "\n",
    "def mp_game_features(path_frm, path_to):\n",
    "    pool = mp.Pool(mp.cpu_count())\n",
    "    features = pool.map(job, open(path_frm))\n",
    "    df = pd.DataFrame(features)\n",
    "    df.to_csv(path_to, index=False)\n",
    "    pool.close()\n",
    "    return df"
   ]
  },
  {
   "cell_type": "code",
   "execution_count": null,
   "metadata": {},
   "outputs": [
    {
     "name": "stderr",
     "output_type": "stream",
     "text": [
      "Exception in thread Thread-7:\n",
      "Traceback (most recent call last):\n",
      "  File \"/usr/lib/python3.7/threading.py\", line 926, in _bootstrap_inner\n",
      "    self.run()\n",
      "  File \"/usr/lib/python3.7/threading.py\", line 870, in run\n",
      "    self._target(*self._args, **self._kwargs)\n",
      "  File \"/usr/lib/python3.7/multiprocessing/pool.py\", line 412, in _handle_workers\n",
      "    pool._maintain_pool()\n",
      "  File \"/usr/lib/python3.7/multiprocessing/pool.py\", line 248, in _maintain_pool\n",
      "    self._repopulate_pool()\n",
      "  File \"/usr/lib/python3.7/multiprocessing/pool.py\", line 241, in _repopulate_pool\n",
      "    w.start()\n",
      "  File \"/usr/lib/python3.7/multiprocessing/process.py\", line 112, in start\n",
      "    self._popen = self._Popen(self)\n",
      "  File \"/usr/lib/python3.7/multiprocessing/context.py\", line 277, in _Popen\n",
      "    return Popen(process_obj)\n",
      "  File \"/usr/lib/python3.7/multiprocessing/popen_fork.py\", line 20, in __init__\n",
      "    self._launch(process_obj)\n",
      "  File \"/usr/lib/python3.7/multiprocessing/popen_fork.py\", line 70, in _launch\n",
      "    self.pid = os.fork()\n",
      "OSError: [Errno 22] Invalid argument\n",
      "\n"
     ]
    }
   ],
   "source": [
    "train_df = mp_game_features('../data/train_matches.jsonl', '../data/train_features_total.csv')"
   ]
  },
  {
   "cell_type": "code",
   "execution_count": null,
   "metadata": {},
   "outputs": [],
   "source": [
    "test_df = mp_game_features('../data/test_matches.jsonl', '../data/test_features_total.csv')"
   ]
  },
  {
   "cell_type": "code",
   "execution_count": null,
   "metadata": {},
   "outputs": [],
   "source": [
    "train_team_df = team_features(train_df, agg=[np.min, np.median, np.max],\n",
    "                  remove_hero_features=True, calcuate_differences=True,\n",
    "                  remove_team_features=True)\n",
    "\n",
    "train_team_df.to_csv('../data/train_team_features.csv', index=False)"
   ]
  },
  {
   "cell_type": "code",
   "execution_count": null,
   "metadata": {},
   "outputs": [],
   "source": [
    "test_team_df = team_features(test_df, agg=[np.min, np.median, np.max],\n",
    "                  remove_hero_features=True, calcuate_differences=True,\n",
    "                  remove_team_features=True)\n",
    "\n",
    "test_team_df.to_csv('../data/test_team_features.csv', index=False)"
   ]
  },
  {
   "cell_type": "code",
   "execution_count": null,
   "metadata": {},
   "outputs": [],
   "source": [
    "object_cols = train_df.select_dtypes(include=[np.object]).columns\n",
    "int_cols = train_df.select_dtypes(include=[np.int64]).columns\n",
    "float_cols = train_df.select_dtypes(include=[np.float64]).columns\n",
    "dtype_map = {col: np.int16 for col in int_cols}\n",
    "dtype_map.update({col: np.float16 for col in float_cols})"
   ]
  },
  {
   "cell_type": "code",
   "execution_count": null,
   "metadata": {},
   "outputs": [],
   "source": [
    "X = pd.read_csv('../data/train_features_total.csv', dtype=dtype_map)\n",
    "X_test = pd.read_csv('../data/test_features_total.csv', dtype=dtype_map)\n",
    "Y = pd.read_csv('../data/train_targets.csv')\n",
    "submission_df = pd.read_csv('../data/sample_submission.csv')"
   ]
  },
  {
   "cell_type": "code",
   "execution_count": null,
   "metadata": {},
   "outputs": [],
   "source": [
    "object_cols = train_team_df.select_dtypes(include=[np.object]).columns\n",
    "int_cols = train_team_df.select_dtypes(include=[np.int64]).columns\n",
    "float_cols = train_team_df.select_dtypes(include=[np.float64]).columns\n",
    "dtype_map = {col: np.int16 for col in int_cols}\n",
    "dtype_map.update({col: np.float16 for col in float_cols})"
   ]
  },
  {
   "cell_type": "code",
   "execution_count": null,
   "metadata": {},
   "outputs": [],
   "source": [
    "train_team_df = pd.read_csv('../data/train_team_features.csv', dtype=dtype_map)\n",
    "test_team_df = pd.read_csv('../data/test_team_features.csv', dtype=dtype_map)"
   ]
  },
  {
   "cell_type": "code",
   "execution_count": null,
   "metadata": {},
   "outputs": [],
   "source": [
    "X_team_unique = train_team_df[[c for c in train_team_df.columns if c not in X.columns]]\n",
    "X_team_test = test_team_df[[c for c in test_team_df.columns if c not in X.columns]]"
   ]
  },
  {
   "cell_type": "code",
   "execution_count": null,
   "metadata": {},
   "outputs": [],
   "source": [
    "X_combined = pd.concat([X, X_team_unique], axis=1)\n",
    "X_test_combined = pd.concat([X_test, X_team_test], axis=1)"
   ]
  },
  {
   "cell_type": "code",
   "execution_count": null,
   "metadata": {},
   "outputs": [],
   "source": [
    "del X, X_team_unique, X_team, X_team_test, X_test, train_df, test_df\n",
    "gc.collect()"
   ]
  },
  {
   "cell_type": "code",
   "execution_count": null,
   "metadata": {},
   "outputs": [],
   "source": [
    "X_enh, Y_enh = permute_players(X_combined, Y)\n",
    "del X_combined, Y\n",
    "X_enh2, Y_enh2 = permute_teams(X_enh, Y_enh)\n",
    "del X_enh, Y_enh"
   ]
  },
  {
   "cell_type": "code",
   "execution_count": null,
   "metadata": {},
   "outputs": [],
   "source": [
    "print(X_enh2.shape, Y_enh2.shape)"
   ]
  },
  {
   "cell_type": "code",
   "execution_count": null,
   "metadata": {},
   "outputs": [],
   "source": [
    "def train_and_predict(n_iterations, path_format='total_team_combined_{}.csv'):\n",
    "    params = {\n",
    "          'random_seed': 42,\n",
    "          'n_estimators': n_iterations,\n",
    "          'task_type': 'GPU',\n",
    "          'verbose': 500,\n",
    "          'one_hot_max_size': 130,\n",
    "          }\n",
    "    model = CatBoostClassifier(**params)\n",
    "    model.fit(X_enh2, Y_enh2, verbose=500, cat_features=categorical_columns)\n",
    "    test_pool = Pool(X_test_combined, cat_features=categorical_columns)\n",
    "    submission_df.radiant_win_prob = model.predict_proba(test_pool)[:, 1]\n",
    "    submission_df.to_csv(path_format.format(n_iterations), index=False)\n",
    "    # make copy of submission_df and return it"
   ]
  },
  {
   "cell_type": "code",
   "execution_count": null,
   "metadata": {},
   "outputs": [],
   "source": [
    "Y_enh2.radiant_win = Y_enh2.radiant_win.astype(np.float32)"
   ]
  },
  {
   "cell_type": "code",
   "execution_count": null,
   "metadata": {},
   "outputs": [],
   "source": [
    "model = CatBoostClassifier(**params)"
   ]
  },
  {
   "cell_type": "code",
   "execution_count": null,
   "metadata": {},
   "outputs": [],
   "source": [
    "model.fit(X_enh2, Y_enh2, verbose=500, cat_features=categorical_columns)"
   ]
  },
  {
   "cell_type": "code",
   "execution_count": null,
   "metadata": {},
   "outputs": [],
   "source": [
    "test_pool = Pool(X_test_combined, cat_features=categorical_columns)"
   ]
  },
  {
   "cell_type": "code",
   "execution_count": null,
   "metadata": {},
   "outputs": [],
   "source": [
    "submission_df.radiant_win_prob = model.predict_proba(test_pool)[:, 1]"
   ]
  },
  {
   "cell_type": "code",
   "execution_count": null,
   "metadata": {},
   "outputs": [],
   "source": [
    "submission_df.to_csv('total_team_combined_5k.csv', index=False)"
   ]
  }
 ],
 "metadata": {
  "kernelspec": {
   "display_name": "Python 3",
   "language": "python",
   "name": "python3"
  },
  "language_info": {
   "codemirror_mode": {
    "name": "ipython",
    "version": 3
   },
   "file_extension": ".py",
   "mimetype": "text/x-python",
   "name": "python",
   "nbconvert_exporter": "python",
   "pygments_lexer": "ipython3",
   "version": "3.7.5"
  }
 },
 "nbformat": 4,
 "nbformat_minor": 4
}
