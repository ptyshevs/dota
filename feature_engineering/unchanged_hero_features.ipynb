{
 "cells": [
  {
   "cell_type": "code",
   "execution_count": 1,
   "metadata": {},
   "outputs": [],
   "source": [
    "import pandas as pd\n",
    "import orjson as json"
   ]
  },
  {
   "cell_type": "code",
   "execution_count": 2,
   "metadata": {},
   "outputs": [],
   "source": [
    "for line in open('../data/train_matches.jsonl'):\n",
    "    game = json.loads(line)\n",
    "    for player in game['players']:\n",
    "        break\n",
    "    break"
   ]
  },
  {
   "cell_type": "code",
   "execution_count": 3,
   "metadata": {},
   "outputs": [
    {
     "data": {
      "text/plain": [
       "dict_keys(['player_slot', 'hero_id', 'hero_name', 'account_id_hash', 'ability_upgrades', 'obs_placed', 'sen_placed', 'creeps_stacked', 'camps_stacked', 'rune_pickups', 'firstblood_claimed', 'teamfight_participation', 'towers_killed', 'roshans_killed', 'observers_placed', 'stuns', 'max_hero_hit', 'times', 'gold_t', 'lh_t', 'dn_t', 'xp_t', 'obs_log', 'sen_log', 'obs_left_log', 'sen_left_log', 'purchase_log', 'kills_log', 'buyback_log', 'runes_log', 'obs', 'sen', 'actions', 'pings', 'purchase', 'gold_reasons', 'xp_reasons', 'killed', 'item_uses', 'ability_uses', 'hero_hits', 'damage', 'damage_taken', 'damage_inflictor', 'runes', 'killed_by', 'kill_streaks', 'multi_kills', 'life_state', 'healing', 'damage_inflictor_received', 'randomed', 'pred_vict', 'gold', 'lh', 'xp', 'x', 'y', 'hero_inventory', 'hero_stash', 'health', 'max_health', 'max_mana', 'level', 'kills', 'deaths', 'assists', 'denies', 'nearby_creep_death_count'])"
      ]
     },
     "execution_count": 3,
     "metadata": {},
     "output_type": "execute_result"
    }
   ],
   "source": [
    "player.keys()"
   ]
  },
  {
   "cell_type": "code",
   "execution_count": 147,
   "metadata": {},
   "outputs": [],
   "source": [
    "def main_player_features(player):\n",
    "    if 'init' not in dir(main_player_features):\n",
    "        main_player_features.init = {'obs_placed': 0, 'sen_placed': 0, 'creeps_stacked': 0,\n",
    "                                    'camps_stacked': 0, 'rune_pickups': 0,\n",
    "                                     'teamfight_participation': 0, 'towers_killed': 0,\n",
    "                                     'pings': 0, 'gold': 0, 'lh': 0, 'xp': 0, 'health': 0,\n",
    "                                    'max_health': 0, 'level': 0, 'kills': 0, 'deaths': 0,\n",
    "                                    'assists': 0, 'denies': 0, 'nearby_creep_death_count': 0}\n",
    "    \n",
    "    c = main_player_features.init.copy()\n",
    "    for k in c.keys():\n",
    "        if k == 'pings':\n",
    "            c[k] = player[k]['0']\n",
    "        else:\n",
    "            c[k] = player[k]\n",
    "    c['health_frac'] = c['health'] / c['max_health']\n",
    "    return c"
   ]
  },
  {
   "cell_type": "code",
   "execution_count": 148,
   "metadata": {},
   "outputs": [
    {
     "data": {
      "text/plain": [
       "{'obs_placed': 3,\n",
       " 'sen_placed': 3,\n",
       " 'creeps_stacked': 0,\n",
       " 'camps_stacked': 0,\n",
       " 'rune_pickups': 3,\n",
       " 'teamfight_participation': 0.633,\n",
       " 'towers_killed': 0,\n",
       " 'pings': 20,\n",
       " 'gold': 6564,\n",
       " 'lh': 23,\n",
       " 'xp': 13653,\n",
       " 'health': 1540,\n",
       " 'max_health': 1540,\n",
       " 'level': 17,\n",
       " 'kills': 0,\n",
       " 'deaths': 3,\n",
       " 'assists': 19,\n",
       " 'denies': 7,\n",
       " 'nearby_creep_death_count': 244,\n",
       " 'health_frac': 1.0}"
      ]
     },
     "execution_count": 148,
     "metadata": {},
     "output_type": "execute_result"
    }
   ],
   "source": [
    "main_player_features(player)"
   ]
  }
 ],
 "metadata": {
  "kernelspec": {
   "display_name": "Python 3",
   "language": "python",
   "name": "python3"
  },
  "language_info": {
   "codemirror_mode": {
    "name": "ipython",
    "version": 3
   },
   "file_extension": ".py",
   "mimetype": "text/x-python",
   "name": "python",
   "nbconvert_exporter": "python",
   "pygments_lexer": "ipython3",
   "version": "3.6.8"
  }
 },
 "nbformat": 4,
 "nbformat_minor": 4
}
