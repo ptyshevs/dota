{
 "cells": [
  {
   "cell_type": "code",
   "execution_count": 1,
   "metadata": {},
   "outputs": [],
   "source": [
    "import pandas as pd\n",
    "import orjson as json\n",
    "import tqdm\n",
    "from features import general_features"
   ]
  },
  {
   "cell_type": "code",
   "execution_count": 2,
   "metadata": {},
   "outputs": [],
   "source": [
    "def general_features_df(df):\n",
    "    df = df[['game_time', 'game_mode', 'lobby_type']]\n",
    "    df['game_phase'] = pd.cut(df.game_time / 60, bins=[-3, 13, 26, 100],\n",
    "                                right=False, include_lowest=True,\n",
    "                                labels=['early_game', 'mid_game', 'late_game'])\n",
    "    df.game_mode = df.game_mode.map(game_mode_map)\n",
    "    df.lobby_type = df.lobby_type.map(lobby_type_map)\n",
    "    df.game_mode[df.game_mode == \"Captains Draft\"] = \"Captains Mode\"\n",
    "    df.game_mode[df.game_mode == \"Least Played\"] = \"Random Draft\"\n",
    "    df.game_mode[df.game_mode == \"All Random\"] = \"Random Draft\"\n",
    "    return df"
   ]
  },
  {
   "cell_type": "code",
   "execution_count": 3,
   "metadata": {},
   "outputs": [
    {
     "name": "stderr",
     "output_type": "stream",
     "text": [
      "39675it [01:06, 600.47it/s]\n"
     ]
    }
   ],
   "source": [
    "train_features = []\n",
    "for line in tqdm.tqdm(open('../data/train_matches.jsonl')):\n",
    "    game = json.loads(line)\n",
    "    train_features.append(general_features(game))"
   ]
  },
  {
   "cell_type": "code",
   "execution_count": 4,
   "metadata": {},
   "outputs": [
    {
     "name": "stderr",
     "output_type": "stream",
     "text": [
      "10000it [00:13, 743.00it/s]\n"
     ]
    }
   ],
   "source": [
    "test_features = []\n",
    "for line in tqdm.tqdm(open('../data/test_matches.jsonl')):\n",
    "    game = json.loads(line)\n",
    "    test_features.append(general_features(game))"
   ]
  },
  {
   "cell_type": "code",
   "execution_count": 5,
   "metadata": {},
   "outputs": [],
   "source": [
    "train_features = pd.DataFrame(train_features)\n",
    "test_features = pd.DataFrame(test_features)"
   ]
  },
  {
   "cell_type": "code",
   "execution_count": 6,
   "metadata": {},
   "outputs": [],
   "source": [
    "train_features.to_csv('../features/gen_train.csv', index=False)\n",
    "test_features.to_csv('../features/gen_test.csv', index=False)"
   ]
  }
 ],
 "metadata": {
  "kernelspec": {
   "display_name": "Python 3",
   "language": "python",
   "name": "python3"
  },
  "language_info": {
   "codemirror_mode": {
    "name": "ipython",
    "version": 3
   },
   "file_extension": ".py",
   "mimetype": "text/x-python",
   "name": "python",
   "nbconvert_exporter": "python",
   "pygments_lexer": "ipython3",
   "version": "3.6.8"
  }
 },
 "nbformat": 4,
 "nbformat_minor": 4
}
