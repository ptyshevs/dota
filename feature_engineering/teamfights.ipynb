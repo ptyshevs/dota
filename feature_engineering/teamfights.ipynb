{
 "cells": [
  {
   "cell_type": "code",
   "execution_count": 1,
   "metadata": {},
   "outputs": [],
   "source": [
    "import orjson as json"
   ]
  },
  {
   "cell_type": "code",
   "execution_count": 2,
   "metadata": {},
   "outputs": [],
   "source": [
    "for line in open('../data/train_matches.jsonl'):\n",
    "    game = json.loads(line)\n",
    "    if game['teamfights']:\n",
    "        break"
   ]
  },
  {
   "cell_type": "code",
   "execution_count": 3,
   "metadata": {},
   "outputs": [
    {
     "data": {
      "text/plain": [
       "dict_keys(['game_time', 'match_id_hash', 'teamfights', 'objectives', 'chat', 'game_mode', 'lobby_type', 'players', 'targets'])"
      ]
     },
     "execution_count": 3,
     "metadata": {},
     "output_type": "execute_result"
    }
   ],
   "source": [
    "game.keys()"
   ]
  },
  {
   "cell_type": "code",
   "execution_count": 4,
   "metadata": {},
   "outputs": [
    {
     "data": {
      "text/plain": [
       "2"
      ]
     },
     "execution_count": 4,
     "metadata": {},
     "output_type": "execute_result"
    }
   ],
   "source": [
    "len(game['teamfights'])"
   ]
  },
  {
   "cell_type": "code",
   "execution_count": 5,
   "metadata": {},
   "outputs": [],
   "source": [
    "fight = game['teamfights'][0]"
   ]
  },
  {
   "cell_type": "code",
   "execution_count": 6,
   "metadata": {},
   "outputs": [
    {
     "data": {
      "text/plain": [
       "dict_keys(['start', 'end', 'last_death', 'deaths', 'players'])"
      ]
     },
     "execution_count": 6,
     "metadata": {},
     "output_type": "execute_result"
    }
   ],
   "source": [
    "fight.keys()"
   ]
  },
  {
   "cell_type": "code",
   "execution_count": 7,
   "metadata": {},
   "outputs": [
    {
     "data": {
      "text/plain": [
       "10"
      ]
     },
     "execution_count": 7,
     "metadata": {},
     "output_type": "execute_result"
    }
   ],
   "source": [
    "len(fight['players'])"
   ]
  },
  {
   "cell_type": "code",
   "execution_count": 8,
   "metadata": {},
   "outputs": [
    {
     "data": {
      "text/plain": [
       "(-12.266, 41.209)"
      ]
     },
     "execution_count": 8,
     "metadata": {},
     "output_type": "execute_result"
    }
   ],
   "source": [
    "fight['start'], fight['end']"
   ]
  },
  {
   "cell_type": "code",
   "execution_count": 9,
   "metadata": {},
   "outputs": [
    {
     "name": "stdout",
     "output_type": "stream",
     "text": [
      "4\n",
      "3\n"
     ]
    }
   ],
   "source": [
    "for fight in game['teamfights']:\n",
    "    print(fight['deaths'])"
   ]
  },
  {
   "cell_type": "code",
   "execution_count": 10,
   "metadata": {},
   "outputs": [],
   "source": [
    "players = [p for p in game['players']]\n"
   ]
  },
  {
   "cell_type": "code",
   "execution_count": 11,
   "metadata": {},
   "outputs": [
    {
     "data": {
      "text/plain": [
       "[('r', 'npc_dota_hero_razor'),\n",
       " ('r', 'npc_dota_hero_centaur'),\n",
       " ('r', 'npc_dota_hero_shadow_shaman'),\n",
       " ('r', 'npc_dota_hero_weaver'),\n",
       " ('r', 'npc_dota_hero_naga_siren'),\n",
       " ('d', 'npc_dota_hero_enchantress'),\n",
       " ('d', 'npc_dota_hero_pudge'),\n",
       " ('d', 'npc_dota_hero_antimage'),\n",
       " ('d', 'npc_dota_hero_clinkz'),\n",
       " ('d', 'npc_dota_hero_visage')]"
      ]
     },
     "execution_count": 11,
     "metadata": {},
     "output_type": "execute_result"
    }
   ],
   "source": [
    "[('r' if p['player_slot'] < 128 else 'd',  p['hero_name']) for p in players]"
   ]
  },
  {
   "cell_type": "code",
   "execution_count": 12,
   "metadata": {},
   "outputs": [
    {
     "data": {
      "text/plain": [
       "{'player_slot': 0,\n",
       " 'hero_id': 15,\n",
       " 'hero_name': 'npc_dota_hero_razor',\n",
       " 'account_id_hash': '390104597f914d032c19bfa4afb2859b',\n",
       " 'ability_upgrades': [{'ability': 5083, 'time': 191, 'level': 1},\n",
       "  {'ability': 5084, 'time': 286, 'level': 2},\n",
       "  {'ability': 5083, 'time': 367, 'level': 3},\n",
       "  {'ability': 5084, 'time': 450, 'level': 4},\n",
       "  {'ability': 5083, 'time': 552, 'level': 5},\n",
       "  {'ability': 5085, 'time': 611, 'level': 6}],\n",
       " 'obs_placed': 0,\n",
       " 'sen_placed': 0,\n",
       " 'creeps_stacked': 0,\n",
       " 'camps_stacked': 0,\n",
       " 'rune_pickups': 0,\n",
       " 'firstblood_claimed': 0,\n",
       " 'teamfight_participation': 0.438,\n",
       " 'towers_killed': 0,\n",
       " 'roshans_killed': 0,\n",
       " 'observers_placed': 0,\n",
       " 'stuns': 0,\n",
       " 'max_hero_hit': {'type': 'max_hero_hit',\n",
       "  'time': 538.262,\n",
       "  'max': True,\n",
       "  'inflictor': None,\n",
       "  'unit': 'npc_dota_hero_razor',\n",
       "  'key': 'npc_dota_hero_pudge',\n",
       "  'value': 216,\n",
       "  'slot': 0,\n",
       "  'player_slot': 0},\n",
       " 'times': [0, 60, 120, 180, 240, 300, 360, 420, 480, 540, 600],\n",
       " 'gold_t': [41, 819, 1196, 1467, 1839, 2356, 2812, 3444, 3824, 4438, 4969],\n",
       " 'lh_t': [0, 2, 8, 12, 18, 22, 25, 33, 39, 45, 52],\n",
       " 'dn_t': [0, 0, 1, 5, 5, 7, 7, 7, 7, 7, 7],\n",
       " 'xp_t': [0, 166, 395, 702, 1038, 1497, 1759, 2387, 2821, 3425, 3937],\n",
       " 'obs_log': [],\n",
       " 'sen_log': [],\n",
       " 'obs_left_log': [],\n",
       " 'sen_left_log': [],\n",
       " 'purchase_log': [{'time': -89.781, 'key': 'tpscroll'},\n",
       "  {'time': -70.815, 'key': 'wind_lace'},\n",
       "  {'time': -69.748, 'key': 'tango'},\n",
       "  {'time': -69.015, 'key': 'branches'},\n",
       "  {'time': -68.848, 'key': 'branches'},\n",
       "  {'time': -54.912, 'key': 'slippers'},\n",
       "  {'time': -48.31, 'key': 'enchanted_mango'},\n",
       "  {'time': -45.676, 'key': 'branches'},\n",
       "  {'time': 30.94, 'key': 'magic_wand'},\n",
       "  {'time': 30.94, 'key': 'magic_stick'},\n",
       "  {'time': 129.695, 'key': 'boots'},\n",
       "  {'time': 133.461, 'key': 'blades_of_attack'},\n",
       "  {'time': 133.661, 'key': 'blades_of_attack'},\n",
       "  {'time': 134.561, 'key': 'dust'},\n",
       "  {'time': 220.373, 'key': 'phase_boots'},\n",
       "  {'time': 220.373, 'key': 'boots'},\n",
       "  {'time': 262.063, 'key': 'tango'},\n",
       "  {'time': 262.496, 'key': 'flask'},\n",
       "  {'time': 304.219, 'key': 'tpscroll'},\n",
       "  {'time': 306.685, 'key': 'tpscroll'},\n",
       "  {'time': 419.724, 'key': 'sobi_mask'},\n",
       "  {'time': 419.924, 'key': 'circlet'},\n",
       "  {'time': 420.091, 'key': 'gauntlets'},\n",
       "  {'time': 420.258, 'key': 'bracer'},\n",
       "  {'time': 469.479, 'key': 'ancient_janggo'},\n",
       "  {'time': 622.575, 'key': 'blade_of_alacrity'},\n",
       "  {'time': 624.908, 'key': 'dust'},\n",
       "  {'time': 625.741, 'key': 'tpscroll'}],\n",
       " 'kills_log': [{'time': 2.901, 'key': 'npc_dota_hero_pudge'},\n",
       "  {'time': 15.837, 'key': 'npc_dota_hero_clinkz'},\n",
       "  {'time': 26.106, 'key': 'npc_dota_hero_pudge'},\n",
       "  {'time': 286.257, 'key': 'npc_dota_hero_clinkz'},\n",
       "  {'time': 347.275, 'key': 'npc_dota_hero_pudge'},\n",
       "  {'time': 397.83, 'key': 'npc_dota_hero_pudge'},\n",
       "  {'time': 538.262, 'key': 'npc_dota_hero_pudge'}],\n",
       " 'buyback_log': [],\n",
       " 'runes_log': [],\n",
       " 'obs': {},\n",
       " 'sen': {},\n",
       " 'actions': {'1': 2980,\n",
       "  '2': 23,\n",
       "  '3': 4,\n",
       "  '4': 526,\n",
       "  '5': 2,\n",
       "  '6': 9,\n",
       "  '7': 6,\n",
       "  '8': 39,\n",
       "  '10': 113,\n",
       "  '11': 8,\n",
       "  '12': 4,\n",
       "  '14': 4,\n",
       "  '16': 25,\n",
       "  '17': 3,\n",
       "  '19': 11,\n",
       "  '27': 3,\n",
       "  '33': 113},\n",
       " 'pings': {'0': 16},\n",
       " 'purchase': {'tpscroll': 4,\n",
       "  'wind_lace': 1,\n",
       "  'tango': 2,\n",
       "  'branches': 3,\n",
       "  'slippers': 1,\n",
       "  'enchanted_mango': 1,\n",
       "  'magic_wand': 1,\n",
       "  'magic_stick': 1,\n",
       "  'boots': 2,\n",
       "  'blades_of_attack': 2,\n",
       "  'dust': 2,\n",
       "  'phase_boots': 1,\n",
       "  'flask': 1,\n",
       "  'sobi_mask': 1,\n",
       "  'circlet': 1,\n",
       "  'gauntlets': 1,\n",
       "  'bracer': 1,\n",
       "  'recipe_bracer': 1,\n",
       "  'recipe_ancient_janggo': 1,\n",
       "  'ancient_janggo': 1,\n",
       "  'blade_of_alacrity': 1},\n",
       " 'gold_reasons': {'0': 720,\n",
       "  '1': -294,\n",
       "  '6': 660,\n",
       "  '11': 320,\n",
       "  '12': 1413,\n",
       "  '13': 2407},\n",
       " 'xp_reasons': {'1': 781, '2': 3156},\n",
       " 'killed': {'npc_dota_hero_pudge': 598,\n",
       "  'npc_dota_hero_clinkz': 211,\n",
       "  'npc_dota_creep_badguys_melee': 2751,\n",
       "  'npc_dota_creep_goodguys_ranged': 100,\n",
       "  'npc_dota_creep_badguys_ranged': 1394,\n",
       "  'npc_dota_creep_goodguys_melee': 281,\n",
       "  'npc_dota_badguys_siege': 74},\n",
       " 'item_uses': {'tango': 6,\n",
       "  'phase_boots': 20,\n",
       "  'tpscroll': 2,\n",
       "  'dust': 2,\n",
       "  'magic_wand': 2,\n",
       "  'flask': 1,\n",
       "  'ancient_janggo': 1},\n",
       " 'ability_uses': {'razor_static_link': 8, 'razor_eye_of_the_storm': 1},\n",
       " 'hero_hits': {'null': 42,\n",
       "  'razor_unstable_current': 6,\n",
       "  'centaur_stampede': 1,\n",
       "  'razor_eye_of_the_storm': 4},\n",
       " 'damage': {'npc_dota_hero_pudge': 2298,\n",
       "  'npc_dota_hero_clinkz': 2151,\n",
       "  'npc_dota_creep_goodguys_melee': 719,\n",
       "  'npc_dota_creep_badguys_melee': 10986,\n",
       "  'npc_dota_creep_goodguys_ranged': 149,\n",
       "  'npc_dota_creep_badguys_ranged': 3452,\n",
       "  'npc_dota_neutral_centaur_outrunner': 81,\n",
       "  'npc_dota_badguys_siege': 540,\n",
       "  'npc_dota_badguys_tower1_bot': 184,\n",
       "  'npc_dota_neutral_polar_furbolg_champion': 115,\n",
       "  'npc_dota_hero_enchantress': 100,\n",
       "  'npc_dota_hero_antimage': 107},\n",
       " 'damage_taken': {'npc_dota_hero_pudge': 488,\n",
       "  'npc_dota_hero_clinkz': 1320,\n",
       "  'npc_dota_creep_badguys_ranged': 371,\n",
       "  'npc_dota_creep_badguys_melee': 628,\n",
       "  'npc_dota_badguys_tower1_mid': 609,\n",
       "  'npc_dota_badguys_tower1_bot': 586,\n",
       "  'npc_dota_badguys_tower2_bot': 100,\n",
       "  'npc_dota_neutral_polar_furbolg_champion': 98,\n",
       "  'npc_dota_hero_enchantress': 578,\n",
       "  'npc_dota_hero_antimage': 79},\n",
       " 'damage_inflictor': {'null': 3904,\n",
       "  'razor_unstable_current': 573,\n",
       "  'centaur_stampede': 42,\n",
       "  'razor_eye_of_the_storm': 137},\n",
       " 'runes': {},\n",
       " 'killed_by': {'npc_dota_badguys_tower1_mid': 1,\n",
       "  'npc_dota_hero_enchantress': 1},\n",
       " 'kill_streaks': {'3': 2, '4': 1},\n",
       " 'multi_kills': {'2': 1, '3': 1},\n",
       " 'life_state': {'0': 1230, '1': 14, '2': 72},\n",
       " 'healing': {'npc_dota_hero_razor': 530},\n",
       " 'damage_inflictor_received': {'pudge_rot': 344,\n",
       "  'clinkz_searing_arrows': 526,\n",
       "  'null': 1419,\n",
       "  'enchantress_impetus': 176},\n",
       " 'randomed': False,\n",
       " 'pred_vict': False,\n",
       " 'gold': 5257,\n",
       " 'lh': 52,\n",
       " 'xp': 3937,\n",
       " 'x': 76,\n",
       " 'y': 78,\n",
       " 'hero_inventory': [{'id': 'item_phase_boots', 'cooldown': 0},\n",
       "  {'id': 'item_magic_wand', 'num_charges': 2, 'cooldown': 0},\n",
       "  {'id': 'item_blade_of_alacrity', 'cooldown': 0},\n",
       "  {'id': 'item_tpscroll', 'num_charges': 2, 'cooldown': 6.021},\n",
       "  {'id': 'item_ancient_janggo', 'num_charges': 5, 'cooldown': 0},\n",
       "  {'id': 'item_dust', 'num_charges': 2, 'cooldown': 0}],\n",
       " 'hero_stash': [],\n",
       " 'health': 1160,\n",
       " 'max_health': 1160,\n",
       " 'max_mana': 566.938,\n",
       " 'level': 8,\n",
       " 'kills': 7,\n",
       " 'deaths': 2,\n",
       " 'assists': 0,\n",
       " 'denies': 7,\n",
       " 'nearby_creep_death_count': 79}"
      ]
     },
     "execution_count": 12,
     "metadata": {},
     "output_type": "execute_result"
    }
   ],
   "source": [
    "players[0]"
   ]
  },
  {
   "cell_type": "code",
   "execution_count": 13,
   "metadata": {},
   "outputs": [
    {
     "data": {
      "text/plain": [
       "[{'deaths_pos': {},\n",
       "  'ability_uses': {'razor_static_link': 1, 'razor_eye_of_the_storm': 1},\n",
       "  'item_uses': {'phase_boots': 2, 'flask': 1},\n",
       "  'killed': {'npc_dota_hero_pudge': 216},\n",
       "  'deaths': 0,\n",
       "  'buybacks': 0,\n",
       "  'damage': 1025,\n",
       "  'healing': 395,\n",
       "  'gold_delta': 495,\n",
       "  'xp_delta': 559},\n",
       " {'deaths_pos': {},\n",
       "  'ability_uses': {'centaur_stampede': 1,\n",
       "   'centaur_hoof_stomp': 1,\n",
       "   'centaur_double_edge': 1},\n",
       "  'item_uses': {'soul_ring': 1, 'tango': 2},\n",
       "  'killed': {},\n",
       "  'deaths': 0,\n",
       "  'buybacks': 0,\n",
       "  'damage': 459,\n",
       "  'healing': 0,\n",
       "  'gold_delta': 116,\n",
       "  'xp_delta': 323},\n",
       " {'deaths_pos': {},\n",
       "  'ability_uses': {'shadow_shaman_shackles': 1,\n",
       "   'shadow_shaman_ether_shock': 2,\n",
       "   'shadow_shaman_voodoo': 1},\n",
       "  'item_uses': {'clarity': 1},\n",
       "  'killed': {'npc_dota_hero_antimage': 153},\n",
       "  'deaths': 0,\n",
       "  'buybacks': 0,\n",
       "  'damage': 278,\n",
       "  'healing': 0,\n",
       "  'gold_delta': 354,\n",
       "  'xp_delta': 428},\n",
       " {'deaths_pos': {},\n",
       "  'ability_uses': {'weaver_shukuchi': 1},\n",
       "  'item_uses': {'magic_wand': 1},\n",
       "  'killed': {},\n",
       "  'deaths': 0,\n",
       "  'buybacks': 0,\n",
       "  'damage': 1036,\n",
       "  'healing': 15,\n",
       "  'gold_delta': 263,\n",
       "  'xp_delta': 497},\n",
       " {'deaths_pos': {},\n",
       "  'ability_uses': {'naga_siren_ensnare': 1, 'naga_siren_rip_tide': 1},\n",
       "  'item_uses': {},\n",
       "  'killed': {'npc_dota_hero_enchantress': 63},\n",
       "  'deaths': 0,\n",
       "  'buybacks': 0,\n",
       "  'damage': 204,\n",
       "  'healing': 0,\n",
       "  'gold_delta': 208,\n",
       "  'xp_delta': 210},\n",
       " {'deaths_pos': {},\n",
       "  'ability_uses': {'enchantress_enchant': 1},\n",
       "  'item_uses': {},\n",
       "  'killed': {},\n",
       "  'deaths': 0,\n",
       "  'buybacks': 0,\n",
       "  'damage': 41,\n",
       "  'healing': 0,\n",
       "  'gold_delta': 157,\n",
       "  'xp_delta': 0},\n",
       " {'deaths_pos': {},\n",
       "  'ability_uses': {},\n",
       "  'item_uses': {'tpscroll': 1, 'ward_observer': 2},\n",
       "  'killed': {},\n",
       "  'deaths': 0,\n",
       "  'buybacks': 0,\n",
       "  'damage': 0,\n",
       "  'healing': 0,\n",
       "  'gold_delta': 167,\n",
       "  'xp_delta': 183},\n",
       " {'deaths_pos': {},\n",
       "  'ability_uses': {},\n",
       "  'item_uses': {},\n",
       "  'killed': {},\n",
       "  'deaths': 0,\n",
       "  'buybacks': 0,\n",
       "  'damage': 0,\n",
       "  'healing': 0,\n",
       "  'gold_delta': 150,\n",
       "  'xp_delta': 0},\n",
       " {'deaths_pos': {},\n",
       "  'ability_uses': {'clinkz_wind_walk': 1, 'clinkz_strafe': 1},\n",
       "  'item_uses': {'tango': 1},\n",
       "  'killed': {},\n",
       "  'deaths': 0,\n",
       "  'buybacks': 0,\n",
       "  'damage': 392,\n",
       "  'healing': 0,\n",
       "  'gold_delta': 403,\n",
       "  'xp_delta': 254},\n",
       " {'deaths_pos': {},\n",
       "  'ability_uses': {},\n",
       "  'item_uses': {},\n",
       "  'killed': {},\n",
       "  'deaths': 0,\n",
       "  'buybacks': 0,\n",
       "  'damage': 0,\n",
       "  'healing': 0,\n",
       "  'gold_delta': 482,\n",
       "  'xp_delta': 0}]"
      ]
     },
     "execution_count": 13,
     "metadata": {},
     "output_type": "execute_result"
    }
   ],
   "source": [
    "fight['players']"
   ]
  },
  {
   "cell_type": "code",
   "execution_count": 14,
   "metadata": {},
   "outputs": [],
   "source": [
    "from features import teamfights_features"
   ]
  },
  {
   "cell_type": "code",
   "execution_count": 15,
   "metadata": {},
   "outputs": [
    {
     "data": {
      "text/plain": [
       "{'n_fights': 2, 'mean_time': 45.718, 'mean_deaths': 3.5}"
      ]
     },
     "execution_count": 15,
     "metadata": {},
     "output_type": "execute_result"
    }
   ],
   "source": [
    "teamfights_features(game)"
   ]
  }
 ],
 "metadata": {
  "kernelspec": {
   "display_name": "Python 3",
   "language": "python",
   "name": "python3"
  },
  "language_info": {
   "codemirror_mode": {
    "name": "ipython",
    "version": 3
   },
   "file_extension": ".py",
   "mimetype": "text/x-python",
   "name": "python",
   "nbconvert_exporter": "python",
   "pygments_lexer": "ipython3",
   "version": "3.6.8"
  }
 },
 "nbformat": 4,
 "nbformat_minor": 4
}
