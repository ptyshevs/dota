{
 "cells": [
  {
   "cell_type": "code",
   "execution_count": 1,
   "metadata": {},
   "outputs": [],
   "source": [
    "import orjson as js"
   ]
  },
  {
   "cell_type": "code",
   "execution_count": 2,
   "metadata": {},
   "outputs": [],
   "source": [
    "chats = []\n",
    "slots = []\n",
    "n_games = 10\n",
    "\n",
    "with open('../data/train_matches.jsonl') as fp:\n",
    "    for i in range(n_games):\n",
    "        game = js.loads(fp.readline())\n",
    "        chats.append(game['chat'])\n",
    "        slots.append(game['game_time'])"
   ]
  },
  {
   "cell_type": "code",
   "execution_count": 3,
   "metadata": {},
   "outputs": [
    {
     "data": {
      "text/plain": [
       "dict_keys(['game_time', 'match_id_hash', 'teamfights', 'objectives', 'chat', 'game_mode', 'lobby_type', 'players', 'targets'])"
      ]
     },
     "execution_count": 3,
     "metadata": {},
     "output_type": "execute_result"
    }
   ],
   "source": [
    "game.keys()"
   ]
  },
  {
   "cell_type": "code",
   "execution_count": 4,
   "metadata": {
    "collapsed": true,
    "jupyter": {
     "outputs_hidden": true
    }
   },
   "outputs": [
    {
     "data": {
      "text/plain": [
       "[([{'player_slot': 0, 'time': -13.63, 'text': '???'},\n",
       "   {'player_slot': 0, 'time': -10.964, 'text': '? ???? ??????'},\n",
       "   {'player_slot': 0, 'time': -7.965, 'text': '???????? ????('},\n",
       "   {'player_slot': 4, 'time': 43.756, 'text': '???'},\n",
       "   {'player_slot': 2, 'time': 44.422, 'text': '??? ??????'},\n",
       "   {'player_slot': 4, 'time': 45.289, 'text': '*[*[*['},\n",
       "   {'player_slot': 2, 'time': 46.622, 'text': '????'},\n",
       "   {'player_slot': 4, 'time': 47.355, 'text': '??? ??????'},\n",
       "   {'player_slot': 4, 'time': 48.688, 'text': '????'},\n",
       "   {'player_slot': 2, 'time': 52.021, 'text': '???????? ??? ??????'},\n",
       "   {'player_slot': 4, 'time': 73.349, 'text': '????? ??? ?????'}],\n",
       "  155),\n",
       " ([{'player_slot': 1, 'time': 39.075, 'text': '****'},\n",
       "   {'player_slot': 131, 'time': 501.971, 'text': '*****'},\n",
       "   {'player_slot': 131, 'time': 503.637, 'text': '**'},\n",
       "   {'player_slot': 1, 'time': 589.216, 'text': '??????'},\n",
       "   {'player_slot': 1, 'time': 594.482, 'text': '??? ???????'},\n",
       "   {'player_slot': 1, 'time': 598.014, 'text': '?? ??????????'},\n",
       "   {'player_slot': 1,\n",
       "    'time': 609.811,\n",
       "    'text': '?? ? ??????? ???? ????? * ???? ??????? ??? *? ???? ?????'},\n",
       "   {'player_slot': 1,\n",
       "    'time': 618.276,\n",
       "    'text': '? ?? ????? ??? ? ??? ????? ??????'},\n",
       "   {'player_slot': 1, 'time': 624.275, 'text': '? ??? ??? ???? ??????'},\n",
       "   {'player_slot': 1, 'time': 627.874, 'text': '???? ????'}],\n",
       "  658),\n",
       " ([], 21),\n",
       " ([{'player_slot': 3, 'time': 8.031, 'text': '=??????'},\n",
       "   {'player_slot': 3, 'time': 254.038, 'text': '**'},\n",
       "   {'player_slot': 131, 'time': 260.703, 'text': '****'},\n",
       "   {'player_slot': 131, 'time': 510.442, 'text': '****'}],\n",
       "  576),\n",
       " ([{'player_slot': 128, 'time': -72.858, 'text': '*****'},\n",
       "   {'player_slot': 132,\n",
       "    'time': -51.254,\n",
       "    'text': '***** ****** ******** ******'},\n",
       "   {'player_slot': 128, 'time': -37.924, 'text': '***** **.. '}],\n",
       "  453),\n",
       " ([], 160),\n",
       " ([], 1016),\n",
       " ([{'player_slot': 132, 'time': 397.97, 'text': '|'},\n",
       "   {'player_slot': 132, 'time': 409.5, 'text': '*** **'}],\n",
       "  582),\n",
       " ([{'player_slot': 131, 'time': -23.094, 'text': '.'},\n",
       "   {'player_slot': 131, 'time': -19.828, 'text': '******'},\n",
       "   {'player_slot': 131, 'time': -18.296, 'text': '***** *******'},\n",
       "   {'player_slot': 130, 'time': -14.896, 'text': '*****'},\n",
       "   {'player_slot': 130, 'time': 26.027, 'text': '******'}],\n",
       "  636),\n",
       " ([{'player_slot': 2, 'time': 891.249, 'text': '**'},\n",
       "   {'player_slot': 2, 'time': 891.782, 'text': '**'},\n",
       "   {'player_slot': 2, 'time': 892.315, 'text': '**'},\n",
       "   {'player_slot': 2, 'time': 892.982, 'text': '**'},\n",
       "   {'player_slot': 2, 'time': 895.848, 'text': '* **** ** ****'}],\n",
       "  1054)]"
      ]
     },
     "execution_count": 4,
     "metadata": {},
     "output_type": "execute_result"
    }
   ],
   "source": [
    "# Messages are collected only from the past\n",
    "# Messages are rubbish\n",
    "[(c, s) for c, s in zip(chats,slots)]"
   ]
  },
  {
   "cell_type": "code",
   "execution_count": 5,
   "metadata": {},
   "outputs": [
    {
     "data": {
      "text/plain": [
       "dict_keys(['game_time', 'duration', 'time_remaining', 'radiant_win', 'next_roshan_team'])"
      ]
     },
     "execution_count": 5,
     "metadata": {},
     "output_type": "execute_result"
    }
   ],
   "source": [
    "game['targets'].keys()"
   ]
  },
  {
   "cell_type": "code",
   "execution_count": 6,
   "metadata": {},
   "outputs": [
    {
     "name": "stdout",
     "output_type": "stream",
     "text": [
      "dict_keys(['game_time', 'match_id_hash', 'teamfights', 'objectives', 'chat', 'game_mode', 'lobby_type', 'players'])\n"
     ]
    },
    {
     "data": {
      "text/plain": [
       "[{'player_slot': 1, 'time': -25.161, 'text': '**** ***?'},\n",
       " {'player_slot': 129, 'time': -25.161, 'text': '*****?*'},\n",
       " {'player_slot': 130, 'time': -25.161, 'text': '** * **?'},\n",
       " {'player_slot': 4, 'time': -25.161, 'text': '****'},\n",
       " {'player_slot': 3, 'time': -25.161, 'text': '** ****'},\n",
       " {'player_slot': 129, 'time': -25.161, 'text': '****** ****'}]"
      ]
     },
     "execution_count": 6,
     "metadata": {},
     "output_type": "execute_result"
    }
   ],
   "source": [
    "with open('../data/test_matches.jsonl') as fp:\n",
    "    \n",
    "    test_game = js.loads(fp.readline())\n",
    "    while not test_game['chat']:\n",
    "        test_game = js.loads(fp.readline())\n",
    "print(test_game.keys())\n",
    "test_game['chat']"
   ]
  },
  {
   "cell_type": "code",
   "execution_count": 7,
   "metadata": {},
   "outputs": [],
   "source": [
    "from features import chat_features"
   ]
  },
  {
   "cell_type": "code",
   "execution_count": 8,
   "metadata": {},
   "outputs": [
    {
     "data": {
      "text/plain": [
       "{'chat_len': 5,\n",
       " 'r_chat_msg': 5,\n",
       " 'd_chat_msg': 0,\n",
       " 'r1_chat_msg': 0,\n",
       " 'r2_chat_msg': 0,\n",
       " 'r3_chat_msg': 5,\n",
       " 'r4_chat_msg': 0,\n",
       " 'r5_chat_msg': 0,\n",
       " 'd1_chat_msg': 0,\n",
       " 'd2_chat_msg': 0,\n",
       " 'd3_chat_msg': 0,\n",
       " 'd4_chat_msg': 0,\n",
       " 'd5_chat_msg': 0}"
      ]
     },
     "execution_count": 8,
     "metadata": {},
     "output_type": "execute_result"
    }
   ],
   "source": [
    "chat_features(game)"
   ]
  },
  {
   "cell_type": "code",
   "execution_count": 9,
   "metadata": {},
   "outputs": [
    {
     "data": {
      "text/plain": [
       "{'chat_len': 6,\n",
       " 'r_chat_msg': 3,\n",
       " 'd_chat_msg': 3,\n",
       " 'r1_chat_msg': 0,\n",
       " 'r2_chat_msg': 1,\n",
       " 'r3_chat_msg': 0,\n",
       " 'r4_chat_msg': 1,\n",
       " 'r5_chat_msg': 1,\n",
       " 'd1_chat_msg': 0,\n",
       " 'd2_chat_msg': 2,\n",
       " 'd3_chat_msg': 1,\n",
       " 'd4_chat_msg': 0,\n",
       " 'd5_chat_msg': 0}"
      ]
     },
     "execution_count": 9,
     "metadata": {},
     "output_type": "execute_result"
    }
   ],
   "source": [
    "chat_features(test_game)"
   ]
  }
 ],
 "metadata": {
  "kernelspec": {
   "display_name": "Python 3",
   "language": "python",
   "name": "python3"
  },
  "language_info": {
   "codemirror_mode": {
    "name": "ipython",
    "version": 3
   },
   "file_extension": ".py",
   "mimetype": "text/x-python",
   "name": "python",
   "nbconvert_exporter": "python",
   "pygments_lexer": "ipython3",
   "version": "3.6.8"
  }
 },
 "nbformat": 4,
 "nbformat_minor": 4
}
