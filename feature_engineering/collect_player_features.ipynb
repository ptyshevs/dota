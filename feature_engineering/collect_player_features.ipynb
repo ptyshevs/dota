{
 "cells": [
  {
   "cell_type": "code",
   "execution_count": 1,
   "metadata": {},
   "outputs": [],
   "source": [
    "import orjson as json"
   ]
  },
  {
   "cell_type": "code",
   "execution_count": 2,
   "metadata": {},
   "outputs": [],
   "source": [
    "for line in open(\"../data/train_matches.jsonl\"):\n",
    "    game = json.loads(line)\n",
    "    for player in game['players']:\n",
    "        break\n",
    "    break"
   ]
  },
  {
   "cell_type": "code",
   "execution_count": 3,
   "metadata": {},
   "outputs": [],
   "source": [
    "from features import *\n",
    "from mappings import slot_hero\n",
    "\n",
    "def player_features(game, player):\n",
    "    prefix = slot_hero[player['player_slot']]\n",
    "    features = {**log_features(player), **dt_features(game, player),\n",
    "            **pos_features(player), **action_features(player),\n",
    "            **life_state_features(game, player), **gold_features(player),\n",
    "           **xp_features(player), **purchase_features(player),\n",
    "           **hero_features(player),  **main_player_features(player)}\n",
    "    \n",
    "    return {f'{prefix}_{key}': value for key, value in features.items()}"
   ]
  },
  {
   "cell_type": "code",
   "execution_count": 4,
   "metadata": {},
   "outputs": [],
   "source": [
    "def game_features(game):\n",
    "    features = {**chat_features(game), **objectives_features(game),\n",
    "                **general_features(game), **teamfights_features(game),\n",
    "                **team_items_features(game), **team_kill_streaks_features(game),\n",
    "               **team_lineups(game)}\n",
    "    for p in game['players']:\n",
    "        features.update(player_features(game, p))\n",
    "    return features"
   ]
  },
  {
   "cell_type": "code",
   "execution_count": 5,
   "metadata": {},
   "outputs": [],
   "source": [
    "f = player_features(game, player)"
   ]
  },
  {
   "cell_type": "code",
   "execution_count": 6,
   "metadata": {},
   "outputs": [],
   "source": [
    "total_f = game_features(game)"
   ]
  },
  {
   "cell_type": "code",
   "execution_count": 19,
   "metadata": {},
   "outputs": [],
   "source": [
    "categorical_columns = [k for k in total_f if k.endswith('first_blood') or k.endswith('lane') or\n",
    "    k in ['game_mode', 'lobby_type', 'game_phase'] or k[2:] in heroes_tags or\n",
    "    'role' in k or 'complexity' in k or 'attribute' in k or 'attack_type' in k or 'tag' in k\n",
    "    ]"
   ]
  },
  {
   "cell_type": "code",
   "execution_count": 22,
   "metadata": {},
   "outputs": [
    {
     "name": "stdout",
     "output_type": "stream",
     "text": [
      "['r_first_blood', 'd_first_blood', 'game_mode', 'lobby_type', 'game_phase', 'r_nevermore', 'r_brewmaster', 'r_pudge', 'r_huskar', 'r_lycan', 'r_phantom_lancer', 'r_windrunner', 'r_night_stalker', 'r_ogre_magi', 'r_tinker', 'r_razor', 'r_centaur', 'r_shadow_shaman', 'r_weaver', 'r_naga_siren', 'r_enchantress', 'r_antimage', 'r_clinkz', 'r_visage', 'r_skywrath_mage', 'r_rattletrap', 'r_phantom_assassin', 'r_dragon_knight', 'r_furion', 'r_sven', 'r_spectre', 'r_viper', 'r_venomancer', 'r_storm_spirit', 'r_bristleback', 'r_lion', 'r_faceless_void', 'r_shredder', 'r_juggernaut', 'r_doom_bringer', 'r_rubick', 'r_skeleton_king', 'r_legion_commander', 'r_batrider', 'r_kunkka', 'r_zuus', 'r_sniper', 'r_gyrocopter', 'r_omniknight', 'r_morphling', 'r_chaos_knight', 'r_dark_willow', 'r_luna', 'r_ancient_apparition', 'r_abaddon', 'r_spirit_breaker', 'r_abyssal_underlord', 'r_keeper_of_the_light', 'r_wisp', 'r_monkey_king', 'r_dazzle', 'r_invoker', 'r_slark', 'r_silencer', 'r_obsidian_destroyer', 'r_bane', 'r_bounty_hunter', 'r_witch_doctor', 'r_lone_druid', 'r_bloodseeker', 'r_drow_ranger', 'r_slardar', 'r_troll_warlord', 'r_broodmother', 'r_axe', 'r_elder_titan', 'r_medusa', 'r_disruptor', 'r_phoenix', 'r_tidehunter', 'r_lina', 'r_techies', 'r_mirana', 'r_life_stealer', 'r_riki', 'r_oracle', 'r_pangolier', 'r_ursa', 'r_tiny', 'r_queenofpain', 'r_alchemist', 'r_winter_wyvern', 'r_treant', 'r_puck', 'r_shadow_demon', 'r_lich', 'r_necrolyte', 'r_crystal_maiden', 'r_tusk', 'r_jakiro', 'r_ember_spirit', 'r_sand_king', 'r_nyx_assassin', 'r_terrorblade', 'r_earthshaker', 'r_vengefulspirit', 'r_magnataur', 'r_warlock', 'r_pugna', 'r_earth_spirit', 'r_arc_warden', 'r_meepo', 'r_death_prophet', 'r_templar_assassin', 'r_enigma', 'r_undying', 'r_leshrac', 'r_dark_seer', 'r_beastmaster', 'r_chen', 'd_nevermore', 'd_brewmaster', 'd_pudge', 'd_huskar', 'd_lycan', 'd_phantom_lancer', 'd_windrunner', 'd_night_stalker', 'd_ogre_magi', 'd_tinker', 'd_razor', 'd_centaur', 'd_shadow_shaman', 'd_weaver', 'd_naga_siren', 'd_enchantress', 'd_antimage', 'd_clinkz', 'd_visage', 'd_skywrath_mage', 'd_rattletrap', 'd_phantom_assassin', 'd_dragon_knight', 'd_furion', 'd_sven', 'd_spectre', 'd_viper', 'd_venomancer', 'd_storm_spirit', 'd_bristleback', 'd_lion', 'd_faceless_void', 'd_shredder', 'd_juggernaut', 'd_doom_bringer', 'd_rubick', 'd_skeleton_king', 'd_legion_commander', 'd_batrider', 'd_kunkka', 'd_zuus', 'd_sniper', 'd_gyrocopter', 'd_omniknight', 'd_morphling', 'd_chaos_knight', 'd_dark_willow', 'd_luna', 'd_ancient_apparition', 'd_abaddon', 'd_spirit_breaker', 'd_abyssal_underlord', 'd_keeper_of_the_light', 'd_wisp', 'd_monkey_king', 'd_dazzle', 'd_invoker', 'd_slark', 'd_silencer', 'd_obsidian_destroyer', 'd_bane', 'd_bounty_hunter', 'd_witch_doctor', 'd_lone_druid', 'd_bloodseeker', 'd_drow_ranger', 'd_slardar', 'd_troll_warlord', 'd_broodmother', 'd_axe', 'd_elder_titan', 'd_medusa', 'd_disruptor', 'd_phoenix', 'd_tidehunter', 'd_lina', 'd_techies', 'd_mirana', 'd_life_stealer', 'd_riki', 'd_oracle', 'd_pangolier', 'd_ursa', 'd_tiny', 'd_queenofpain', 'd_alchemist', 'd_winter_wyvern', 'd_treant', 'd_puck', 'd_shadow_demon', 'd_lich', 'd_necrolyte', 'd_crystal_maiden', 'd_tusk', 'd_jakiro', 'd_ember_spirit', 'd_sand_king', 'd_nyx_assassin', 'd_terrorblade', 'd_earthshaker', 'd_vengefulspirit', 'd_magnataur', 'd_warlock', 'd_pugna', 'd_earth_spirit', 'd_arc_warden', 'd_meepo', 'd_death_prophet', 'd_templar_assassin', 'd_enigma', 'd_undying', 'd_leshrac', 'd_dark_seer', 'd_beastmaster', 'd_chen', 'r1_lane', 'r1_role_Initiator_lvl', 'r1_role_Disabler_lvl', 'r1_role_Durable_lvl', 'r1_role_Nuker_lvl', 'r1_role_Carry_lvl', 'r1_role_Pusher_lvl', 'r1_role_Escape_lvl', 'r1_role_Jungler_lvl', 'r1_role_Support_lvl', 'r1_complexity', 'r1_attack_type', 'r1_attribute', 'r1_hero_tag', 'r2_lane', 'r2_role_Initiator_lvl', 'r2_role_Disabler_lvl', 'r2_role_Durable_lvl', 'r2_role_Nuker_lvl', 'r2_role_Carry_lvl', 'r2_role_Pusher_lvl', 'r2_role_Escape_lvl', 'r2_role_Jungler_lvl', 'r2_role_Support_lvl', 'r2_complexity', 'r2_attack_type', 'r2_attribute', 'r2_hero_tag', 'r3_lane', 'r3_role_Initiator_lvl', 'r3_role_Disabler_lvl', 'r3_role_Durable_lvl', 'r3_role_Nuker_lvl', 'r3_role_Carry_lvl', 'r3_role_Pusher_lvl', 'r3_role_Escape_lvl', 'r3_role_Jungler_lvl', 'r3_role_Support_lvl', 'r3_complexity', 'r3_attack_type', 'r3_attribute', 'r3_hero_tag', 'r4_lane', 'r4_role_Initiator_lvl', 'r4_role_Disabler_lvl', 'r4_role_Durable_lvl', 'r4_role_Nuker_lvl', 'r4_role_Carry_lvl', 'r4_role_Pusher_lvl', 'r4_role_Escape_lvl', 'r4_role_Jungler_lvl', 'r4_role_Support_lvl', 'r4_complexity', 'r4_attack_type', 'r4_attribute', 'r4_hero_tag', 'r5_lane', 'r5_role_Initiator_lvl', 'r5_role_Disabler_lvl', 'r5_role_Durable_lvl', 'r5_role_Nuker_lvl', 'r5_role_Carry_lvl', 'r5_role_Pusher_lvl', 'r5_role_Escape_lvl', 'r5_role_Jungler_lvl', 'r5_role_Support_lvl', 'r5_complexity', 'r5_attack_type', 'r5_attribute', 'r5_hero_tag', 'd1_lane', 'd1_role_Initiator_lvl', 'd1_role_Disabler_lvl', 'd1_role_Durable_lvl', 'd1_role_Nuker_lvl', 'd1_role_Carry_lvl', 'd1_role_Pusher_lvl', 'd1_role_Escape_lvl', 'd1_role_Jungler_lvl', 'd1_role_Support_lvl', 'd1_complexity', 'd1_attack_type', 'd1_attribute', 'd1_hero_tag', 'd2_lane', 'd2_role_Initiator_lvl', 'd2_role_Disabler_lvl', 'd2_role_Durable_lvl', 'd2_role_Nuker_lvl', 'd2_role_Carry_lvl', 'd2_role_Pusher_lvl', 'd2_role_Escape_lvl', 'd2_role_Jungler_lvl', 'd2_role_Support_lvl', 'd2_complexity', 'd2_attack_type', 'd2_attribute', 'd2_hero_tag', 'd3_lane', 'd3_role_Initiator_lvl', 'd3_role_Disabler_lvl', 'd3_role_Durable_lvl', 'd3_role_Nuker_lvl', 'd3_role_Carry_lvl', 'd3_role_Pusher_lvl', 'd3_role_Escape_lvl', 'd3_role_Jungler_lvl', 'd3_role_Support_lvl', 'd3_complexity', 'd3_attack_type', 'd3_attribute', 'd3_hero_tag', 'd4_lane', 'd4_role_Initiator_lvl', 'd4_role_Disabler_lvl', 'd4_role_Durable_lvl', 'd4_role_Nuker_lvl', 'd4_role_Carry_lvl', 'd4_role_Pusher_lvl', 'd4_role_Escape_lvl', 'd4_role_Jungler_lvl', 'd4_role_Support_lvl', 'd4_complexity', 'd4_attack_type', 'd4_attribute', 'd4_hero_tag', 'd5_lane', 'd5_role_Initiator_lvl', 'd5_role_Disabler_lvl', 'd5_role_Durable_lvl', 'd5_role_Nuker_lvl', 'd5_role_Carry_lvl', 'd5_role_Pusher_lvl', 'd5_role_Escape_lvl', 'd5_role_Jungler_lvl', 'd5_role_Support_lvl', 'd5_complexity', 'd5_attack_type', 'd5_attribute', 'd5_hero_tag']\n"
     ]
    }
   ],
   "source": [
    "print(categorical_columns)"
   ]
  },
  {
   "cell_type": "code",
   "execution_count": 18,
   "metadata": {},
   "outputs": [
    {
     "data": {
      "text/plain": [
       "1851"
      ]
     },
     "execution_count": 18,
     "metadata": {},
     "output_type": "execute_result"
    }
   ],
   "source": [
    "len(total_f)"
   ]
  }
 ],
 "metadata": {
  "kernelspec": {
   "display_name": "Python 3",
   "language": "python",
   "name": "python3"
  },
  "language_info": {
   "codemirror_mode": {
    "name": "ipython",
    "version": 3
   },
   "file_extension": ".py",
   "mimetype": "text/x-python",
   "name": "python",
   "nbconvert_exporter": "python",
   "pygments_lexer": "ipython3",
   "version": "3.7.5"
  }
 },
 "nbformat": 4,
 "nbformat_minor": 4
}
