{
 "cells": [
  {
   "cell_type": "code",
   "execution_count": 1,
   "metadata": {},
   "outputs": [],
   "source": [
    "import orjson as json\n",
    "import numpy as np\n",
    "import pandas as pd\n",
    "import tqdm\n",
    "from mappings import slot_hero\n",
    "from features import objectives_features"
   ]
  },
  {
   "cell_type": "code",
   "execution_count": 2,
   "metadata": {},
   "outputs": [
    {
     "name": "stdout",
     "output_type": "stream",
     "text": [
      "[{'time': 124.203, 'type': 'CHAT_MESSAGE_FIRSTBLOOD', 'slot': 8, 'key': 2, 'player_slot': 131}]\n",
      "[{'time': 2.701, 'type': 'CHAT_MESSAGE_FIRSTBLOOD', 'slot': 6, 'key': 2, 'player_slot': 129}, {'time': 579.685, 'type': 'CHAT_MESSAGE_TOWER_KILL', 'team': 2, 'slot': 4, 'player_slot': 4}, {'time': 652.601, 'type': 'CHAT_MESSAGE_TOWER_KILL', 'team': 2, 'slot': -1}]\n",
      "[]\n",
      "[{'time': 154.262, 'type': 'CHAT_MESSAGE_FIRSTBLOOD', 'slot': 2, 'key': 6, 'player_slot': 2}]\n",
      "[{'time': -10.997, 'type': 'CHAT_MESSAGE_FIRSTBLOOD', 'slot': 1, 'key': 9, 'player_slot': 1}]\n",
      "[]\n",
      "[{'time': 78.647, 'type': 'CHAT_MESSAGE_FIRSTBLOOD', 'slot': 4, 'key': 8, 'player_slot': 4}]\n"
     ]
    }
   ],
   "source": [
    "for i, line in enumerate(open('../data/train_matches.jsonl')):\n",
    "    game = json.loads(line)\n",
    "    print(game['objectives'])\n",
    "    if i > 5:\n",
    "        break"
   ]
  },
  {
   "cell_type": "code",
   "execution_count": 3,
   "metadata": {},
   "outputs": [
    {
     "name": "stdout",
     "output_type": "stream",
     "text": [
      "# of aegis events: 2 [{'time': 17.862, 'type': 'CHAT_MESSAGE_FIRSTBLOOD', 'slot': 8, 'key': 1, 'player_slot': 131}, {'time': 573.593, 'type': 'CHAT_MESSAGE_TOWER_KILL', 'team': 2, 'slot': 2, 'player_slot': 2}, {'time': 828.531, 'type': 'CHAT_MESSAGE_TOWER_KILL', 'team': 3, 'slot': 8, 'player_slot': 131}, {'time': 967.63, 'type': 'CHAT_MESSAGE_TOWER_KILL', 'team': 2, 'slot': 2, 'player_slot': 2}, {'time': 1010.353, 'type': 'CHAT_MESSAGE_TOWER_KILL', 'team': 3, 'slot': 8, 'player_slot': 131}, {'time': 1010.487, 'type': 'CHAT_MESSAGE_TOWER_KILL', 'team': 2, 'slot': -1}, {'time': 1186.577, 'type': 'CHAT_MESSAGE_TOWER_KILL', 'team': 2, 'slot': -1}, {'time': 1191.043, 'type': 'CHAT_MESSAGE_TOWER_KILL', 'team': 3, 'slot': 8, 'player_slot': 131}, {'time': 1281.42, 'type': 'CHAT_MESSAGE_ROSHAN_KILL', 'team': 2}, {'time': 1281.62, 'type': 'CHAT_MESSAGE_AEGIS', 'slot': 2, 'player_slot': 2}, {'time': 1382.196, 'type': 'CHAT_MESSAGE_TOWER_KILL', 'team': 2, 'slot': 2, 'player_slot': 2}, {'time': 1642.932, 'type': 'CHAT_MESSAGE_TOWER_KILL', 'team': 2, 'slot': -1}, {'time': 1914.377, 'type': 'CHAT_MESSAGE_TOWER_KILL', 'team': 3, 'slot': 9, 'player_slot': 132}, {'time': 2027.362, 'type': 'CHAT_MESSAGE_ROSHAN_KILL', 'team': 3}, {'time': 2028.767, 'type': 'CHAT_MESSAGE_AEGIS', 'slot': 8, 'player_slot': 131}, {'time': 2083.085, 'type': 'CHAT_MESSAGE_TOWER_KILL', 'team': 2, 'slot': 2, 'player_slot': 2}]\n"
     ]
    }
   ],
   "source": [
    "objective_types = []\n",
    "team = []\n",
    "player = []\n",
    "for i, line in enumerate(open('../data/train_matches.jsonl')):\n",
    "    game = json.loads(line)\n",
    "    cnt_aegis = 0\n",
    "    for obj in game['objectives']:\n",
    "        objective_types.append(obj['type'])\n",
    "        team.append(obj.get('team', None))\n",
    "        player.append(slot_hero[obj['player_slot']] if 'player_slot' in obj else None)\n",
    "        if obj['type'] == 'CHAT_MESSAGE_AEGIS':\n",
    "            cnt_aegis += 1\n",
    "    if cnt_aegis > 1:\n",
    "        print(\"# of aegis events:\", cnt_aegis, game['objectives'])\n",
    "        break"
   ]
  },
  {
   "cell_type": "code",
   "execution_count": 4,
   "metadata": {},
   "outputs": [],
   "source": [
    "for i, line in enumerate(open('../data/test_matches.jsonl')):\n",
    "    game = json.loads(line)\n",
    "    for obj in game['objectives']:\n",
    "        objective_types.append(obj['type'])\n",
    "        team.append(obj.get('team', None))\n",
    "        player.append(slot_hero[obj['player_slot']] if 'player_slot' in obj else None)\n",
    "        break\n",
    "    break"
   ]
  },
  {
   "cell_type": "code",
   "execution_count": 5,
   "metadata": {},
   "outputs": [],
   "source": [
    "df = pd.DataFrame(np.array([objective_types, team, player]).T, columns=['objective_type', 'team', 'player'])"
   ]
  },
  {
   "cell_type": "code",
   "execution_count": 6,
   "metadata": {},
   "outputs": [
    {
     "data": {
      "text/html": [
       "<div>\n",
       "<style scoped>\n",
       "    .dataframe tbody tr th:only-of-type {\n",
       "        vertical-align: middle;\n",
       "    }\n",
       "\n",
       "    .dataframe tbody tr th {\n",
       "        vertical-align: top;\n",
       "    }\n",
       "\n",
       "    .dataframe thead th {\n",
       "        text-align: right;\n",
       "    }\n",
       "</style>\n",
       "<table border=\"1\" class=\"dataframe\">\n",
       "  <thead>\n",
       "    <tr style=\"text-align: right;\">\n",
       "      <th></th>\n",
       "      <th>objective_type</th>\n",
       "      <th>team</th>\n",
       "      <th>player</th>\n",
       "    </tr>\n",
       "  </thead>\n",
       "  <tbody>\n",
       "    <tr>\n",
       "      <td>0</td>\n",
       "      <td>CHAT_MESSAGE_FIRSTBLOOD</td>\n",
       "      <td>None</td>\n",
       "      <td>d4</td>\n",
       "    </tr>\n",
       "    <tr>\n",
       "      <td>1</td>\n",
       "      <td>CHAT_MESSAGE_FIRSTBLOOD</td>\n",
       "      <td>None</td>\n",
       "      <td>d2</td>\n",
       "    </tr>\n",
       "    <tr>\n",
       "      <td>2</td>\n",
       "      <td>CHAT_MESSAGE_TOWER_KILL</td>\n",
       "      <td>2</td>\n",
       "      <td>r5</td>\n",
       "    </tr>\n",
       "    <tr>\n",
       "      <td>3</td>\n",
       "      <td>CHAT_MESSAGE_TOWER_KILL</td>\n",
       "      <td>2</td>\n",
       "      <td>None</td>\n",
       "    </tr>\n",
       "    <tr>\n",
       "      <td>4</td>\n",
       "      <td>CHAT_MESSAGE_FIRSTBLOOD</td>\n",
       "      <td>None</td>\n",
       "      <td>r3</td>\n",
       "    </tr>\n",
       "  </tbody>\n",
       "</table>\n",
       "</div>"
      ],
      "text/plain": [
       "            objective_type  team player\n",
       "0  CHAT_MESSAGE_FIRSTBLOOD  None     d4\n",
       "1  CHAT_MESSAGE_FIRSTBLOOD  None     d2\n",
       "2  CHAT_MESSAGE_TOWER_KILL     2     r5\n",
       "3  CHAT_MESSAGE_TOWER_KILL     2   None\n",
       "4  CHAT_MESSAGE_FIRSTBLOOD  None     r3"
      ]
     },
     "execution_count": 6,
     "metadata": {},
     "output_type": "execute_result"
    }
   ],
   "source": [
    "df.head()"
   ]
  },
  {
   "cell_type": "code",
   "execution_count": 7,
   "metadata": {},
   "outputs": [
    {
     "data": {
      "text/plain": [
       "objective_type\n",
       "CHAT_MESSAGE_AEGIS             2\n",
       "CHAT_MESSAGE_BARRACKS_KILL     2\n",
       "CHAT_MESSAGE_FIRSTBLOOD       15\n",
       "CHAT_MESSAGE_ROSHAN_KILL       2\n",
       "CHAT_MESSAGE_TOWER_KILL       55\n",
       "dtype: int64"
      ]
     },
     "execution_count": 7,
     "metadata": {},
     "output_type": "execute_result"
    }
   ],
   "source": [
    "# ~ 4k games don't have firstblood at the time of data colection\n",
    "df.groupby('objective_type').size()"
   ]
  },
  {
   "cell_type": "code",
   "execution_count": 8,
   "metadata": {},
   "outputs": [
    {
     "data": {
      "text/plain": [
       "dict_keys(['time', 'type', 'team', 'slot', 'player_slot'])"
      ]
     },
     "execution_count": 8,
     "metadata": {},
     "output_type": "execute_result"
    }
   ],
   "source": [
    "obj.keys()"
   ]
  },
  {
   "cell_type": "code",
   "execution_count": 9,
   "metadata": {},
   "outputs": [
    {
     "data": {
      "text/plain": [
       "[]"
      ]
     },
     "execution_count": 9,
     "metadata": {},
     "output_type": "execute_result"
    }
   ],
   "source": [
    "game['objectives']"
   ]
  },
  {
   "cell_type": "code",
   "execution_count": 10,
   "metadata": {},
   "outputs": [
    {
     "name": "stderr",
     "output_type": "stream",
     "text": [
      "39675it [01:12, 546.70it/s]\n"
     ]
    }
   ],
   "source": [
    "train_objectives = []\n",
    "for i, line in tqdm.tqdm(enumerate(open('../data/train_matches.jsonl'))):\n",
    "    game = json.loads(line)\n",
    "    train_objectives.append(objectives_features(game))"
   ]
  },
  {
   "cell_type": "code",
   "execution_count": 11,
   "metadata": {},
   "outputs": [
    {
     "name": "stderr",
     "output_type": "stream",
     "text": [
      "10000it [00:18, 552.89it/s]\n"
     ]
    }
   ],
   "source": [
    "test_objectives = []\n",
    "for i, line in tqdm.tqdm(enumerate(open('../data/test_matches.jsonl'))):\n",
    "    game = json.loads(line)\n",
    "    test_objectives.append(objectives_features(game))"
   ]
  },
  {
   "cell_type": "code",
   "execution_count": 12,
   "metadata": {},
   "outputs": [],
   "source": [
    "train_features = pd.DataFrame(train_objectives)\n",
    "test_features = pd.DataFrame(test_objectives)"
   ]
  },
  {
   "cell_type": "code",
   "execution_count": 13,
   "metadata": {},
   "outputs": [],
   "source": [
    "train_features.to_csv('../features/objectives_train.csv', index=False)\n",
    "test_features.to_csv('../features/objectives_test.csv', index=False)"
   ]
  }
 ],
 "metadata": {
  "kernelspec": {
   "display_name": "Python 3",
   "language": "python",
   "name": "python3"
  },
  "language_info": {
   "codemirror_mode": {
    "name": "ipython",
    "version": 3
   },
   "file_extension": ".py",
   "mimetype": "text/x-python",
   "name": "python",
   "nbconvert_exporter": "python",
   "pygments_lexer": "ipython3",
   "version": "3.6.2"
  }
 },
 "nbformat": 4,
 "nbformat_minor": 4
}
