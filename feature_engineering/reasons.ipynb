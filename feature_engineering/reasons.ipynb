{
 "cells": [
  {
   "cell_type": "code",
   "execution_count": 1,
   "metadata": {},
   "outputs": [],
   "source": [
    "import pandas as pd\n",
    "import orjson as json"
   ]
  },
  {
   "cell_type": "code",
   "execution_count": 13,
   "metadata": {},
   "outputs": [
    {
     "name": "stdout",
     "output_type": "stream",
     "text": [
      "155\n",
      "2 0 543 {'0': 600, '13': 308} [1, 91, 356]\n",
      "2 0 399 {'0': 600, '13': 164} [1, 91, 262]\n",
      "1 1 304 {'0': 669, '1': -67} [1, 91, 182]\n",
      "2 0 389 {'0': 600, '13': 154} [1, 169, 260]\n",
      "2 0 402 {'0': 600, '13': 167} [1, 91, 281]\n",
      "3 0 982 {'0': 760, '12': 34, '13': 553} [1, 331, 738]\n",
      "3 0 788 {'0': 760, '13': 393} [1, 251, 561]\n",
      "2 0 531 {'0': 896} [1, 251, 342]\n",
      "2 0 796 {'0': 829, '12': 332} [1, 251, 342]\n",
      "3 0 851 {'0': 760, '13': 456} [1, 425, 680]\n"
     ]
    }
   ],
   "source": [
    "for line in open('../data/train_matches.jsonl'):\n",
    "    game = json.loads(line)\n",
    "    print(game['game_time'])\n",
    "    for player in game['players']:\n",
    "        print(player['level'], player['deaths'], player['gold'], player['gold_reasons'], player['gold_t'])\n",
    "    break"
   ]
  },
  {
   "cell_type": "code",
   "execution_count": 27,
   "metadata": {},
   "outputs": [
    {
     "name": "stdout",
     "output_type": "stream",
     "text": [
      "155\n",
      "2 0 533 {'2': 533}\n",
      "2 0 478 {'2': 478}\n",
      "1 1 130 {'2': 130}\n",
      "2 0 506 {'2': 506}\n",
      "2 0 344 {'2': 344}\n",
      "3 0 780 {'1': 30, '2': 750}\n",
      "3 0 706 {'2': 706}\n",
      "2 0 307 {'2': 307}\n",
      "2 0 421 {'1': 30, '2': 391}\n",
      "3 0 870 {'2': 870}\n"
     ]
    }
   ],
   "source": [
    "for line in open('../data/train_matches.jsonl'):\n",
    "    game = json.loads(line)\n",
    "    print(game['game_time'])\n",
    "    for player in game['players']:\n",
    "        print(player['level'], player['deaths'], player['xp'], player['xp_reasons'])\n",
    "    break"
   ]
  },
  {
   "cell_type": "code",
   "execution_count": 5,
   "metadata": {},
   "outputs": [
    {
     "data": {
      "text/plain": [
       "(543, {'0': 600, '13': 308})"
      ]
     },
     "execution_count": 5,
     "metadata": {},
     "output_type": "execute_result"
    }
   ],
   "source": [
    "player['gold'], player['gold_reasons']"
   ]
  },
  {
   "cell_type": "code",
   "execution_count": 14,
   "metadata": {},
   "outputs": [],
   "source": [
    "unique_gold_reasons = dict()\n",
    "for file in ['../data/train_matches.jsonl', '../data/test_matches.jsonl']:\n",
    "    for line in open(file):\n",
    "        game = json.loads(line)\n",
    "        for p in game['players']:\n",
    "            for gr, v in p['gold_reasons'].items():\n",
    "                if gr in unique_gold_reasons:\n",
    "                    unique_gold_reasons[gr] += v\n",
    "                else:\n",
    "                    unique_gold_reasons[gr] = v"
   ]
  },
  {
   "cell_type": "code",
   "execution_count": 19,
   "metadata": {},
   "outputs": [
    {
     "data": {
      "text/plain": [
       "[0, 1, 2, 5, 6, 11, 12, 13, 14, 15]"
      ]
     },
     "execution_count": 19,
     "metadata": {},
     "output_type": "execute_result"
    }
   ],
   "source": [
    "sorted(list(map(int, unique_gold_reasons.keys())))"
   ]
  },
  {
   "cell_type": "code",
   "execution_count": 16,
   "metadata": {},
   "outputs": [
    {
     "data": {
      "text/plain": [
       "[('0', 9),\n",
       " ('13', 10),\n",
       " ('1', 10),\n",
       " ('12', 9),\n",
       " ('6', 8),\n",
       " ('11', 9),\n",
       " ('5', 7),\n",
       " ('2', 9),\n",
       " ('15', 7),\n",
       " ('14', 8)]"
      ]
     },
     "execution_count": 16,
     "metadata": {},
     "output_type": "execute_result"
    }
   ],
   "source": [
    "[(k, len(str(v))) for k, v, in unique_gold_reasons.items()]"
   ]
  },
  {
   "cell_type": "code",
   "execution_count": 30,
   "metadata": {},
   "outputs": [],
   "source": [
    "def gold_features(player):\n",
    "    if 'init' not in dir(gold_features):\n",
    "        gold_features.gold_reasons = [0, 1, 2, 5, 6, 11, 12, 13, 14, 15]\n",
    "        gold_features.init = {'net_gold': 0}\n",
    "        gold_features.init.update({f'gold_reason_{i}': 0 for i in gold_features.gold_reasons})\n",
    "        gold_features.init.update({f'gold_reason_{i}_frac': 0 for i in gold_features.gold_reasons})\n",
    "    c = gold_features.init.copy()\n",
    "    for reason, value in player['gold_reasons'].items():\n",
    "        if reason == '0':\n",
    "            value -= 600  # base value\n",
    "        c['net_gold'] += value\n",
    "        c['gold_reason_' + reason] = value\n",
    "    for reason, value in player['gold_reasons'].items():\n",
    "        c['gold_reason_' + reason + '_frac'] = c['gold_reason_' + reason] / c['net_gold']\n",
    "    return c"
   ]
  },
  {
   "cell_type": "code",
   "execution_count": 31,
   "metadata": {},
   "outputs": [
    {
     "data": {
      "text/plain": [
       "{'net_gold': 616,\n",
       " 'gold_reason_0': 160,\n",
       " 'gold_reason_1': 0,\n",
       " 'gold_reason_2': 0,\n",
       " 'gold_reason_5': 0,\n",
       " 'gold_reason_6': 0,\n",
       " 'gold_reason_11': 0,\n",
       " 'gold_reason_12': 0,\n",
       " 'gold_reason_13': 456,\n",
       " 'gold_reason_14': 0,\n",
       " 'gold_reason_15': 0,\n",
       " 'gold_reason_0_frac': 0.2597402597402597,\n",
       " 'gold_reason_1_frac': 0,\n",
       " 'gold_reason_2_frac': 0,\n",
       " 'gold_reason_5_frac': 0,\n",
       " 'gold_reason_6_frac': 0,\n",
       " 'gold_reason_11_frac': 0,\n",
       " 'gold_reason_12_frac': 0,\n",
       " 'gold_reason_13_frac': 0.7402597402597403,\n",
       " 'gold_reason_14_frac': 0,\n",
       " 'gold_reason_15_frac': 0}"
      ]
     },
     "execution_count": 31,
     "metadata": {},
     "output_type": "execute_result"
    }
   ],
   "source": [
    "gold_features(player)"
   ]
  },
  {
   "cell_type": "code",
   "execution_count": 24,
   "metadata": {},
   "outputs": [],
   "source": [
    "unique_xp_reasons = dict()\n",
    "for file in ['../data/train_matches.jsonl', '../data/test_matches.jsonl']:\n",
    "    for line in open(file):\n",
    "        game = json.loads(line)\n",
    "        for p in game['players']:\n",
    "            for gr, v in p['xp_reasons'].items():\n",
    "                if gr in unique_xp_reasons:\n",
    "                    unique_xp_reasons[gr] += v\n",
    "                else:\n",
    "                    unique_xp_reasons[gr] = v"
   ]
  },
  {
   "cell_type": "code",
   "execution_count": 26,
   "metadata": {},
   "outputs": [
    {
     "data": {
      "text/plain": [
       "[('2', 10), ('1', 10), ('0', 9), ('3', 8)]"
      ]
     },
     "execution_count": 26,
     "metadata": {},
     "output_type": "execute_result"
    }
   ],
   "source": [
    "[(k, len(str(v))) for k, v in unique_xp_reasons.items()]"
   ]
  },
  {
   "cell_type": "code",
   "execution_count": 34,
   "metadata": {},
   "outputs": [],
   "source": [
    "def xp_features(player):\n",
    "    if 'init' not in dir(xp_features):\n",
    "        xp_features.xp_reasons = [0, 1, 2, 3]\n",
    "        xp_features.init ={f'xp_reason_{i}': 0 for i in xp_features.xp_reasons}\n",
    "        xp_features.init.update({f'xp_reason_{i}_frac': 0 for i in xp_features.xp_reasons})\n",
    "    c = xp_features.init.copy()\n",
    "    for reason, value in player['xp_reasons'].items():\n",
    "        c['xp_reason_' + reason] = value\n",
    "        c['xp_reason_' + reason + '_frac'] = value / player['xp']\n",
    "    return c"
   ]
  },
  {
   "cell_type": "code",
   "execution_count": 35,
   "metadata": {},
   "outputs": [
    {
     "data": {
      "text/plain": [
       "{'xp_reason_0': 0,\n",
       " 'xp_reason_1': 0,\n",
       " 'xp_reason_2': 870,\n",
       " 'xp_reason_3': 0,\n",
       " 'xp_reason_0_frac': 0,\n",
       " 'xp_reason_1_frac': 0,\n",
       " 'xp_reason_2_frac': 1.0,\n",
       " 'xp_reason_3_frac': 0}"
      ]
     },
     "execution_count": 35,
     "metadata": {},
     "output_type": "execute_result"
    }
   ],
   "source": [
    "xp_features(player)"
   ]
  }
 ],
 "metadata": {
  "kernelspec": {
   "display_name": "Python 3",
   "language": "python",
   "name": "python3"
  },
  "language_info": {
   "codemirror_mode": {
    "name": "ipython",
    "version": 3
   },
   "file_extension": ".py",
   "mimetype": "text/x-python",
   "name": "python",
   "nbconvert_exporter": "python",
   "pygments_lexer": "ipython3",
   "version": "3.6.8"
  }
 },
 "nbformat": 4,
 "nbformat_minor": 4
}
