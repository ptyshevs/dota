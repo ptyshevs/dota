{
 "cells": [
  {
   "cell_type": "code",
   "execution_count": 1,
   "metadata": {},
   "outputs": [],
   "source": [
    "import orjson as json"
   ]
  },
  {
   "cell_type": "code",
   "execution_count": 2,
   "metadata": {},
   "outputs": [],
   "source": [
    "for line in open(\"../data/train_matches.jsonl\"):\n",
    "    game = json.loads(line)\n",
    "    for player in game['players']:\n",
    "        break\n",
    "    break"
   ]
  },
  {
   "cell_type": "code",
   "execution_count": 3,
   "metadata": {},
   "outputs": [
    {
     "data": {
      "text/plain": [
       "dict_keys(['player_slot', 'hero_id', 'hero_name', 'account_id_hash', 'ability_upgrades', 'obs_placed', 'sen_placed', 'creeps_stacked', 'camps_stacked', 'rune_pickups', 'firstblood_claimed', 'teamfight_participation', 'towers_killed', 'roshans_killed', 'observers_placed', 'stuns', 'max_hero_hit', 'times', 'gold_t', 'lh_t', 'dn_t', 'xp_t', 'obs_log', 'sen_log', 'obs_left_log', 'sen_left_log', 'purchase_log', 'kills_log', 'buyback_log', 'runes_log', 'obs', 'sen', 'actions', 'pings', 'purchase', 'gold_reasons', 'xp_reasons', 'killed', 'item_uses', 'ability_uses', 'hero_hits', 'damage', 'damage_taken', 'damage_inflictor', 'runes', 'killed_by', 'kill_streaks', 'multi_kills', 'life_state', 'healing', 'damage_inflictor_received', 'randomed', 'pred_vict', 'gold', 'lh', 'xp', 'x', 'y', 'hero_inventory', 'hero_stash', 'health', 'max_health', 'max_mana', 'level', 'kills', 'deaths', 'assists', 'denies', 'nearby_creep_death_count'])"
      ]
     },
     "execution_count": 3,
     "metadata": {},
     "output_type": "execute_result"
    }
   ],
   "source": [
    "player.keys()"
   ]
  },
  {
   "cell_type": "code",
   "execution_count": 4,
   "metadata": {},
   "outputs": [],
   "source": [
    "import pandas as pd"
   ]
  },
  {
   "cell_type": "code",
   "execution_count": 33,
   "metadata": {},
   "outputs": [],
   "source": [
    "heroes = pd.read_csv('../data/heroes.csv', index_col=0)"
   ]
  },
  {
   "cell_type": "code",
   "execution_count": 34,
   "metadata": {},
   "outputs": [
    {
     "data": {
      "text/plain": [
       "11"
      ]
     },
     "execution_count": 34,
     "metadata": {},
     "output_type": "execute_result"
    }
   ],
   "source": [
    "player['hero_id']"
   ]
  },
  {
   "cell_type": "code",
   "execution_count": 50,
   "metadata": {},
   "outputs": [
    {
     "data": {
      "text/plain": [
       "tag                                     nevermore\n",
       "AttributePrimary           DOTA_ATTRIBUTE_AGILITY\n",
       "AttackCapabilities    DOTA_UNIT_CAP_RANGED_ATTACK\n",
       "Role                               [Carry, Nuker]\n",
       "Rolelevels                                 [2, 3]\n",
       "Complexity                                      2\n",
       "Name: 11, dtype: object"
      ]
     },
     "execution_count": 50,
     "metadata": {},
     "output_type": "execute_result"
    }
   ],
   "source": [
    "heroes.loc[player['hero_id']]"
   ]
  },
  {
   "cell_type": "code",
   "execution_count": 45,
   "metadata": {},
   "outputs": [],
   "source": [
    "heroes.Role = heroes.Role.map(eval)"
   ]
  },
  {
   "cell_type": "code",
   "execution_count": 48,
   "metadata": {},
   "outputs": [],
   "source": [
    "heroes.Rolelevels = heroes.Rolelevels.map(lambda x: list(map(int, eval(x))))"
   ]
  },
  {
   "cell_type": "code",
   "execution_count": 51,
   "metadata": {},
   "outputs": [],
   "source": [
    "def hero_features(player):\n",
    "    if 'init' not in dir(hero_features):\n",
    "        hero_features.roles = ['Initiator', 'Disabler', 'Durable', 'Nuker',\n",
    "                               'Carry', 'Pusher', 'Escape', 'Jungler', 'Support']\n",
    "        hero_features.rolelevels = [1, 2, 3]\n",
    "        hero_features.init = {f'role_{a}_lvl': 0 for a in hero_features.roles}\n",
    "        hero_features.init.update({'complexity': 0, 'attack_type': None, 'attribute': None,\n",
    "                                 'hero_tag': 0})\n",
    "        \n",
    "    c = hero_features.init.copy()\n",
    "    \n",
    "    hero = heroes.loc[player['hero_id']]\n",
    "    c['hero_tag'] = hero.tag\n",
    "    c['attribute'] = hero.AttributePrimary\n",
    "    c['attack_type'] = hero.AttackCapabilities\n",
    "    c['complexity'] = hero.Complexity\n",
    "    for role, level in zip(hero.Role, hero.Rolelevels):\n",
    "        c[f'role_{role}_lvl'] = level\n",
    "    return c"
   ]
  },
  {
   "cell_type": "code",
   "execution_count": 52,
   "metadata": {},
   "outputs": [
    {
     "data": {
      "text/plain": [
       "{'role_Initiator_lvl': 0,\n",
       " 'role_Disabler_lvl': 0,\n",
       " 'role_Durable_lvl': 0,\n",
       " 'role_Nuker_lvl': 3,\n",
       " 'role_Carry_lvl': 2,\n",
       " 'role_Pusher_lvl': 0,\n",
       " 'role_Escape_lvl': 0,\n",
       " 'role_Jungler_lvl': 0,\n",
       " 'role_Support_lvl': 0,\n",
       " 'complexity': 2,\n",
       " 'attack_type': 'DOTA_UNIT_CAP_RANGED_ATTACK',\n",
       " 'attribute': 'DOTA_ATTRIBUTE_AGILITY',\n",
       " 'hero_tag': 'nevermore'}"
      ]
     },
     "execution_count": 52,
     "metadata": {},
     "output_type": "execute_result"
    }
   ],
   "source": [
    "hero_features(player)"
   ]
  },
  {
   "cell_type": "code",
   "execution_count": 55,
   "metadata": {},
   "outputs": [
    {
     "data": {
      "text/plain": [
       "([{'id': 'item_tango', 'num_charges': 2, 'cooldown': 0},\n",
       "  {'id': 'item_wraith_band', 'cooldown': 0},\n",
       "  {'id': 'item_enchanted_mango', 'cooldown': 0},\n",
       "  {'id': 'item_clarity', 'num_charges': 1, 'cooldown': 0},\n",
       "  {'id': 'item_tpscroll', 'num_charges': 1, 'cooldown': 0}],\n",
       " [])"
      ]
     },
     "execution_count": 55,
     "metadata": {},
     "output_type": "execute_result"
    }
   ],
   "source": [
    "player['hero_inventory'], player['hero_stash']"
   ]
  }
 ],
 "metadata": {
  "kernelspec": {
   "display_name": "Python 3",
   "language": "python",
   "name": "python3"
  },
  "language_info": {
   "codemirror_mode": {
    "name": "ipython",
    "version": 3
   },
   "file_extension": ".py",
   "mimetype": "text/x-python",
   "name": "python",
   "nbconvert_exporter": "python",
   "pygments_lexer": "ipython3",
   "version": "3.6.8"
  }
 },
 "nbformat": 4,
 "nbformat_minor": 4
}
