{
 "cells": [
  {
   "cell_type": "code",
   "execution_count": 1,
   "metadata": {},
   "outputs": [],
   "source": [
    "import orjson as json"
   ]
  },
  {
   "cell_type": "code",
   "execution_count": 3,
   "metadata": {},
   "outputs": [],
   "source": [
    "for line in open('../data/train_matches.jsonl'):\n",
    "    game = json.loads(line)\n",
    "    for player in game['players']:\n",
    "        break\n",
    "    break"
   ]
  },
  {
   "cell_type": "code",
   "execution_count": 5,
   "metadata": {},
   "outputs": [
    {
     "data": {
      "text/plain": [
       "{'wraith_band': 1,\n",
       " 'enchanted_mango': 1,\n",
       " 'tpscroll': 1,\n",
       " 'tango': 1,\n",
       " 'flask': 1,\n",
       " 'clarity': 1}"
      ]
     },
     "execution_count": 5,
     "metadata": {},
     "output_type": "execute_result"
    }
   ],
   "source": [
    "player['purchase']"
   ]
  },
  {
   "cell_type": "code",
   "execution_count": 7,
   "metadata": {},
   "outputs": [
    {
     "data": {
      "text/plain": [
       "1425"
      ]
     },
     "execution_count": 7,
     "metadata": {},
     "output_type": "execute_result"
    }
   ],
   "source": [
    "515 + 70 + 50 + 90 + 650 + 50"
   ]
  },
  {
   "cell_type": "code",
   "execution_count": 8,
   "metadata": {},
   "outputs": [
    {
     "data": {
      "text/plain": [
       "1451"
      ]
     },
     "execution_count": 8,
     "metadata": {},
     "output_type": "execute_result"
    }
   ],
   "source": [
    "player['gold'] + sum(player['gold_reasons'].values())"
   ]
  },
  {
   "cell_type": "code",
   "execution_count": 6,
   "metadata": {},
   "outputs": [
    {
     "data": {
      "text/plain": [
       "(543, {'0': 600, '13': 308})"
      ]
     },
     "execution_count": 6,
     "metadata": {},
     "output_type": "execute_result"
    }
   ],
   "source": [
    "player['gold'], player['gold_reasons']"
   ]
  },
  {
   "cell_type": "code",
   "execution_count": 10,
   "metadata": {},
   "outputs": [],
   "source": [
    "import pandas as pd\n",
    "items_df = pd.read_csv('../data/items.csv')"
   ]
  },
  {
   "cell_type": "code",
   "execution_count": 17,
   "metadata": {},
   "outputs": [],
   "source": [
    "items_df.index = items_df.tag"
   ]
  },
  {
   "cell_type": "code",
   "execution_count": 19,
   "metadata": {},
   "outputs": [
    {
     "data": {
      "text/plain": [
       "tag               tango\n",
       "cost                 90\n",
       "category    Consumables\n",
       "Name: tango, dtype: object"
      ]
     },
     "execution_count": 19,
     "metadata": {},
     "output_type": "execute_result"
    }
   ],
   "source": [
    "items_df.loc['tango']"
   ]
  },
  {
   "cell_type": "code",
   "execution_count": 15,
   "metadata": {},
   "outputs": [
    {
     "name": "stdout",
     "output_type": "stream",
     "text": [
      "['Consumables', 'Attributes', 'Armaments', 'Arcane', 'Common', 'Support', 'Caster', 'Weapons', 'Armor', 'Artifacts', 'Secret shop']\n"
     ]
    }
   ],
   "source": [
    "print(items_df.category.unique().tolist())"
   ]
  },
  {
   "cell_type": "code",
   "execution_count": 23,
   "metadata": {},
   "outputs": [],
   "source": [
    "def purchase_features(player):\n",
    "    if 'init' not in dir(purchase_features):\n",
    "        purchase_features.categories = ['Consumables', 'Attributes', 'Armaments', 'Arcane', 'Common', 'Support',\n",
    "                      'Caster', 'Weapons', 'Armor', 'Artifacts', 'Secret shop']\n",
    "        purchase_features.init = {'pch_total_cost': 0}\n",
    "        purchase_features.init.update({f'pch_{cat}': 0 for cat in purchase_features.categories})\n",
    "    c = purchase_features.init.copy()\n",
    "    for p, amount in player['purchase'].items():\n",
    "        item = items_df.loc[p]\n",
    "        print(item)\n",
    "        c['pch_total_cost'] += item.cost\n",
    "        c[f'pch_{item.category}'] += 1\n",
    "    return c"
   ]
  },
  {
   "cell_type": "code",
   "execution_count": 24,
   "metadata": {},
   "outputs": [
    {
     "data": {
      "text/plain": [
       "{'wraith_band': 1,\n",
       " 'enchanted_mango': 1,\n",
       " 'tpscroll': 1,\n",
       " 'tango': 1,\n",
       " 'flask': 1,\n",
       " 'clarity': 1}"
      ]
     },
     "execution_count": 24,
     "metadata": {},
     "output_type": "execute_result"
    }
   ],
   "source": [
    "player['purchase']"
   ]
  },
  {
   "cell_type": "code",
   "execution_count": 25,
   "metadata": {},
   "outputs": [
    {
     "name": "stdout",
     "output_type": "stream",
     "text": [
      "tag         wraith_band\n",
      "cost                515\n",
      "category         Common\n",
      "Name: wraith_band, dtype: object\n",
      "tag         enchanted_mango\n",
      "cost                     70\n",
      "category        Consumables\n",
      "Name: enchanted_mango, dtype: object\n",
      "tag            tpscroll\n",
      "cost                 50\n",
      "category    Consumables\n",
      "Name: tpscroll, dtype: object\n",
      "tag               tango\n",
      "cost                 90\n",
      "category    Consumables\n",
      "Name: tango, dtype: object\n",
      "tag               flask\n",
      "cost                110\n",
      "category    Consumables\n",
      "Name: flask, dtype: object\n",
      "tag             clarity\n",
      "cost                 50\n",
      "category    Consumables\n",
      "Name: clarity, dtype: object\n"
     ]
    },
    {
     "data": {
      "text/plain": [
       "{'pch_total_cost': 885,\n",
       " 'pch_Consumables': 5,\n",
       " 'pch_Attributes': 0,\n",
       " 'pch_Armaments': 0,\n",
       " 'pch_Arcane': 0,\n",
       " 'pch_Common': 1,\n",
       " 'pch_Support': 0,\n",
       " 'pch_Caster': 0,\n",
       " 'pch_Weapons': 0,\n",
       " 'pch_Armor': 0,\n",
       " 'pch_Artifacts': 0,\n",
       " 'pch_Secret shop': 0}"
      ]
     },
     "execution_count": 25,
     "metadata": {},
     "output_type": "execute_result"
    }
   ],
   "source": [
    "purchase_features(player)"
   ]
  }
 ],
 "metadata": {
  "kernelspec": {
   "display_name": "Python 3",
   "language": "python",
   "name": "python3"
  },
  "language_info": {
   "codemirror_mode": {
    "name": "ipython",
    "version": 3
   },
   "file_extension": ".py",
   "mimetype": "text/x-python",
   "name": "python",
   "nbconvert_exporter": "python",
   "pygments_lexer": "ipython3",
   "version": "3.6.8"
  }
 },
 "nbformat": 4,
 "nbformat_minor": 4
}
