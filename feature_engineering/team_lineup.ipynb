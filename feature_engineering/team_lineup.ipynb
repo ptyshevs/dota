{
 "cells": [
  {
   "cell_type": "code",
   "execution_count": 1,
   "metadata": {},
   "outputs": [],
   "source": [
    "import orjson as json"
   ]
  },
  {
   "cell_type": "code",
   "execution_count": 8,
   "metadata": {},
   "outputs": [],
   "source": [
    "heroes_tags = []\n",
    "\n",
    "for file in ['../data/train_matches.jsonl', '../data/test_matches.jsonl']:\n",
    "    for line in open(file):\n",
    "        game = json.loads(line)\n",
    "        for p in game['players']:\n",
    "            name = '_'.join(p['hero_name'].split('_')[3:])\n",
    "            if name not in heroes_tags:\n",
    "                heroes_tags.append(name)\n",
    "len(heroes_tags)"
   ]
  },
  {
   "cell_type": "code",
   "execution_count": 16,
   "metadata": {},
   "outputs": [],
   "source": [
    "heroes = ['nevermore', 'brewmaster', 'pudge', 'huskar', 'lycan', 'phantom_lancer', 'windrunner', 'night_stalker', 'ogre_magi',\n",
    "          'tinker', 'razor', 'centaur', 'shadow_shaman', 'weaver', 'naga_siren', 'enchantress', 'antimage', 'clinkz', 'visage',\n",
    "          'skywrath_mage', 'rattletrap', 'phantom_assassin', 'dragon_knight', 'furion', 'sven', 'spectre', 'viper', 'venomancer',\n",
    "          'storm_spirit', 'bristleback', 'lion', 'faceless_void', 'shredder', 'juggernaut', 'doom_bringer', 'rubick', 'skeleton_king',\n",
    "          'legion_commander', 'batrider', 'kunkka', 'zuus', 'sniper', 'gyrocopter', 'omniknight', 'morphling', 'chaos_knight', 'dark_willow',\n",
    "          'luna', 'ancient_apparition', 'abaddon', 'spirit_breaker', 'abyssal_underlord', 'keeper_of_the_light', 'wisp', 'monkey_king', 'dazzle',\n",
    "          'invoker', 'slark', 'silencer', 'obsidian_destroyer', 'bane', 'bounty_hunter', 'witch_doctor', 'lone_druid', 'bloodseeker', 'drow_ranger',\n",
    "          'slardar', 'troll_warlord', 'broodmother', 'axe', 'elder_titan', 'medusa', 'disruptor', 'phoenix', 'tidehunter', 'lina', 'techies', 'mirana',\n",
    "          'life_stealer', 'riki', 'oracle', 'pangolier', 'ursa', 'tiny', 'queenofpain', 'alchemist', 'winter_wyvern', 'treant', 'puck', 'shadow_demon',\n",
    "          'lich', 'necrolyte', 'crystal_maiden', 'tusk', 'jakiro', 'ember_spirit', 'sand_king', 'nyx_assassin', 'terrorblade', 'earthshaker', 'vengefulspirit',\n",
    "          'magnataur', 'warlock', 'pugna', 'earth_spirit', 'arc_warden', 'meepo', 'death_prophet', 'templar_assassin', 'enigma',\n",
    "          'undying', 'leshrac', 'dark_seer', 'beastmaster', 'chen']\n",
    "    \n",
    "def team_lineups(game):\n",
    "    if 'init' not in dir(team_lineups):\n",
    "        dire = {f'r_{hero}': 0 for hero in heroes}\n",
    "        radiant = {f'd_{hero}': 0 for hero in heroes}\n",
    "        team_lineups.init = {**dire, **radiant}\n",
    "    \n",
    "    c = team_lineups.init.copy()\n",
    "    \n",
    "    for i, p in enumerate(game['players']):\n",
    "        team = 'r' if i <  5 else 'd'\n",
    "        name = '_'.join(p['hero_name'].split('_')[3:])\n",
    "        c[f'{team}_{name}'] = 1\n",
    "    return c"
   ]
  },
  {
   "cell_type": "code",
   "execution_count": 17,
   "metadata": {},
   "outputs": [
    {
     "name": "stdout",
     "output_type": "stream",
     "text": [
      "{'r_nevermore': 0, 'r_brewmaster': 0, 'r_pudge': 1, 'r_huskar': 0, 'r_lycan': 0, 'r_phantom_lancer': 0, 'r_windrunner': 0, 'r_night_stalker': 0, 'r_ogre_magi': 0, 'r_tinker': 0, 'r_razor': 0, 'r_centaur': 0, 'r_shadow_shaman': 0, 'r_weaver': 0, 'r_naga_siren': 0, 'r_enchantress': 0, 'r_antimage': 0, 'r_clinkz': 0, 'r_visage': 0, 'r_skywrath_mage': 0, 'r_rattletrap': 0, 'r_phantom_assassin': 0, 'r_dragon_knight': 0, 'r_furion': 0, 'r_sven': 0, 'r_spectre': 0, 'r_viper': 0, 'r_venomancer': 0, 'r_storm_spirit': 0, 'r_bristleback': 0, 'r_lion': 0, 'r_faceless_void': 1, 'r_shredder': 0, 'r_juggernaut': 0, 'r_doom_bringer': 0, 'r_rubick': 0, 'r_skeleton_king': 1, 'r_legion_commander': 0, 'r_batrider': 0, 'r_kunkka': 0, 'r_zuus': 0, 'r_sniper': 0, 'r_gyrocopter': 0, 'r_omniknight': 0, 'r_morphling': 0, 'r_chaos_knight': 0, 'r_dark_willow': 0, 'r_luna': 0, 'r_ancient_apparition': 0, 'r_abaddon': 0, 'r_spirit_breaker': 0, 'r_abyssal_underlord': 0, 'r_keeper_of_the_light': 0, 'r_wisp': 0, 'r_monkey_king': 0, 'r_dazzle': 0, 'r_invoker': 0, 'r_slark': 0, 'r_silencer': 0, 'r_obsidian_destroyer': 0, 'r_bane': 0, 'r_bounty_hunter': 1, 'r_witch_doctor': 0, 'r_lone_druid': 0, 'r_bloodseeker': 0, 'r_drow_ranger': 0, 'r_slardar': 0, 'r_troll_warlord': 0, 'r_broodmother': 0, 'r_axe': 0, 'r_elder_titan': 0, 'r_medusa': 0, 'r_disruptor': 0, 'r_phoenix': 0, 'r_tidehunter': 0, 'r_lina': 0, 'r_techies': 0, 'r_mirana': 0, 'r_life_stealer': 0, 'r_riki': 0, 'r_oracle': 0, 'r_pangolier': 0, 'r_ursa': 0, 'r_tiny': 0, 'r_queenofpain': 0, 'r_alchemist': 0, 'r_winter_wyvern': 0, 'r_treant': 0, 'r_puck': 0, 'r_shadow_demon': 0, 'r_lich': 0, 'r_necrolyte': 0, 'r_crystal_maiden': 0, 'r_tusk': 0, 'r_jakiro': 0, 'r_ember_spirit': 0, 'r_sand_king': 0, 'r_nyx_assassin': 0, 'r_terrorblade': 0, 'r_earthshaker': 0, 'r_vengefulspirit': 0, 'r_magnataur': 0, 'r_warlock': 0, 'r_pugna': 0, 'r_earth_spirit': 0, 'r_arc_warden': 0, 'r_meepo': 1, 'r_death_prophet': 0, 'r_templar_assassin': 0, 'r_enigma': 0, 'r_undying': 0, 'r_leshrac': 0, 'r_dark_seer': 0, 'r_beastmaster': 0, 'r_chen': 0, 'd_nevermore': 0, 'd_brewmaster': 0, 'd_pudge': 0, 'd_huskar': 1, 'd_lycan': 0, 'd_phantom_lancer': 0, 'd_windrunner': 0, 'd_night_stalker': 0, 'd_ogre_magi': 0, 'd_tinker': 0, 'd_razor': 0, 'd_centaur': 0, 'd_shadow_shaman': 0, 'd_weaver': 0, 'd_naga_siren': 0, 'd_enchantress': 0, 'd_antimage': 0, 'd_clinkz': 0, 'd_visage': 0, 'd_skywrath_mage': 0, 'd_rattletrap': 1, 'd_phantom_assassin': 0, 'd_dragon_knight': 0, 'd_furion': 0, 'd_sven': 0, 'd_spectre': 0, 'd_viper': 0, 'd_venomancer': 0, 'd_storm_spirit': 0, 'd_bristleback': 0, 'd_lion': 0, 'd_faceless_void': 0, 'd_shredder': 0, 'd_juggernaut': 0, 'd_doom_bringer': 0, 'd_rubick': 0, 'd_skeleton_king': 0, 'd_legion_commander': 0, 'd_batrider': 0, 'd_kunkka': 0, 'd_zuus': 0, 'd_sniper': 0, 'd_gyrocopter': 0, 'd_omniknight': 0, 'd_morphling': 1, 'd_chaos_knight': 0, 'd_dark_willow': 0, 'd_luna': 0, 'd_ancient_apparition': 0, 'd_abaddon': 0, 'd_spirit_breaker': 0, 'd_abyssal_underlord': 0, 'd_keeper_of_the_light': 0, 'd_wisp': 0, 'd_monkey_king': 0, 'd_dazzle': 1, 'd_invoker': 0, 'd_slark': 0, 'd_silencer': 0, 'd_obsidian_destroyer': 0, 'd_bane': 0, 'd_bounty_hunter': 0, 'd_witch_doctor': 0, 'd_lone_druid': 0, 'd_bloodseeker': 0, 'd_drow_ranger': 0, 'd_slardar': 0, 'd_troll_warlord': 0, 'd_broodmother': 0, 'd_axe': 0, 'd_elder_titan': 0, 'd_medusa': 0, 'd_disruptor': 0, 'd_phoenix': 0, 'd_tidehunter': 0, 'd_lina': 0, 'd_techies': 0, 'd_mirana': 0, 'd_life_stealer': 0, 'd_riki': 0, 'd_oracle': 0, 'd_pangolier': 1, 'd_ursa': 0, 'd_tiny': 0, 'd_queenofpain': 0, 'd_alchemist': 0, 'd_winter_wyvern': 0, 'd_treant': 0, 'd_puck': 0, 'd_shadow_demon': 0, 'd_lich': 0, 'd_necrolyte': 0, 'd_crystal_maiden': 0, 'd_tusk': 0, 'd_jakiro': 0, 'd_ember_spirit': 0, 'd_sand_king': 0, 'd_nyx_assassin': 0, 'd_terrorblade': 0, 'd_earthshaker': 0, 'd_vengefulspirit': 0, 'd_magnataur': 0, 'd_warlock': 0, 'd_pugna': 0, 'd_earth_spirit': 0, 'd_arc_warden': 0, 'd_meepo': 0, 'd_death_prophet': 0, 'd_templar_assassin': 0, 'd_enigma': 0, 'd_undying': 0, 'd_leshrac': 0, 'd_dark_seer': 0, 'd_beastmaster': 0, 'd_chen': 0}\n"
     ]
    }
   ],
   "source": [
    "print(team_lineups(game))"
   ]
  }
 ],
 "metadata": {
  "kernelspec": {
   "display_name": "Python 3",
   "language": "python",
   "name": "python3"
  },
  "language_info": {
   "codemirror_mode": {
    "name": "ipython",
    "version": 3
   },
   "file_extension": ".py",
   "mimetype": "text/x-python",
   "name": "python",
   "nbconvert_exporter": "python",
   "pygments_lexer": "ipython3",
   "version": "3.6.8"
  }
 },
 "nbformat": 4,
 "nbformat_minor": 4
}
