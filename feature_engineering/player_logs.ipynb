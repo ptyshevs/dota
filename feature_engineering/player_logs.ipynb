{
 "cells": [
  {
   "cell_type": "code",
   "execution_count": 1,
   "metadata": {},
   "outputs": [],
   "source": [
    "import orjson as json"
   ]
  },
  {
   "cell_type": "code",
   "execution_count": 67,
   "metadata": {},
   "outputs": [
    {
     "name": "stdout",
     "output_type": "stream",
     "text": [
      "FOUND\n",
      "[{'id': 'item_blade_of_alacrity', 'cooldown': 0}]\n",
      "FOUND\n",
      "[{'id': 'item_tpscroll', 'num_charges': 1, 'cooldown': 63.977}, {'id': 'item_circlet', 'cooldown': 0}]\n",
      "FOUND\n",
      "[{'id': 'item_broadsword', 'cooldown': 0}]\n",
      "FOUND\n",
      "[{'id': 'item_blade_of_alacrity', 'cooldown': 0}]\n",
      "FOUND\n",
      "[{'id': 'item_tome_of_knowledge', 'num_charges': 1, 'cooldown': 0}]\n",
      "FOUND\n",
      "[{'id': 'item_staff_of_wizardry', 'cooldown': 0}]\n",
      "FOUND\n",
      "[{'id': 'item_ward_observer', 'num_charges': 1, 'cooldown': 0}]\n",
      "FOUND\n",
      "[{'id': 'item_ring_of_regen', 'cooldown': 0}]\n",
      "FOUND\n",
      "[{'id': 'item_javelin', 'cooldown': 0}]\n",
      "FOUND\n",
      "[{'id': 'item_ward_sentry', 'num_charges': 1, 'cooldown': 0}]\n",
      "FOUND\n",
      "[{'id': 'item_ward_observer', 'num_charges': 2, 'cooldown': 0}]\n"
     ]
    }
   ],
   "source": [
    "i = 0\n",
    "for line in open('../data/train_matches.jsonl'):\n",
    "    game = json.loads(line)\n",
    "    for player in game['players']:\n",
    "        if player['hero_stash']:\n",
    "            print(\"FOUND\")\n",
    "            print(player['hero_stash'])\n",
    "            i += 1\n",
    "            break\n",
    "    if i > 10:\n",
    "        break"
   ]
  },
  {
   "cell_type": "code",
   "execution_count": 3,
   "metadata": {},
   "outputs": [],
   "source": [
    "player = game['players'][0]"
   ]
  },
  {
   "cell_type": "code",
   "execution_count": 61,
   "metadata": {},
   "outputs": [],
   "source": [
    "ignored_keys = ['obs', 'sen', 'runes_log', 'kills_log', 'purchase',\n",
    "                'obs_log', 'sen_log', 'observers_placed', 'account_id_hash',\n",
    "                'runes', 'hero_name', 'killed_by']"
   ]
  },
  {
   "cell_type": "code",
   "execution_count": 62,
   "metadata": {},
   "outputs": [],
   "source": [
    "useful_keys = ['level', 'kills', 'deaths', 'assists', 'denies',\n",
    "              'nearby_creep_death_count', 'obs_placed', 'sen_placed',\n",
    "              'rune_pickups', 'teamfight_participation', 'max_health',\n",
    "              'max_mana']"
   ]
  },
  {
   "cell_type": "code",
   "execution_count": 63,
   "metadata": {},
   "outputs": [
    {
     "name": "stdout",
     "output_type": "stream",
     "text": [
      "['player_slot', 'hero_id', 'ability_upgrades', 'creeps_stacked', 'camps_stacked', 'firstblood_claimed', 'towers_killed', 'roshans_killed', 'stuns', 'max_hero_hit', 'times', 'gold_t', 'lh_t', 'dn_t', 'xp_t', 'obs_left_log', 'sen_left_log', 'purchase_log', 'buyback_log', 'actions', 'pings', 'gold_reasons', 'xp_reasons', 'killed', 'item_uses', 'ability_uses', 'hero_hits', 'damage', 'damage_taken', 'damage_inflictor', 'kill_streaks', 'multi_kills', 'life_state', 'healing', 'damage_inflictor_received', 'randomed', 'pred_vict', 'gold', 'lh', 'xp', 'x', 'y', 'hero_inventory', 'hero_stash', 'health']\n"
     ]
    }
   ],
   "source": [
    "print([k for k in player.keys() if k not in ignored_keys and k not in useful_keys])"
   ]
  },
  {
   "cell_type": "code",
   "execution_count": 59,
   "metadata": {},
   "outputs": [
    {
     "data": {
      "text/plain": [
       "{'0': 1276, '1': 8, '2': 32}"
      ]
     },
     "execution_count": 59,
     "metadata": {},
     "output_type": "execute_result"
    }
   ],
   "source": [
    "player['life_state']"
   ]
  },
  {
   "cell_type": "code",
   "execution_count": 64,
   "metadata": {},
   "outputs": [
    {
     "data": {
      "text/plain": [
       "({'npc_dota_hero_weaver': 2}, 2)"
      ]
     },
     "execution_count": 64,
     "metadata": {},
     "output_type": "execute_result"
    }
   ],
   "source": [
    "player['killed_by'], player['deaths']"
   ]
  },
  {
   "cell_type": "code",
   "execution_count": 55,
   "metadata": {},
   "outputs": [
    {
     "data": {
      "text/plain": [
       "800"
      ]
     },
     "execution_count": 55,
     "metadata": {},
     "output_type": "execute_result"
    }
   ],
   "source": [
    "player['max_health']"
   ]
  },
  {
   "cell_type": "code",
   "execution_count": 56,
   "metadata": {},
   "outputs": [
    {
     "data": {
      "text/plain": [
       "800"
      ]
     },
     "execution_count": 56,
     "metadata": {},
     "output_type": "execute_result"
    }
   ],
   "source": [
    "player['health']"
   ]
  },
  {
   "cell_type": "code",
   "execution_count": 65,
   "metadata": {},
   "outputs": [
    {
     "data": {
      "text/plain": [
       "[]"
      ]
     },
     "execution_count": 65,
     "metadata": {},
     "output_type": "execute_result"
    }
   ],
   "source": [
    "player['hero_stash']"
   ]
  },
  {
   "cell_type": "code",
   "execution_count": 31,
   "metadata": {},
   "outputs": [
    {
     "data": {
      "text/plain": [
       "['buyback_log']"
      ]
     },
     "execution_count": 31,
     "metadata": {},
     "output_type": "execute_result"
    }
   ],
   "source": [
    "[k for k in player.keys() if k.startswith('b')]"
   ]
  },
  {
   "cell_type": "code",
   "execution_count": 32,
   "metadata": {},
   "outputs": [
    {
     "data": {
      "text/plain": [
       "['obs_log',\n",
       " 'sen_log',\n",
       " 'obs_left_log',\n",
       " 'sen_left_log',\n",
       " 'purchase_log',\n",
       " 'kills_log',\n",
       " 'buyback_log',\n",
       " 'runes_log']"
      ]
     },
     "execution_count": 32,
     "metadata": {},
     "output_type": "execute_result"
    }
   ],
   "source": [
    "log_keys = [k for k in player.keys() if k.endswith('log')]\n",
    "log_keys"
   ]
  },
  {
   "cell_type": "code",
   "execution_count": 45,
   "metadata": {},
   "outputs": [
    {
     "data": {
      "text/plain": [
       "32"
      ]
     },
     "execution_count": 45,
     "metadata": {},
     "output_type": "execute_result"
    }
   ],
   "source": [
    "player['nearby_creep_death_count']"
   ]
  },
  {
   "cell_type": "code",
   "execution_count": 44,
   "metadata": {},
   "outputs": [
    {
     "data": {
      "text/plain": [
       "({'npc_dota_hero_dragon_knight': 60,\n",
       "  'npc_dota_neutral_kobold_taskmaster': 44,\n",
       "  'npc_dota_neutral_kobold': 50},\n",
       " 2)"
      ]
     },
     "execution_count": 44,
     "metadata": {},
     "output_type": "execute_result"
    }
   ],
   "source": [
    "player['killed'], player['kills']"
   ]
  },
  {
   "cell_type": "code",
   "execution_count": 48,
   "metadata": {},
   "outputs": [
    {
     "name": "stdout",
     "output_type": "stream",
     "text": [
      "1 1 1\n",
      "3 3 3\n",
      "1 1 1\n",
      "1 1 1\n",
      "4 4 4\n"
     ]
    }
   ],
   "source": [
    "found = False\n",
    "i = 0\n",
    "for line in open('../data/train_matches.jsonl'):\n",
    "    game = json.loads(line)\n",
    "    for player in game['players']:\n",
    "        if player['obs_log']:\n",
    "            print(len(player['obs_log']), player['obs_placed'], player['observers_placed'])\n",
    "        i += 1\n",
    "    if i > 10:\n",
    "        break        "
   ]
  },
  {
   "cell_type": "code",
   "execution_count": 21,
   "metadata": {},
   "outputs": [
    {
     "name": "stdout",
     "output_type": "stream",
     "text": [
      "obs_log [{'time': 41.49, 'tick': 11025, 'type': 'obs_log', 'key': '[80, 152]', 'slot': 8, 'x': 80, 'y': 152, 'z': 130, 'entityleft': False, 'ehandle': 132164, 'player_slot': 131}]\n",
      "sen_log []\n",
      "obs_left_log []\n",
      "sen_left_log []\n",
      "purchase_log [{'time': -89.783, 'key': 'ward_observer'}, {'time': -89.783, 'key': 'orb_of_venom'}, {'time': -89.783, 'key': 'clarity'}, {'time': -89.783, 'key': 'branches'}, {'time': -89.783, 'key': 'tango'}, {'time': -89.783, 'key': 'tpscroll'}, {'time': 19.595, 'key': 'enchanted_mango'}, {'time': 20.662, 'key': 'branches'}, {'time': 132.101, 'key': 'boots'}]\n",
      "kills_log [{'time': 124.236, 'key': 'npc_dota_hero_pudge'}]\n",
      "buyback_log []\n",
      "runes_log [{'time': 0.3, 'key': 5}, {'time': 148.664, 'key': 5}]\n"
     ]
    }
   ],
   "source": [
    "for k in log_keys:\n",
    "    print(k, player[k])"
   ]
  },
  {
   "cell_type": "code",
   "execution_count": 14,
   "metadata": {},
   "outputs": [
    {
     "data": {
      "text/plain": [
       "{'0': 1}"
      ]
     },
     "execution_count": 14,
     "metadata": {},
     "output_type": "execute_result"
    }
   ],
   "source": [
    "player['runes']"
   ]
  }
 ],
 "metadata": {
  "kernelspec": {
   "display_name": "Python 3",
   "language": "python",
   "name": "python3"
  },
  "language_info": {
   "codemirror_mode": {
    "name": "ipython",
    "version": 3
   },
   "file_extension": ".py",
   "mimetype": "text/x-python",
   "name": "python",
   "nbconvert_exporter": "python",
   "pygments_lexer": "ipython3",
   "version": "3.6.2"
  }
 },
 "nbformat": 4,
 "nbformat_minor": 4
}
