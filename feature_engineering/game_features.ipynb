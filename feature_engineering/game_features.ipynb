{
 "cells": [
  {
   "cell_type": "markdown",
   "metadata": {},
   "source": [
    "### Found on [OpenDota github](https://github.com/odota/dotaconstants/blob/master/json/lobby_type.json) \n",
    "\n",
    "```python\n",
    "lobby_type_map = {\n",
    "-1: \"Invalid\",\n",
    "0: \"Public matchmaking\",\n",
    "1:\"Practice\",\n",
    "2: \"Tournament\",\n",
    "3: \"Tutorial\",\n",
    "4: \"Co-op with bots\",\n",
    "5: \"Team match\",\n",
    "6: \"Solo Queue\",\n",
    "7: \"Ranked\",\n",
    "8: \"1v1 Mid\",\n",
    "9: \"Battle Cup\"\n",
    "}\n",
    "```"
   ]
  }
 ],
 "metadata": {
  "kernelspec": {
   "display_name": "Python 3",
   "language": "python",
   "name": "python3"
  },
  "language_info": {
   "codemirror_mode": {
    "name": "ipython",
    "version": 3
   },
   "file_extension": ".py",
   "mimetype": "text/x-python",
   "name": "python",
   "nbconvert_exporter": "python",
   "pygments_lexer": "ipython3",
   "version": "3.6.8"
  }
 },
 "nbformat": 4,
 "nbformat_minor": 4
}
