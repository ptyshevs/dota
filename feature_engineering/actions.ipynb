{
 "cells": [
  {
   "cell_type": "code",
   "execution_count": 3,
   "metadata": {},
   "outputs": [],
   "source": [
    "import orjson as json"
   ]
  },
  {
   "cell_type": "code",
   "execution_count": 9,
   "metadata": {},
   "outputs": [],
   "source": [
    "unique_actions = []\n",
    "\n",
    "for file in ('../data/train_matches.jsonl', '../data/test_matches.jsonl'):\n",
    "    for line in open(file):\n",
    "        game = json.loads(line)\n",
    "        for p in game['players']:\n",
    "            for action in p['actions'].keys():\n",
    "                if action not in unique_actions:\n",
    "                    unique_actions.append(action)\n",
    "                \n"
   ]
  },
  {
   "cell_type": "code",
   "execution_count": 7,
   "metadata": {},
   "outputs": [],
   "source": [
    "player = game['players'][0]"
   ]
  },
  {
   "cell_type": "code",
   "execution_count": 8,
   "metadata": {},
   "outputs": [
    {
     "data": {
      "text/plain": [
       "{'1': 551,\n",
       " '2': 8,\n",
       " '4': 43,\n",
       " '6': 1,\n",
       " '7': 2,\n",
       " '8': 6,\n",
       " '10': 1,\n",
       " '11': 2,\n",
       " '15': 2,\n",
       " '16': 8,\n",
       " '17': 2,\n",
       " '19': 6,\n",
       " '21': 30,\n",
       " '33': 30}"
      ]
     },
     "execution_count": 8,
     "metadata": {},
     "output_type": "execute_result"
    }
   ],
   "source": [
    "player['actions']"
   ]
  },
  {
   "cell_type": "code",
   "execution_count": 11,
   "metadata": {},
   "outputs": [],
   "source": [
    "unique_actions = list(map(int, unique_actions))"
   ]
  },
  {
   "cell_type": "code",
   "execution_count": 14,
   "metadata": {},
   "outputs": [
    {
     "name": "stdout",
     "output_type": "stream",
     "text": [
      "[0, 1, 2, 3, 4, 5, 6, 7, 8, 9, 10, 11, 12, 13, 14, 15, 16, 17, 18, 19, 20, 21, 23, 24, 25, 26, 27, 28, 29, 30, 31, 32, 33, 36]\n"
     ]
    }
   ],
   "source": [
    "print(sorted(unique_actions))"
   ]
  },
  {
   "cell_type": "code",
   "execution_count": 15,
   "metadata": {},
   "outputs": [],
   "source": [
    "def action_features(player):\n",
    "    if 'init' not in dir(action_features):\n",
    "        action_features.actions = [0, 1, 2, 3, 4, 5, 6, 7, 8, 9, 10, 11, 12, 13, 14, 15, 16,\n",
    "                                   17, 18, 19, 20, 21, 23, 24, 25, 26, 27, 28, 29, 30, 31,\n",
    "                                   32, 33, 36]\n",
    "        action_features.init = {f'action_{a}': 0 for a in action_features.actions}\n",
    "    c = action_features.init.copy()\n",
    "    for a, v in player['actions'].items():\n",
    "        c[f'action_{a}'] = v\n",
    "    return c"
   ]
  },
  {
   "cell_type": "code",
   "execution_count": 16,
   "metadata": {},
   "outputs": [
    {
     "data": {
      "text/plain": [
       "{'action_0': 0,\n",
       " 'action_1': 551,\n",
       " 'action_2': 8,\n",
       " 'action_3': 0,\n",
       " 'action_4': 43,\n",
       " 'action_5': 0,\n",
       " 'action_6': 1,\n",
       " 'action_7': 2,\n",
       " 'action_8': 6,\n",
       " 'action_9': 0,\n",
       " 'action_10': 1,\n",
       " 'action_11': 2,\n",
       " 'action_12': 0,\n",
       " 'action_13': 0,\n",
       " 'action_14': 0,\n",
       " 'action_15': 2,\n",
       " 'action_16': 8,\n",
       " 'action_17': 2,\n",
       " 'action_18': 0,\n",
       " 'action_19': 6,\n",
       " 'action_20': 0,\n",
       " 'action_21': 30,\n",
       " 'action_23': 0,\n",
       " 'action_24': 0,\n",
       " 'action_25': 0,\n",
       " 'action_26': 0,\n",
       " 'action_27': 0,\n",
       " 'action_28': 0,\n",
       " 'action_29': 0,\n",
       " 'action_30': 0,\n",
       " 'action_31': 0,\n",
       " 'action_32': 0,\n",
       " 'action_33': 30,\n",
       " 'action_36': 0}"
      ]
     },
     "execution_count": 16,
     "metadata": {},
     "output_type": "execute_result"
    }
   ],
   "source": [
    "action_features(player)"
   ]
  }
 ],
 "metadata": {
  "kernelspec": {
   "display_name": "Python 3",
   "language": "python",
   "name": "python3"
  },
  "language_info": {
   "codemirror_mode": {
    "name": "ipython",
    "version": 3
   },
   "file_extension": ".py",
   "mimetype": "text/x-python",
   "name": "python",
   "nbconvert_exporter": "python",
   "pygments_lexer": "ipython3",
   "version": "3.6.8"
  }
 },
 "nbformat": 4,
 "nbformat_minor": 4
}
