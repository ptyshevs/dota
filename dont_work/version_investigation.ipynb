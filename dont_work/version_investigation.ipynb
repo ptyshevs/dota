{
 "cells": [
  {
   "cell_type": "markdown",
   "metadata": {},
   "source": [
    "## In this notebook we will investigate the exact version of the game when the data was collected\n",
    "\n",
    "tl;dr `[7.07, 7.19)`"
   ]
  },
  {
   "cell_type": "code",
   "execution_count": 2,
   "metadata": {},
   "outputs": [],
   "source": [
    "import orjson as json"
   ]
  },
  {
   "cell_type": "markdown",
   "metadata": {},
   "source": [
    "#### First baseline [7.07, 7.19)"
   ]
  },
  {
   "cell_type": "code",
   "execution_count": 3,
   "metadata": {},
   "outputs": [
    {
     "data": {
      "text/plain": [
       "[(120, 'npc_dota_hero_pangolier'),\n",
       " (119, 'npc_dota_hero_dark_willow'),\n",
       " (114, 'npc_dota_hero_monkey_king'),\n",
       " (113, 'npc_dota_hero_arc_warden'),\n",
       " (112, 'npc_dota_hero_winter_wyvern')]"
      ]
     },
     "execution_count": 3,
     "metadata": {},
     "output_type": "execute_result"
    }
   ],
   "source": [
    "unique_heroes = []\n",
    "for line in open('data/train_matches.jsonl'):\n",
    "    game = json.loads(line)\n",
    "    for p in game['players']:\n",
    "        h = (p['hero_id'], p['hero_name'])\n",
    "        if h not in unique_heroes:\n",
    "            unique_heroes.append(h)\n",
    "sorted(unique_heroes, key=lambda x:x[0], reverse=True)[:5]"
   ]
  },
  {
   "cell_type": "markdown",
   "metadata": {},
   "source": [
    "Last two heroes are Pangolier and Dark Willow, added in [7.07](https://dota2.gamepedia.com/7.07) update. The next hero released was Grimstroke in [7.19](https://dota2.gamepedia.com/Version_7.19). Looking at the number of games we can reasonably assume that, since he doesn't occur in our dataset, the true game version lies somewhere in between."
   ]
  },
  {
   "cell_type": "markdown",
   "metadata": {},
   "source": [
    "#### 7.18\n",
    "\n",
    "Wiki [states](https://dota2.gamepedia.com/Version_7.18) that\n",
    "> Aeon Disk: Cooldown increased from 90 to 115\n",
    "\n",
    "However, it's not possible with the information given to infer the actual values of cooldown or changes to heroes attributes."
   ]
  }
 ],
 "metadata": {
  "kernelspec": {
   "display_name": "Python 3",
   "language": "python",
   "name": "python3"
  },
  "language_info": {
   "codemirror_mode": {
    "name": "ipython",
    "version": 3
   },
   "file_extension": ".py",
   "mimetype": "text/x-python",
   "name": "python",
   "nbconvert_exporter": "python",
   "pygments_lexer": "ipython3",
   "version": "3.6.2"
  }
 },
 "nbformat": 4,
 "nbformat_minor": 4
}
