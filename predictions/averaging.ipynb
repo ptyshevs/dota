{
 "cells": [
  {
   "cell_type": "code",
   "execution_count": 4,
   "metadata": {},
   "outputs": [],
   "source": [
    "import pandas as pd"
   ]
  },
  {
   "cell_type": "code",
   "execution_count": 6,
   "metadata": {},
   "outputs": [],
   "source": [
    "k3 = pd.read_csv('cat_3k_inv.csv', index_col=0)\n",
    "k15 = pd.read_csv('cat_1_5k_gpu_CELoss.csv', index_col=0)\n",
    "k1 = pd.read_csv('cat_1k_id_categorical.csv', index_col=0)"
   ]
  },
  {
   "cell_type": "code",
   "execution_count": 7,
   "metadata": {},
   "outputs": [],
   "source": [
    "comb = k3.copy()"
   ]
  },
  {
   "cell_type": "code",
   "execution_count": 8,
   "metadata": {},
   "outputs": [],
   "source": [
    "comb.radiant_win_prob = (k3.radiant_win_prob + k15.radiant_win_prob + k1.radiant_win_prob) / 3"
   ]
  },
  {
   "cell_type": "code",
   "execution_count": 10,
   "metadata": {},
   "outputs": [],
   "source": [
    "comb.to_csv('3k_15k_1k_combined.csv')"
   ]
  },
  {
   "cell_type": "code",
   "execution_count": 2,
   "metadata": {},
   "outputs": [],
   "source": [
    "def average_predictions(*args):\n",
    "    n = len(args)\n",
    "    \n",
    "    accumulator = pd.read_csv(args[0], index_col=0)\n",
    "    for arg in args[1:]:\n",
    "        accumulator.radiant_win_prob += pd.read_csv(arg, index_col=0).radiant_win_prob\n",
    "    accumulator.radiant_win_prob /= n\n",
    "    return accumulator"
   ]
  },
  {
   "cell_type": "code",
   "execution_count": 5,
   "metadata": {},
   "outputs": [
    {
     "data": {
      "text/html": [
       "<div>\n",
       "<style scoped>\n",
       "    .dataframe tbody tr th:only-of-type {\n",
       "        vertical-align: middle;\n",
       "    }\n",
       "\n",
       "    .dataframe tbody tr th {\n",
       "        vertical-align: top;\n",
       "    }\n",
       "\n",
       "    .dataframe thead th {\n",
       "        text-align: right;\n",
       "    }\n",
       "</style>\n",
       "<table border=\"1\" class=\"dataframe\">\n",
       "  <thead>\n",
       "    <tr style=\"text-align: right;\">\n",
       "      <th></th>\n",
       "      <th>radiant_win_prob</th>\n",
       "    </tr>\n",
       "    <tr>\n",
       "      <th>match_id_hash</th>\n",
       "      <th></th>\n",
       "    </tr>\n",
       "  </thead>\n",
       "  <tbody>\n",
       "    <tr>\n",
       "      <td>30cc2d778dca82f2edb568ce9b585caa</td>\n",
       "      <td>0.400481</td>\n",
       "    </tr>\n",
       "    <tr>\n",
       "      <td>70e5ba30f367cea48793b9003fab9d38</td>\n",
       "      <td>0.962047</td>\n",
       "    </tr>\n",
       "    <tr>\n",
       "      <td>4d9ef74d3a2025d79e9423105fd73d41</td>\n",
       "      <td>0.866028</td>\n",
       "    </tr>\n",
       "    <tr>\n",
       "      <td>2bb79e0c1eaac1608e5a09c8e0c6a555</td>\n",
       "      <td>0.674608</td>\n",
       "    </tr>\n",
       "    <tr>\n",
       "      <td>bec17f099b01d67edc82dfb5ce735a43</td>\n",
       "      <td>0.318325</td>\n",
       "    </tr>\n",
       "    <tr>\n",
       "      <td>...</td>\n",
       "      <td>...</td>\n",
       "    </tr>\n",
       "    <tr>\n",
       "      <td>9376a283b50779433de829c79529fe2c</td>\n",
       "      <td>0.029194</td>\n",
       "    </tr>\n",
       "    <tr>\n",
       "      <td>bce2bace8b61980d282c9f6a9c69ef9c</td>\n",
       "      <td>0.909584</td>\n",
       "    </tr>\n",
       "    <tr>\n",
       "      <td>dc00c2964363b0344a4891bdde235a44</td>\n",
       "      <td>0.391352</td>\n",
       "    </tr>\n",
       "    <tr>\n",
       "      <td>d75db83f7857720f851a302b00ee6149</td>\n",
       "      <td>0.793241</td>\n",
       "    </tr>\n",
       "    <tr>\n",
       "      <td>1bbaf6d71e197ebf96c6afa3c921000a</td>\n",
       "      <td>0.110047</td>\n",
       "    </tr>\n",
       "  </tbody>\n",
       "</table>\n",
       "<p>10000 rows × 1 columns</p>\n",
       "</div>"
      ],
      "text/plain": [
       "                                  radiant_win_prob\n",
       "match_id_hash                                     \n",
       "30cc2d778dca82f2edb568ce9b585caa          0.400481\n",
       "70e5ba30f367cea48793b9003fab9d38          0.962047\n",
       "4d9ef74d3a2025d79e9423105fd73d41          0.866028\n",
       "2bb79e0c1eaac1608e5a09c8e0c6a555          0.674608\n",
       "bec17f099b01d67edc82dfb5ce735a43          0.318325\n",
       "...                                            ...\n",
       "9376a283b50779433de829c79529fe2c          0.029194\n",
       "bce2bace8b61980d282c9f6a9c69ef9c          0.909584\n",
       "dc00c2964363b0344a4891bdde235a44          0.391352\n",
       "d75db83f7857720f851a302b00ee6149          0.793241\n",
       "1bbaf6d71e197ebf96c6afa3c921000a          0.110047\n",
       "\n",
       "[10000 rows x 1 columns]"
      ]
     },
     "execution_count": 5,
     "metadata": {},
     "output_type": "execute_result"
    }
   ],
   "source": [
    "average_predictions('cat_3k_inv.csv', 'cat_1_5k_gpu_CELoss.csv', 'cat_1k_id_categorical.csv')"
   ]
  }
 ],
 "metadata": {
  "kernelspec": {
   "display_name": "Python 3",
   "language": "python",
   "name": "python3"
  },
  "language_info": {
   "codemirror_mode": {
    "name": "ipython",
    "version": 3
   },
   "file_extension": ".py",
   "mimetype": "text/x-python",
   "name": "python",
   "nbconvert_exporter": "python",
   "pygments_lexer": "ipython3",
   "version": "3.7.5"
  }
 },
 "nbformat": 4,
 "nbformat_minor": 4
}
