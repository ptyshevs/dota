{
 "cells": [
  {
   "cell_type": "code",
   "execution_count": 1,
   "metadata": {},
   "outputs": [],
   "source": [
    "import pandas as pd"
   ]
  },
  {
   "cell_type": "code",
   "execution_count": 7,
   "metadata": {},
   "outputs": [],
   "source": [
    "X_test = pd.read_csv('../data/test_features.csv', index_col=0)"
   ]
  },
  {
   "cell_type": "code",
   "execution_count": 3,
   "metadata": {},
   "outputs": [],
   "source": [
    "predictions = pd.read_csv('cat_5k_inv_perm.csv', index_col=0)"
   ]
  },
  {
   "cell_type": "code",
   "execution_count": 8,
   "metadata": {},
   "outputs": [],
   "source": [
    "pseudo_y = predictions[(predictions.radiant_win_prob > .9) | (predictions.radiant_win_prob < .1)]"
   ]
  },
  {
   "cell_type": "code",
   "execution_count": 14,
   "metadata": {},
   "outputs": [],
   "source": [
    "pseudo_targets = pseudo_y.radiant_win_prob.map(lambda x: 0.0 if x < .5 else 1.0)"
   ]
  },
  {
   "cell_type": "code",
   "execution_count": 17,
   "metadata": {},
   "outputs": [],
   "source": [
    "pseudo_X = X_test.loc[pseudo_targets.index, :]"
   ]
  },
  {
   "cell_type": "code",
   "execution_count": 18,
   "metadata": {},
   "outputs": [],
   "source": [
    "X = pd.read_csv('../data/train_features.csv', index_col=0)\n",
    "Y = pd.read_csv('../data/train_targets.csv', index_col=0)"
   ]
  },
  {
   "cell_type": "code",
   "execution_count": 30,
   "metadata": {},
   "outputs": [],
   "source": [
    "X_enh = pd.concat([X, pseudo_X])\n",
    "Y_enh = pd.concat([Y.radiant_win, pseudo_targets])"
   ]
  },
  {
   "cell_type": "code",
   "execution_count": 31,
   "metadata": {},
   "outputs": [],
   "source": [
    "Y_enh = pd.DataFrame(Y_enh, columns=['radiant_win'])"
   ]
  },
  {
   "cell_type": "code",
   "execution_count": 26,
   "metadata": {},
   "outputs": [
    {
     "data": {
      "text/plain": [
       "((41492, 245), (41492, 1))"
      ]
     },
     "execution_count": 26,
     "metadata": {},
     "output_type": "execute_result"
    }
   ],
   "source": [
    "X_enh.shape, Y_enh.shape"
   ]
  },
  {
   "cell_type": "code",
   "execution_count": 23,
   "metadata": {},
   "outputs": [
    {
     "name": "stderr",
     "output_type": "stream",
     "text": [
      "/Volumes/Storage/goinfre/ptyshevs/env/lib/python3.6/site-packages/ipykernel_launcher.py:2: FutureWarning: The signature of `Series.to_csv` was aligned to that of `DataFrame.to_csv`, and argument 'header' will change its default value from False to True: please pass an explicit value to suppress this warning.\n",
      "  \n"
     ]
    }
   ],
   "source": [
    "X_enh.to_csv('../data/pseudo_train_features.csv')"
   ]
  },
  {
   "cell_type": "code",
   "execution_count": 32,
   "metadata": {},
   "outputs": [],
   "source": [
    "Y_enh.to_csv('../data/pseudo_train_targets.csv')"
   ]
  },
  {
   "cell_type": "code",
   "execution_count": 46,
   "metadata": {},
   "outputs": [],
   "source": [
    "def pseudo_labels(predictions, threshold=.1):\n",
    "    pseudo_y = predictions[(predictions.radiant_win_prob > (1 - threshold)) | (predictions.radiant_win_prob < threshold)]\n",
    "    \n",
    "    return pseudo_y.radiant_win_prob.map(lambda x: False if x < .5 else True)\n",
    "    \n",
    "def pseudo_enhance(X, Y, X_test, predictions, threshold=.1):\n",
    "    pseudo_targets = pseudo_labels(predictions, threshold)\n",
    "    \n",
    "    pseudo_X = X_test.loc[pseudo_targets.index, :]\n",
    "    \n",
    "    return pd.concat([X, pseudo_X]), pd.DataFrame(pd.concat([Y.radiant_win, pseudo_targets]), columns=['radiant_win'])"
   ]
  },
  {
   "cell_type": "code",
   "execution_count": 47,
   "metadata": {},
   "outputs": [
    {
     "data": {
      "text/plain": [
       "match_id_hash\n",
       "70e5ba30f367cea48793b9003fab9d38     True\n",
       "4d9ef74d3a2025d79e9423105fd73d41     True\n",
       "b891f03bb2a86d78b84043437fc95e04     True\n",
       "ff898afdb5bb5c7163bde45a009503f7    False\n",
       "f4e59a3443f4d1e55b8639651dca3a4d    False\n",
       "                                    ...  \n",
       "977a1db0b5295f6f463abc20d16b36ec    False\n",
       "29355f338e4ee84c68dcbdcb3858374c    False\n",
       "6bd9779a71650348aa3cd75f45278bfb     True\n",
       "9376a283b50779433de829c79529fe2c    False\n",
       "1bbaf6d71e197ebf96c6afa3c921000a    False\n",
       "Name: radiant_win_prob, Length: 1817, dtype: bool"
      ]
     },
     "execution_count": 47,
     "metadata": {},
     "output_type": "execute_result"
    }
   ],
   "source": [
    "pseudo_labels(predictions)"
   ]
  },
  {
   "cell_type": "code",
   "execution_count": 42,
   "metadata": {},
   "outputs": [],
   "source": [
    "X_try, Y_try = pseudo_labels(X, Y, X_test, predictions)"
   ]
  }
 ],
 "metadata": {
  "kernelspec": {
   "display_name": "Python 3",
   "language": "python",
   "name": "python3"
  },
  "language_info": {
   "codemirror_mode": {
    "name": "ipython",
    "version": 3
   },
   "file_extension": ".py",
   "mimetype": "text/x-python",
   "name": "python",
   "nbconvert_exporter": "python",
   "pygments_lexer": "ipython3",
   "version": "3.6.2"
  }
 },
 "nbformat": 4,
 "nbformat_minor": 4
}
