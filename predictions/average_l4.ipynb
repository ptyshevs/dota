{
 "cells": [
  {
   "cell_type": "code",
   "execution_count": 3,
   "metadata": {},
   "outputs": [],
   "source": [
    "from prediction_tools import temperature_sharpen"
   ]
  },
  {
   "cell_type": "code",
   "execution_count": 4,
   "metadata": {},
   "outputs": [],
   "source": [
    "files = ['total_cat_5k_perm_inv.csv', 'total_cat_5k_perm_inv_more.csv',\n",
    "         'avg_total_cat_5k_7k_10k_perm_inv_sharpen.csv', 'total_cat_hyper.csv',\n",
    "         'total_team_combined_5k.csv', 'total_team_combined_7k.csv', 'total_team_combined_11k.csv',\n",
    "         'avg_totals_team_combined.csv', 'avg_totals_team_combined_sharpen_0_5.csv',\n",
    "         'final_averaged.csv', 'cat_postproc_3000_rs_2.csv', 'cat_postproc_5000_rs_1.csv',\n",
    "         'cat_postproc_11000_rs_3.csv', ]"
   ]
  },
  {
   "cell_type": "code",
   "execution_count": 5,
   "metadata": {},
   "outputs": [],
   "source": [
    "avg = temperature_sharpen(*files)"
   ]
  },
  {
   "cell_type": "code",
   "execution_count": 6,
   "metadata": {},
   "outputs": [],
   "source": [
    "avg.to_csv('final_sharpen_l2.csv')"
   ]
  }
 ],
 "metadata": {
  "kernelspec": {
   "display_name": "Python 3",
   "language": "python",
   "name": "python3"
  },
  "language_info": {
   "codemirror_mode": {
    "name": "ipython",
    "version": 3
   },
   "file_extension": ".py",
   "mimetype": "text/x-python",
   "name": "python",
   "nbconvert_exporter": "python",
   "pygments_lexer": "ipython3",
   "version": "3.7.4"
  }
 },
 "nbformat": 4,
 "nbformat_minor": 4
}
