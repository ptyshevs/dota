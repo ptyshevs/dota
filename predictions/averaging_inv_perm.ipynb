{
 "cells": [
  {
   "cell_type": "code",
   "execution_count": 1,
   "metadata": {},
   "outputs": [],
   "source": [
    "import pandas as pd"
   ]
  },
  {
   "cell_type": "code",
   "execution_count": 2,
   "metadata": {},
   "outputs": [],
   "source": [
    "from prediction_tools import average_predictions, temperature_sharpen"
   ]
  },
  {
   "cell_type": "code",
   "execution_count": 3,
   "metadata": {},
   "outputs": [],
   "source": [
    "predictions = ['cat_5k_inv_perm.csv', 'cat_5k_inv_perm_pseudo.csv',\n",
    "                               'cat_7k_inv_perm.csv', 'cat_7k_inv_perm_pseudo.csv']\n",
    "averaged = average_predictions(*predictions)"
   ]
  },
  {
   "cell_type": "code",
   "execution_count": 4,
   "metadata": {},
   "outputs": [],
   "source": [
    "t_averaged = temperature_sharpen(*predictions)"
   ]
  },
  {
   "cell_type": "code",
   "execution_count": 6,
   "metadata": {},
   "outputs": [],
   "source": [
    "averaged.to_csv('avg_cat_5k_7k_inv_perm_pseudo.csv')"
   ]
  },
  {
   "cell_type": "code",
   "execution_count": 7,
   "metadata": {},
   "outputs": [],
   "source": [
    "t_averaged.to_csv('avg_cat_5k_7k_inv_perm_pseudo_sharpen.csv')"
   ]
  },
  {
   "cell_type": "code",
   "execution_count": 8,
   "metadata": {},
   "outputs": [],
   "source": [
    "t_averaged2 = temperature_sharpen(*predictions, t=.7)\n",
    "t_averaged2.to_csv('avg_cat_5k_7k_inv_perm_pseudo_sharpen_.7.csv')"
   ]
  },
  {
   "cell_type": "code",
   "execution_count": 9,
   "metadata": {},
   "outputs": [],
   "source": [
    "t_averaged2 = temperature_sharpen(*predictions, t=.9)\n",
    "t_averaged2.to_csv('avg_cat_5k_7k_inv_perm_pseudo_sharpen_.9.csv')"
   ]
  },
  {
   "cell_type": "code",
   "execution_count": 3,
   "metadata": {},
   "outputs": [],
   "source": [
    "predictions = ['total_cat_5k_perm_inv.csv', 'total_cat_5k_perm_inv_more.csv',\n",
    "               'total_cat_10k_perm_inv.csv', 'total_cat_7k_perm_inv.csv']"
   ]
  },
  {
   "cell_type": "code",
   "execution_count": 4,
   "metadata": {},
   "outputs": [],
   "source": [
    "averaged = average_predictions(*predictions)\n",
    "averaged.to_csv('avg_total_cat_5k_7k_10k_perm_inv.csv')"
   ]
  },
  {
   "cell_type": "code",
   "execution_count": 5,
   "metadata": {},
   "outputs": [],
   "source": [
    "sharpen = temperature_sharpen(*predictions)\n",
    "sharpen.to_csv('avg_total_cat_5k_7k_10k_perm_inv_sharpen.csv')"
   ]
  }
 ],
 "metadata": {
  "kernelspec": {
   "display_name": "Python 3",
   "language": "python",
   "name": "python3"
  },
  "language_info": {
   "codemirror_mode": {
    "name": "ipython",
    "version": 3
   },
   "file_extension": ".py",
   "mimetype": "text/x-python",
   "name": "python",
   "nbconvert_exporter": "python",
   "pygments_lexer": "ipython3",
   "version": "3.7.5"
  }
 },
 "nbformat": 4,
 "nbformat_minor": 4
}
