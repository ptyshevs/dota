{
 "cells": [
  {
   "cell_type": "code",
   "execution_count": 1,
   "metadata": {},
   "outputs": [],
   "source": [
    "import pandas as pd"
   ]
  },
  {
   "cell_type": "code",
   "execution_count": 4,
   "metadata": {},
   "outputs": [],
   "source": [
    "import json"
   ]
  },
  {
   "cell_type": "code",
   "execution_count": 6,
   "metadata": {},
   "outputs": [
    {
     "name": "stdout",
     "output_type": "stream",
     "text": [
      "{\"game_time\":155,\"match_id_hash\":\"a400b8f29dece5f4d266f49f1ae2e98a\",\"teamfights\":[],\"objectives\":[{\"time\":124.203,\"type\":\"CHAT_MESSAGE_FIRSTBLOOD\",\"slot\":8,\"key\":2,\"player_slot\":131}],\"chat\":[{\"player_slot\":0,\"time\":-13.63,\"text\":\"???\"},{\"player_slot\":0,\"time\":-10.964,\"text\":\"? ???? ??????\"},{\"player_slot\":0,\"time\":-7.965,\"text\":\"???????? ????(\"},{\"player_slot\":4,\"time\":43.756,\"text\":\"???\"},{\"player_slot\":2,\"time\":44.422,\"text\":\"??? ??????\"},{\"player_slot\":4,\"time\":45.289,\"text\":\"*[*[*[\"},{\"play\n"
     ]
    }
   ],
   "source": [
    "with open('data/train_matches.jsonl') as fp:\n",
    "    for line in fp:\n",
    "        print(line[:500])\n",
    "        obj = json.loads(line)\n",
    "#         print(str(obj)[:500])\n",
    "        break"
   ]
  },
  {
   "cell_type": "code",
   "execution_count": 7,
   "metadata": {},
   "outputs": [
    {
     "data": {
      "text/plain": [
       "dict_keys(['game_time', 'match_id_hash', 'teamfights', 'objectives', 'chat', 'game_mode', 'lobby_type', 'players', 'targets'])"
      ]
     },
     "execution_count": 7,
     "metadata": {},
     "output_type": "execute_result"
    }
   ],
   "source": [
    "obj.keys()"
   ]
  },
  {
   "cell_type": "code",
   "execution_count": 9,
   "metadata": {},
   "outputs": [
    {
     "data": {
      "text/plain": [
       "(155, 'a400b8f29dece5f4d266f49f1ae2e98a', [])"
      ]
     },
     "execution_count": 9,
     "metadata": {},
     "output_type": "execute_result"
    }
   ],
   "source": [
    "obj['game_time'], obj['match_id_hash'], obj['teamfights']"
   ]
  },
  {
   "cell_type": "code",
   "execution_count": 10,
   "metadata": {},
   "outputs": [
    {
     "name": "stdout",
     "output_type": "stream",
     "text": [
      "Object with non-empty teamfights found!\n"
     ]
    }
   ],
   "source": [
    "# What are teamfights?\n",
    "for line in open('data/train_matches.jsonl'):\n",
    "    line_obj = json.loads(line)\n",
    "    if len(line_obj['teamfights']) > 0:\n",
    "        print(\"Object with non-empty teamfights found!\")\n",
    "        break"
   ]
  },
  {
   "cell_type": "code",
   "execution_count": 28,
   "metadata": {},
   "outputs": [
    {
     "data": {
      "text/plain": [
       "658"
      ]
     },
     "execution_count": 28,
     "metadata": {},
     "output_type": "execute_result"
    }
   ],
   "source": [
    "line_obj['game_time']"
   ]
  },
  {
   "cell_type": "code",
   "execution_count": 33,
   "metadata": {},
   "outputs": [],
   "source": [
    "first_player = line_obj['players'][0]"
   ]
  },
  {
   "cell_type": "code",
   "execution_count": 34,
   "metadata": {},
   "outputs": [
    {
     "data": {
      "text/plain": [
       "dict_keys(['player_slot', 'hero_id', 'hero_name', 'account_id_hash', 'ability_upgrades', 'obs_placed', 'sen_placed', 'creeps_stacked', 'camps_stacked', 'rune_pickups', 'firstblood_claimed', 'teamfight_participation', 'towers_killed', 'roshans_killed', 'observers_placed', 'stuns', 'max_hero_hit', 'times', 'gold_t', 'lh_t', 'dn_t', 'xp_t', 'obs_log', 'sen_log', 'obs_left_log', 'sen_left_log', 'purchase_log', 'kills_log', 'buyback_log', 'runes_log', 'obs', 'sen', 'actions', 'pings', 'purchase', 'gold_reasons', 'xp_reasons', 'killed', 'item_uses', 'ability_uses', 'hero_hits', 'damage', 'damage_taken', 'damage_inflictor', 'runes', 'killed_by', 'kill_streaks', 'multi_kills', 'life_state', 'healing', 'damage_inflictor_received', 'randomed', 'pred_vict', 'gold', 'lh', 'xp', 'x', 'y', 'hero_inventory', 'hero_stash', 'health', 'max_health', 'max_mana', 'level', 'kills', 'deaths', 'assists', 'denies', 'nearby_creep_death_count'])"
      ]
     },
     "execution_count": 34,
     "metadata": {},
     "output_type": "execute_result"
    }
   ],
   "source": [
    "first_player.keys()"
   ]
  },
  {
   "cell_type": "code",
   "execution_count": 37,
   "metadata": {},
   "outputs": [
    {
     "data": {
      "text/plain": [
       "(15, 'npc_dota_hero_razor')"
      ]
     },
     "execution_count": 37,
     "metadata": {},
     "output_type": "execute_result"
    }
   ],
   "source": [
    "first_player['hero_id'], first_player['hero_name']"
   ]
  },
  {
   "cell_type": "code",
   "execution_count": 15,
   "metadata": {},
   "outputs": [],
   "source": [
    "len(line_obj['teamfights'])\n",
    "first_fight = line_obj['teamfights'][0]"
   ]
  },
  {
   "cell_type": "code",
   "execution_count": 17,
   "metadata": {},
   "outputs": [
    {
     "data": {
      "text/plain": [
       "dict_keys(['start', 'end', 'last_death', 'deaths', 'players'])"
      ]
     },
     "execution_count": 17,
     "metadata": {},
     "output_type": "execute_result"
    }
   ],
   "source": [
    "first_fight.keys()"
   ]
  },
  {
   "cell_type": "code",
   "execution_count": 23,
   "metadata": {},
   "outputs": [
    {
     "data": {
      "text/plain": [
       "4"
      ]
     },
     "execution_count": 23,
     "metadata": {},
     "output_type": "execute_result"
    }
   ],
   "source": [
    "first_fight['deaths']"
   ]
  },
  {
   "cell_type": "code",
   "execution_count": 26,
   "metadata": {},
   "outputs": [
    {
     "data": {
      "text/plain": [
       "[{'deaths_pos': {},\n",
       "  'ability_uses': {'razor_static_link': 1},\n",
       "  'item_uses': {'tango': 1},\n",
       "  'killed': {'npc_dota_hero_pudge': 132, 'npc_dota_hero_clinkz': 76},\n",
       "  'deaths': 0,\n",
       "  'buybacks': 0,\n",
       "  'damage': 1079,\n",
       "  'healing': 0,\n",
       "  'gold_delta': 570,\n",
       "  'xp_delta': 110},\n",
       " {'deaths_pos': {},\n",
       "  'ability_uses': {},\n",
       "  'item_uses': {'tango': 1, 'tpscroll': 1},\n",
       "  'killed': {},\n",
       "  'deaths': 0,\n",
       "  'buybacks': 0,\n",
       "  'damage': 0,\n",
       "  'healing': 0,\n",
       "  'gold_delta': 40,\n",
       "  'xp_delta': 0},\n",
       " {'deaths_pos': {},\n",
       "  'ability_uses': {'shadow_shaman_shackles': 1},\n",
       "  'item_uses': {'tango': 1, 'faerie_fire': 1, 'tpscroll': 1},\n",
       "  'killed': {},\n",
       "  'deaths': 0,\n",
       "  'buybacks': 0,\n",
       "  'damage': 236,\n",
       "  'healing': 85,\n",
       "  'gold_delta': -21,\n",
       "  'xp_delta': 19},\n",
       " {'deaths_pos': {},\n",
       "  'ability_uses': {'weaver_shukuchi': 1},\n",
       "  'item_uses': {'branches': 1, 'tango_single': 1},\n",
       "  'killed': {},\n",
       "  'deaths': 0,\n",
       "  'buybacks': 0,\n",
       "  'damage': 122,\n",
       "  'healing': 0,\n",
       "  'gold_delta': 40,\n",
       "  'xp_delta': 17},\n",
       " {'deaths_pos': {},\n",
       "  'ability_uses': {'naga_siren_ensnare': 3},\n",
       "  'item_uses': {'flask': 1, 'tango_single': 1, 'clarity': 1},\n",
       "  'killed': {},\n",
       "  'deaths': 0,\n",
       "  'buybacks': 0,\n",
       "  'damage': 409,\n",
       "  'healing': 0,\n",
       "  'gold_delta': 370,\n",
       "  'xp_delta': 110},\n",
       " {'deaths_pos': {},\n",
       "  'ability_uses': {'enchantress_enchant': 1},\n",
       "  'item_uses': {},\n",
       "  'killed': {},\n",
       "  'deaths': 0,\n",
       "  'buybacks': 0,\n",
       "  'damage': 479,\n",
       "  'healing': 0,\n",
       "  'gold_delta': 40,\n",
       "  'xp_delta': 0},\n",
       " {'deaths_pos': {},\n",
       "  'ability_uses': {'pudge_rot': 4},\n",
       "  'item_uses': {'tpscroll': 1},\n",
       "  'killed': {'npc_dota_hero_shadow_shaman': 4},\n",
       "  'deaths': 0,\n",
       "  'buybacks': 0,\n",
       "  'damage': 1570,\n",
       "  'healing': 0,\n",
       "  'gold_delta': 191,\n",
       "  'xp_delta': 30},\n",
       " {'deaths_pos': {},\n",
       "  'ability_uses': {'antimage_blink': 1},\n",
       "  'item_uses': {'tpscroll': 1},\n",
       "  'killed': {},\n",
       "  'deaths': 0,\n",
       "  'buybacks': 0,\n",
       "  'damage': 76,\n",
       "  'healing': 0,\n",
       "  'gold_delta': 40,\n",
       "  'xp_delta': 0},\n",
       " {'deaths_pos': {},\n",
       "  'ability_uses': {},\n",
       "  'item_uses': {'branches': 1, 'tpscroll': 1},\n",
       "  'killed': {},\n",
       "  'deaths': 0,\n",
       "  'buybacks': 0,\n",
       "  'damage': 428,\n",
       "  'healing': 0,\n",
       "  'gold_delta': 26,\n",
       "  'xp_delta': 30},\n",
       " {'deaths_pos': {},\n",
       "  'ability_uses': {'visage_grave_chill': 1},\n",
       "  'item_uses': {},\n",
       "  'killed': {},\n",
       "  'deaths': 0,\n",
       "  'buybacks': 0,\n",
       "  'damage': 95,\n",
       "  'healing': 0,\n",
       "  'gold_delta': 40,\n",
       "  'xp_delta': 17}]"
      ]
     },
     "execution_count": 26,
     "metadata": {},
     "output_type": "execute_result"
    }
   ],
   "source": [
    "first_fight['players']"
   ]
  }
 ],
 "metadata": {
  "kernelspec": {
   "display_name": "Python 3",
   "language": "python",
   "name": "python3"
  },
  "language_info": {
   "codemirror_mode": {
    "name": "ipython",
    "version": 3
   },
   "file_extension": ".py",
   "mimetype": "text/x-python",
   "name": "python",
   "nbconvert_exporter": "python",
   "pygments_lexer": "ipython3",
   "version": "3.7.5"
  }
 },
 "nbformat": 4,
 "nbformat_minor": 4
}
