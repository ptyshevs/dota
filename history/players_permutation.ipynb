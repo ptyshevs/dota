{
 "cells": [
  {
   "cell_type": "code",
   "execution_count": 1,
   "metadata": {},
   "outputs": [],
   "source": [
    "# Idea: permute team members to make model more robust"
   ]
  },
  {
   "cell_type": "code",
   "execution_count": 2,
   "metadata": {},
   "outputs": [],
   "source": [
    "import pandas as pd"
   ]
  },
  {
   "cell_type": "code",
   "execution_count": 3,
   "metadata": {},
   "outputs": [],
   "source": [
    "from itertools import permutations"
   ]
  },
  {
   "cell_type": "code",
   "execution_count": 16,
   "metadata": {},
   "outputs": [
    {
     "data": {
      "text/plain": [
       "[(2, 1, 4, 5, 3), (3, 4, 5, 1, 2), (4, 5, 2, 3, 1), (5, 3, 1, 2, 4)]"
      ]
     },
     "execution_count": 16,
     "metadata": {},
     "output_type": "execute_result"
    }
   ],
   "source": [
    "complete_permutations = []\n",
    "for p in permutations(range(1, 6)):\n",
    "    unique = True\n",
    "    for i in range(5):\n",
    "        if p[i] == i + 1:\n",
    "            unique = False\n",
    "            break\n",
    "    for c in complete_permutations:\n",
    "        for i in range(5):\n",
    "            if p[i] == c[i]:\n",
    "                unique = False\n",
    "                break\n",
    "        if not unique:\n",
    "            break\n",
    "    if unique:\n",
    "        complete_permutations.append(p)\n",
    "complete_permutations"
   ]
  },
  {
   "cell_type": "code",
   "execution_count": 17,
   "metadata": {},
   "outputs": [],
   "source": [
    "train_df = pd.read_csv('data/train_features.csv', index_col=0)"
   ]
  },
  {
   "cell_type": "code",
   "execution_count": 52,
   "metadata": {},
   "outputs": [],
   "source": [
    "perm_radiant, perm_dire = complete_permutations[:2]"
   ]
  },
  {
   "cell_type": "code",
   "execution_count": 53,
   "metadata": {},
   "outputs": [],
   "source": [
    "X = train_df.copy()\n",
    "new_r_team = []\n",
    "new_d_team = []\n",
    "for i, prad, pdire in zip(range(1, 6), perm_radiant, perm_dire):\n",
    "    p = X[[c for c in X.columns if c.startswith('r'+str(prad))]]\n",
    "    p.columns = [c[0] + str(i) + c[2:] for c in p.columns]\n",
    "    new_r_team.append(p)\n",
    "    \n",
    "    p = X[[c for c in X.columns if c.startswith('d'+str(pdire))]]\n",
    "    p.columns = [c[0] + str(i) + c[2:] for c in p.columns]\n",
    "    new_d_team.append(p)"
   ]
  },
  {
   "cell_type": "code",
   "execution_count": 42,
   "metadata": {},
   "outputs": [],
   "source": [
    "general_features = train_df.iloc[:, :5]"
   ]
  },
  {
   "cell_type": "code",
   "execution_count": 61,
   "metadata": {},
   "outputs": [],
   "source": [
    "enh_train = []\n",
    "\n",
    "combined_df = pd.concat([general_features] + new_r_team + new_d_team, axis=1)\n",
    "enh_train.append(combined_df)\n"
   ]
  },
  {
   "cell_type": "code",
   "execution_count": 63,
   "metadata": {},
   "outputs": [],
   "source": [
    "enh_train.append(combined_df)"
   ]
  },
  {
   "cell_type": "code",
   "execution_count": 13,
   "metadata": {},
   "outputs": [
    {
     "data": {
      "text/plain": [
       "4"
      ]
     },
     "execution_count": 13,
     "metadata": {},
     "output_type": "execute_result"
    }
   ],
   "source": [
    "len(complete_permutations)"
   ]
  },
  {
   "cell_type": "code",
   "execution_count": 65,
   "metadata": {},
   "outputs": [
    {
     "name": "stdout",
     "output_type": "stream",
     "text": [
      "(2, 1, 4, 5, 3) (3, 4, 5, 1, 2)\n",
      "(3, 4, 5, 1, 2) (4, 5, 2, 3, 1)\n",
      "(4, 5, 2, 3, 1) (5, 3, 1, 2, 4)\n",
      "(5, 3, 1, 2, 4) (2, 1, 4, 5, 3)\n"
     ]
    }
   ],
   "source": [
    "for perm_rad, perm_dire in zip(complete_permutations, complete_permutations[1:] + [complete_permutations[0]]):\n",
    "    print(perm_rad, perm_dire)"
   ]
  },
  {
   "cell_type": "code",
   "execution_count": 66,
   "metadata": {},
   "outputs": [],
   "source": [
    "import gc"
   ]
  },
  {
   "cell_type": "code",
   "execution_count": 67,
   "metadata": {},
   "outputs": [
    {
     "data": {
      "text/plain": [
       "4763"
      ]
     },
     "execution_count": 67,
     "metadata": {},
     "output_type": "execute_result"
    }
   ],
   "source": [
    "gc.collect()"
   ]
  },
  {
   "cell_type": "code",
   "execution_count": 84,
   "metadata": {},
   "outputs": [],
   "source": [
    "import re"
   ]
  },
  {
   "cell_type": "code",
   "execution_count": 85,
   "metadata": {},
   "outputs": [
    {
     "data": {
      "text/plain": [
       "Index(['game_time', 'game_mode', 'lobby_type', 'objectives_len', 'chat_len',\n",
       "       'r1_hero_id', 'r1_kills', 'r1_deaths', 'r1_assists', 'r1_denies',\n",
       "       ...\n",
       "       'd5_stuns', 'd5_creeps_stacked', 'd5_camps_stacked', 'd5_rune_pickups',\n",
       "       'd5_firstblood_claimed', 'd5_teamfight_participation',\n",
       "       'd5_towers_killed', 'd5_roshans_killed', 'd5_obs_placed',\n",
       "       'd5_sen_placed'],\n",
       "      dtype='object', length=245)"
      ]
     },
     "execution_count": 85,
     "metadata": {},
     "output_type": "execute_result"
    }
   ],
   "source": [
    "X.columns"
   ]
  },
  {
   "cell_type": "code",
   "execution_count": 90,
   "metadata": {},
   "outputs": [],
   "source": [
    "hero_features = [c for c in X.columns if re.search(r'[rd][0-9]_.*', c) ]"
   ]
  },
  {
   "cell_type": "code",
   "execution_count": 76,
   "metadata": {},
   "outputs": [
    {
     "data": {
      "text/plain": [
       "(198375, 245)"
      ]
     },
     "execution_count": 76,
     "metadata": {},
     "output_type": "execute_result"
    }
   ],
   "source": [
    "X = train_df.copy()\n",
    "enh_train = []\n",
    "\n",
    "for perm_rad, perm_dire in zip(complete_permutations, complete_permutations[1:] + [complete_permutations[0]]):\n",
    "    new_r_team = []\n",
    "    new_d_team = []\n",
    "    for i, prad, pdire in zip(range(1, 6), perm_rad, perm_dire):\n",
    "        p = X[[c for c in X.columns if c.startswith('r'+str(prad))]]\n",
    "        p.columns = [c[0] + str(i) + c[2:] for c in p.columns]\n",
    "        new_r_team.append(p)\n",
    "\n",
    "        p = X[[c for c in X.columns if c.startswith('d'+str(pdire))]]\n",
    "        p.columns = [c[0] + str(i) + c[2:] for c in p.columns]\n",
    "        new_d_team.append(p)\n",
    "    combined_df = pd.concat([general_features] + new_r_team + new_d_team, axis=1)\n",
    "    enh_train.append(combined_df)\n",
    "    gc.collect()\n",
    "X_enh = pd.concat([X] + enh_train)\n",
    "X_enh.shape"
   ]
  },
  {
   "cell_type": "code",
   "execution_count": 70,
   "metadata": {},
   "outputs": [],
   "source": [
    "train_targets = pd.read_csv('data/train_targets.csv', index_col=0)"
   ]
  },
  {
   "cell_type": "code",
   "execution_count": 71,
   "metadata": {},
   "outputs": [],
   "source": [
    "y = train_targets.radiant_win"
   ]
  },
  {
   "cell_type": "code",
   "execution_count": 77,
   "metadata": {},
   "outputs": [],
   "source": [
    "y_enh = pd.concat([y] * (1 + len(enh_train)))"
   ]
  },
  {
   "cell_type": "code",
   "execution_count": 80,
   "metadata": {},
   "outputs": [],
   "source": [
    "y_enh = pd.DataFrame(y_enh)"
   ]
  },
  {
   "cell_type": "code",
   "execution_count": 79,
   "metadata": {},
   "outputs": [
    {
     "name": "stderr",
     "output_type": "stream",
     "text": [
      "/Volumes/Storage/goinfre/ptyshevs/env/lib/python3.6/site-packages/ipykernel_launcher.py:2: FutureWarning: The signature of `Series.to_csv` was aligned to that of `DataFrame.to_csv`, and argument 'header' will change its default value from False to True: please pass an explicit value to suppress this warning.\n",
      "  \n"
     ]
    }
   ],
   "source": [
    "X_enh.to_csv('perm_X.csv')"
   ]
  },
  {
   "cell_type": "code",
   "execution_count": 82,
   "metadata": {},
   "outputs": [],
   "source": [
    "y_enh.to_csv('perm_y.csv')"
   ]
  },
  {
   "cell_type": "code",
   "execution_count": 92,
   "metadata": {},
   "outputs": [],
   "source": [
    "def permute_players(X, Y):\n",
    "    hero_features = [c for c in X.columns if re.search(r'[rd][0-9]_.*', c)]\n",
    "    permutations = [(2, 1, 4, 5, 3), (3, 4, 5, 1, 2), (4, 5, 2, 3, 1), (5, 3, 1, 2, 4)]\n",
    "    enh_train = []\n",
    "\n",
    "    for perm_rad, perm_dire in zip(permutations, permutations[1:] + [permutations[0]]):\n",
    "        new_r_team = []\n",
    "        new_d_team = []\n",
    "        for i, prad, pdire in zip(range(1, 6), perm_rad, perm_dire):\n",
    "            p = X[[c for c in hero_features if c.startswith('r'+str(prad))]]\n",
    "            p.columns = [c[0] + str(i) + c[2:] for c in p.columns]\n",
    "            new_r_team.append(p)\n",
    "\n",
    "            p = X[[c for c in hero_features if c.startswith('d'+str(pdire))]]\n",
    "            p.columns = [c[0] + str(i) + c[2:] for c in p.columns]\n",
    "            new_d_team.append(p)\n",
    "        combined_df = pd.concat([general_features] + new_r_team + new_d_team, axis=1)\n",
    "        enh_train.append(combined_df)\n",
    "        gc.collect()\n",
    "    X_enh = pd.concat([X] + enh_train)\n",
    "    y_enh = pd.DataFrame(pd.concat([Y.radiant_win] * (1 + len(enh_train))), columns=['radiant_win'])\n",
    "    return X_enh, y_enh"
   ]
  },
  {
   "cell_type": "code",
   "execution_count": 94,
   "metadata": {},
   "outputs": [],
   "source": [
    "try_X, try_Y = permute_players(X, train_targets)"
   ]
  },
  {
   "cell_type": "code",
   "execution_count": 96,
   "metadata": {},
   "outputs": [
    {
     "data": {
      "text/plain": [
       "((198375, 245), (198375, 1))"
      ]
     },
     "execution_count": 96,
     "metadata": {},
     "output_type": "execute_result"
    }
   ],
   "source": [
    "try_X.shape, try_Y.shape"
   ]
  }
 ],
 "metadata": {
  "kernelspec": {
   "display_name": "Python 3",
   "language": "python",
   "name": "python3"
  },
  "language_info": {
   "codemirror_mode": {
    "name": "ipython",
    "version": 3
   },
   "file_extension": ".py",
   "mimetype": "text/x-python",
   "name": "python",
   "nbconvert_exporter": "python",
   "pygments_lexer": "ipython3",
   "version": "3.6.8"
  }
 },
 "nbformat": 4,
 "nbformat_minor": 4
}
