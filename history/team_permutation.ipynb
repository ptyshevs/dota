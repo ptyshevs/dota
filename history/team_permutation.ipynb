{
 "cells": [
  {
   "cell_type": "code",
   "execution_count": 1,
   "metadata": {},
   "outputs": [],
   "source": [
    "import pandas as pd"
   ]
  },
  {
   "cell_type": "code",
   "execution_count": 2,
   "metadata": {},
   "outputs": [],
   "source": [
    "X = pd.read_csv('data/train_features.csv', index_col=0)\n",
    "Y = pd.read_csv('data/train_targets.csv', index_col=0)"
   ]
  },
  {
   "cell_type": "code",
   "execution_count": 16,
   "metadata": {},
   "outputs": [],
   "source": [
    "rad_cols = []\n",
    "dire_cols = []\n",
    "neutral_cols = []\n",
    "for c in X.columns:\n",
    "    if c.startswith('r'):\n",
    "        rad_cols.append(c)\n",
    "    elif c.startswith('d'):\n",
    "        dire_cols.append(c)\n",
    "    else:\n",
    "        neutral_cols.append(c)"
   ]
  },
  {
   "cell_type": "code",
   "execution_count": 17,
   "metadata": {},
   "outputs": [],
   "source": [
    "neutral_data = X[neutral_cols]"
   ]
  },
  {
   "cell_type": "code",
   "execution_count": 12,
   "metadata": {},
   "outputs": [],
   "source": [
    "radiant_team = X[rad_cols]"
   ]
  },
  {
   "cell_type": "code",
   "execution_count": 13,
   "metadata": {},
   "outputs": [
    {
     "data": {
      "text/html": [
       "<div>\n",
       "<style scoped>\n",
       "    .dataframe tbody tr th:only-of-type {\n",
       "        vertical-align: middle;\n",
       "    }\n",
       "\n",
       "    .dataframe tbody tr th {\n",
       "        vertical-align: top;\n",
       "    }\n",
       "\n",
       "    .dataframe thead th {\n",
       "        text-align: right;\n",
       "    }\n",
       "</style>\n",
       "<table border=\"1\" class=\"dataframe\">\n",
       "  <thead>\n",
       "    <tr style=\"text-align: right;\">\n",
       "      <th></th>\n",
       "      <th>d1_hero_id</th>\n",
       "      <th>d1_kills</th>\n",
       "      <th>d1_deaths</th>\n",
       "      <th>d1_assists</th>\n",
       "      <th>d1_denies</th>\n",
       "      <th>d1_gold</th>\n",
       "      <th>d1_lh</th>\n",
       "      <th>d1_xp</th>\n",
       "      <th>d1_health</th>\n",
       "      <th>d1_max_health</th>\n",
       "      <th>...</th>\n",
       "      <th>d5_stuns</th>\n",
       "      <th>d5_creeps_stacked</th>\n",
       "      <th>d5_camps_stacked</th>\n",
       "      <th>d5_rune_pickups</th>\n",
       "      <th>d5_firstblood_claimed</th>\n",
       "      <th>d5_teamfight_participation</th>\n",
       "      <th>d5_towers_killed</th>\n",
       "      <th>d5_roshans_killed</th>\n",
       "      <th>d5_obs_placed</th>\n",
       "      <th>d5_sen_placed</th>\n",
       "    </tr>\n",
       "    <tr>\n",
       "      <th>match_id_hash</th>\n",
       "      <th></th>\n",
       "      <th></th>\n",
       "      <th></th>\n",
       "      <th></th>\n",
       "      <th></th>\n",
       "      <th></th>\n",
       "      <th></th>\n",
       "      <th></th>\n",
       "      <th></th>\n",
       "      <th></th>\n",
       "      <th></th>\n",
       "      <th></th>\n",
       "      <th></th>\n",
       "      <th></th>\n",
       "      <th></th>\n",
       "      <th></th>\n",
       "      <th></th>\n",
       "      <th></th>\n",
       "      <th></th>\n",
       "      <th></th>\n",
       "      <th></th>\n",
       "    </tr>\n",
       "  </thead>\n",
       "  <tbody>\n",
       "    <tr>\n",
       "      <td>a400b8f29dece5f4d266f49f1ae2e98a</td>\n",
       "      <td>11</td>\n",
       "      <td>0</td>\n",
       "      <td>0</td>\n",
       "      <td>0</td>\n",
       "      <td>0</td>\n",
       "      <td>543</td>\n",
       "      <td>7</td>\n",
       "      <td>533</td>\n",
       "      <td>358</td>\n",
       "      <td>600</td>\n",
       "      <td>...</td>\n",
       "      <td>0.0</td>\n",
       "      <td>0</td>\n",
       "      <td>0</td>\n",
       "      <td>0</td>\n",
       "      <td>0</td>\n",
       "      <td>0.0</td>\n",
       "      <td>0</td>\n",
       "      <td>0</td>\n",
       "      <td>0</td>\n",
       "      <td>0</td>\n",
       "    </tr>\n",
       "  </tbody>\n",
       "</table>\n",
       "<p>1 rows × 120 columns</p>\n",
       "</div>"
      ],
      "text/plain": [
       "                                  d1_hero_id  d1_kills  d1_deaths  d1_assists  \\\n",
       "match_id_hash                                                                   \n",
       "a400b8f29dece5f4d266f49f1ae2e98a          11         0          0           0   \n",
       "\n",
       "                                  d1_denies  d1_gold  d1_lh  d1_xp  d1_health  \\\n",
       "match_id_hash                                                                   \n",
       "a400b8f29dece5f4d266f49f1ae2e98a          0      543      7    533        358   \n",
       "\n",
       "                                  d1_max_health  ...  d5_stuns  \\\n",
       "match_id_hash                                    ...             \n",
       "a400b8f29dece5f4d266f49f1ae2e98a            600  ...       0.0   \n",
       "\n",
       "                                  d5_creeps_stacked  d5_camps_stacked  \\\n",
       "match_id_hash                                                           \n",
       "a400b8f29dece5f4d266f49f1ae2e98a                  0                 0   \n",
       "\n",
       "                                  d5_rune_pickups  d5_firstblood_claimed  \\\n",
       "match_id_hash                                                              \n",
       "a400b8f29dece5f4d266f49f1ae2e98a                0                      0   \n",
       "\n",
       "                                  d5_teamfight_participation  \\\n",
       "match_id_hash                                                  \n",
       "a400b8f29dece5f4d266f49f1ae2e98a                         0.0   \n",
       "\n",
       "                                  d5_towers_killed  d5_roshans_killed  \\\n",
       "match_id_hash                                                           \n",
       "a400b8f29dece5f4d266f49f1ae2e98a                 0                  0   \n",
       "\n",
       "                                  d5_obs_placed  d5_sen_placed  \n",
       "match_id_hash                                                   \n",
       "a400b8f29dece5f4d266f49f1ae2e98a              0              0  \n",
       "\n",
       "[1 rows x 120 columns]"
      ]
     },
     "execution_count": 13,
     "metadata": {},
     "output_type": "execute_result"
    }
   ],
   "source": [
    "radiant_team.columns = ['d' + c[1:] for c in radiant_team.columns]\n",
    "radiant_team.head(1)"
   ]
  },
  {
   "cell_type": "code",
   "execution_count": 14,
   "metadata": {},
   "outputs": [
    {
     "data": {
      "text/html": [
       "<div>\n",
       "<style scoped>\n",
       "    .dataframe tbody tr th:only-of-type {\n",
       "        vertical-align: middle;\n",
       "    }\n",
       "\n",
       "    .dataframe tbody tr th {\n",
       "        vertical-align: top;\n",
       "    }\n",
       "\n",
       "    .dataframe thead th {\n",
       "        text-align: right;\n",
       "    }\n",
       "</style>\n",
       "<table border=\"1\" class=\"dataframe\">\n",
       "  <thead>\n",
       "    <tr style=\"text-align: right;\">\n",
       "      <th></th>\n",
       "      <th>r1_hero_id</th>\n",
       "      <th>r1_kills</th>\n",
       "      <th>r1_deaths</th>\n",
       "      <th>r1_assists</th>\n",
       "      <th>r1_denies</th>\n",
       "      <th>r1_gold</th>\n",
       "      <th>r1_lh</th>\n",
       "      <th>r1_xp</th>\n",
       "      <th>r1_health</th>\n",
       "      <th>r1_max_health</th>\n",
       "      <th>...</th>\n",
       "      <th>r5_stuns</th>\n",
       "      <th>r5_creeps_stacked</th>\n",
       "      <th>r5_camps_stacked</th>\n",
       "      <th>r5_rune_pickups</th>\n",
       "      <th>r5_firstblood_claimed</th>\n",
       "      <th>r5_teamfight_participation</th>\n",
       "      <th>r5_towers_killed</th>\n",
       "      <th>r5_roshans_killed</th>\n",
       "      <th>r5_obs_placed</th>\n",
       "      <th>r5_sen_placed</th>\n",
       "    </tr>\n",
       "    <tr>\n",
       "      <th>match_id_hash</th>\n",
       "      <th></th>\n",
       "      <th></th>\n",
       "      <th></th>\n",
       "      <th></th>\n",
       "      <th></th>\n",
       "      <th></th>\n",
       "      <th></th>\n",
       "      <th></th>\n",
       "      <th></th>\n",
       "      <th></th>\n",
       "      <th></th>\n",
       "      <th></th>\n",
       "      <th></th>\n",
       "      <th></th>\n",
       "      <th></th>\n",
       "      <th></th>\n",
       "      <th></th>\n",
       "      <th></th>\n",
       "      <th></th>\n",
       "      <th></th>\n",
       "      <th></th>\n",
       "    </tr>\n",
       "  </thead>\n",
       "  <tbody>\n",
       "    <tr>\n",
       "      <td>a400b8f29dece5f4d266f49f1ae2e98a</td>\n",
       "      <td>12</td>\n",
       "      <td>0</td>\n",
       "      <td>0</td>\n",
       "      <td>1</td>\n",
       "      <td>13</td>\n",
       "      <td>982</td>\n",
       "      <td>12</td>\n",
       "      <td>780</td>\n",
       "      <td>650</td>\n",
       "      <td>720</td>\n",
       "      <td>...</td>\n",
       "      <td>0.0</td>\n",
       "      <td>0</td>\n",
       "      <td>0</td>\n",
       "      <td>0</td>\n",
       "      <td>0</td>\n",
       "      <td>0.0</td>\n",
       "      <td>0</td>\n",
       "      <td>0</td>\n",
       "      <td>0</td>\n",
       "      <td>0</td>\n",
       "    </tr>\n",
       "  </tbody>\n",
       "</table>\n",
       "<p>1 rows × 120 columns</p>\n",
       "</div>"
      ],
      "text/plain": [
       "                                  r1_hero_id  r1_kills  r1_deaths  r1_assists  \\\n",
       "match_id_hash                                                                   \n",
       "a400b8f29dece5f4d266f49f1ae2e98a          12         0          0           1   \n",
       "\n",
       "                                  r1_denies  r1_gold  r1_lh  r1_xp  r1_health  \\\n",
       "match_id_hash                                                                   \n",
       "a400b8f29dece5f4d266f49f1ae2e98a         13      982     12    780        650   \n",
       "\n",
       "                                  r1_max_health  ...  r5_stuns  \\\n",
       "match_id_hash                                    ...             \n",
       "a400b8f29dece5f4d266f49f1ae2e98a            720  ...       0.0   \n",
       "\n",
       "                                  r5_creeps_stacked  r5_camps_stacked  \\\n",
       "match_id_hash                                                           \n",
       "a400b8f29dece5f4d266f49f1ae2e98a                  0                 0   \n",
       "\n",
       "                                  r5_rune_pickups  r5_firstblood_claimed  \\\n",
       "match_id_hash                                                              \n",
       "a400b8f29dece5f4d266f49f1ae2e98a                0                      0   \n",
       "\n",
       "                                  r5_teamfight_participation  \\\n",
       "match_id_hash                                                  \n",
       "a400b8f29dece5f4d266f49f1ae2e98a                         0.0   \n",
       "\n",
       "                                  r5_towers_killed  r5_roshans_killed  \\\n",
       "match_id_hash                                                           \n",
       "a400b8f29dece5f4d266f49f1ae2e98a                 0                  0   \n",
       "\n",
       "                                  r5_obs_placed  r5_sen_placed  \n",
       "match_id_hash                                                   \n",
       "a400b8f29dece5f4d266f49f1ae2e98a              0              0  \n",
       "\n",
       "[1 rows x 120 columns]"
      ]
     },
     "execution_count": 14,
     "metadata": {},
     "output_type": "execute_result"
    }
   ],
   "source": [
    "dire_team = X[dire_cols]\n",
    "dire_team.columns = ['r' + c[1:] for c in dire_team.columns]\n",
    "dire_team.head(1)"
   ]
  },
  {
   "cell_type": "code",
   "execution_count": 51,
   "metadata": {},
   "outputs": [],
   "source": [
    "target = Y.radiant_win\n",
    "inv_target = ~ target\n",
    "inv_target.index = inv_target.index.map(lambda x: 'inv_' + x)\n",
    "target_comb = pd.concat([target, inv_target])"
   ]
  },
  {
   "cell_type": "code",
   "execution_count": 53,
   "metadata": {},
   "outputs": [],
   "source": [
    "target_comb = pd.DataFrame(target_comb)"
   ]
  },
  {
   "cell_type": "code",
   "execution_count": 41,
   "metadata": {},
   "outputs": [],
   "source": [
    "# neutral_data.index = neutral_data.index.map(lambda x: 'inv_')"
   ]
  },
  {
   "cell_type": "code",
   "execution_count": 45,
   "metadata": {},
   "outputs": [],
   "source": [
    "X_inv = pd.concat([neutral_data, dire_team, radiant_team], axis=1)\n",
    "X_inv.index = X_inv.index.map(lambda x: 'inv_' + x)"
   ]
  },
  {
   "cell_type": "code",
   "execution_count": 47,
   "metadata": {},
   "outputs": [],
   "source": [
    "X_comb = pd.concat([X, X_inv])"
   ]
  },
  {
   "cell_type": "code",
   "execution_count": 52,
   "metadata": {},
   "outputs": [
    {
     "name": "stderr",
     "output_type": "stream",
     "text": [
      "/home/ptyshevskyi/envs/loc_env/lib/python3.6/site-packages/ipykernel_launcher.py:2: FutureWarning: The signature of `Series.to_csv` was aligned to that of `DataFrame.to_csv`, and argument 'header' will change its default value from False to True: please pass an explicit value to suppress this warning.\n",
      "  \n"
     ]
    }
   ],
   "source": [
    "X_comb.to_csv('features/train_team_inv.csv')"
   ]
  },
  {
   "cell_type": "code",
   "execution_count": 55,
   "metadata": {},
   "outputs": [],
   "source": [
    "target_comb.to_csv('features/train_team_inv_target.csv')"
   ]
  },
  {
   "cell_type": "code",
   "execution_count": 1,
   "metadata": {},
   "outputs": [],
   "source": [
    "import gc"
   ]
  },
  {
   "cell_type": "code",
   "execution_count": 2,
   "metadata": {},
   "outputs": [],
   "source": [
    "def team_permute(X, Y):\n",
    "    rad_cols = []\n",
    "    dire_cols = []\n",
    "    neutral_cols = []\n",
    "    for c in X.columns:\n",
    "        if c.startswith('r'):\n",
    "            rad_cols.append(c)\n",
    "        elif c.startswith('d'):\n",
    "            dire_cols.append(c)\n",
    "        else:\n",
    "            neutral_cols.append(c)\n",
    "    neutral_data = X[neutral_cols]\n",
    "    \n",
    "    radiant_team = X[rad_cols]\n",
    "    radiant_team.columns = ['d' + c[1:] for c in radiant_team.columns]\n",
    "    \n",
    "    dire_team = X[dire_cols]\n",
    "    dire_team.columns = ['r' + c[1:] for c in dire_team.columns]\n",
    "    \n",
    "    target = Y.radiant_win\n",
    "    inv_target = ~ target\n",
    "    inv_target.index = inv_target.index.map(lambda x: 'inv_' + x)\n",
    "    target_comb = pd.concat([target, inv_target])\n",
    "    gc.collect()    \n",
    "    X_inv = pd.concat([neutral_data, dire_team, radiant_team], axis=1)\n",
    "    X_inv.index = X_inv.index.map(lambda x: 'inv_' + x)\n",
    "    X_comb = pd.concat([X, X_inv])\n",
    "    gc.collect()\n",
    "    return X_comb, target_comb"
   ]
  },
  {
   "cell_type": "code",
   "execution_count": null,
   "metadata": {},
   "outputs": [],
   "source": []
  }
 ],
 "metadata": {
  "kernelspec": {
   "display_name": "Python 3",
   "language": "python",
   "name": "python3"
  },
  "language_info": {
   "codemirror_mode": {
    "name": "ipython",
    "version": 3
   },
   "file_extension": ".py",
   "mimetype": "text/x-python",
   "name": "python",
   "nbconvert_exporter": "python",
   "pygments_lexer": "ipython3",
   "version": "3.6.2"
  }
 },
 "nbformat": 4,
 "nbformat_minor": 4
}
