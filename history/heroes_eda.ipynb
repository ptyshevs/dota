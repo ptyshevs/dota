{
 "cells": [
  {
   "cell_type": "code",
   "execution_count": 1,
   "metadata": {},
   "outputs": [],
   "source": [
    "# import json\n",
    "import orjson as json"
   ]
  },
  {
   "cell_type": "code",
   "execution_count": 4,
   "metadata": {},
   "outputs": [],
   "source": [
    "unique_heroes = []\n",
    "for line in open('data/train_matches.jsonl'):\n",
    "    game = json.loads(line)\n",
    "    for p in game['players']:\n",
    "        h = (p['hero_id'], p['hero_name'])\n",
    "        if h not in unique_heroes:\n",
    "            unique_heroes.append(h)"
   ]
  },
  {
   "cell_type": "code",
   "execution_count": 8,
   "metadata": {},
   "outputs": [
    {
     "data": {
      "text/plain": [
       "[(120, 'npc_dota_hero_pangolier'),\n",
       " (119, 'npc_dota_hero_dark_willow'),\n",
       " (114, 'npc_dota_hero_monkey_king'),\n",
       " (113, 'npc_dota_hero_arc_warden'),\n",
       " (112, 'npc_dota_hero_winter_wyvern'),\n",
       " (111, 'npc_dota_hero_oracle'),\n",
       " (110, 'npc_dota_hero_phoenix'),\n",
       " (109, 'npc_dota_hero_terrorblade'),\n",
       " (108, 'npc_dota_hero_abyssal_underlord'),\n",
       " (107, 'npc_dota_hero_earth_spirit'),\n",
       " (106, 'npc_dota_hero_ember_spirit'),\n",
       " (105, 'npc_dota_hero_techies'),\n",
       " (104, 'npc_dota_hero_legion_commander'),\n",
       " (103, 'npc_dota_hero_elder_titan'),\n",
       " (102, 'npc_dota_hero_abaddon'),\n",
       " (101, 'npc_dota_hero_skywrath_mage'),\n",
       " (100, 'npc_dota_hero_tusk'),\n",
       " (99, 'npc_dota_hero_bristleback'),\n",
       " (98, 'npc_dota_hero_shredder'),\n",
       " (97, 'npc_dota_hero_magnataur'),\n",
       " (96, 'npc_dota_hero_centaur'),\n",
       " (95, 'npc_dota_hero_troll_warlord'),\n",
       " (94, 'npc_dota_hero_medusa'),\n",
       " (93, 'npc_dota_hero_slark'),\n",
       " (92, 'npc_dota_hero_visage'),\n",
       " (91, 'npc_dota_hero_wisp'),\n",
       " (90, 'npc_dota_hero_keeper_of_the_light'),\n",
       " (89, 'npc_dota_hero_naga_siren'),\n",
       " (88, 'npc_dota_hero_nyx_assassin'),\n",
       " (87, 'npc_dota_hero_disruptor'),\n",
       " (86, 'npc_dota_hero_rubick'),\n",
       " (85, 'npc_dota_hero_undying'),\n",
       " (84, 'npc_dota_hero_ogre_magi'),\n",
       " (83, 'npc_dota_hero_treant'),\n",
       " (82, 'npc_dota_hero_meepo'),\n",
       " (81, 'npc_dota_hero_chaos_knight'),\n",
       " (80, 'npc_dota_hero_lone_druid'),\n",
       " (79, 'npc_dota_hero_shadow_demon'),\n",
       " (78, 'npc_dota_hero_brewmaster'),\n",
       " (77, 'npc_dota_hero_lycan'),\n",
       " (76, 'npc_dota_hero_obsidian_destroyer'),\n",
       " (75, 'npc_dota_hero_silencer'),\n",
       " (74, 'npc_dota_hero_invoker'),\n",
       " (73, 'npc_dota_hero_alchemist'),\n",
       " (72, 'npc_dota_hero_gyrocopter'),\n",
       " (71, 'npc_dota_hero_spirit_breaker'),\n",
       " (70, 'npc_dota_hero_ursa'),\n",
       " (69, 'npc_dota_hero_doom_bringer'),\n",
       " (68, 'npc_dota_hero_ancient_apparition'),\n",
       " (67, 'npc_dota_hero_spectre'),\n",
       " (66, 'npc_dota_hero_chen'),\n",
       " (65, 'npc_dota_hero_batrider'),\n",
       " (64, 'npc_dota_hero_jakiro'),\n",
       " (63, 'npc_dota_hero_weaver'),\n",
       " (62, 'npc_dota_hero_bounty_hunter'),\n",
       " (61, 'npc_dota_hero_broodmother'),\n",
       " (60, 'npc_dota_hero_night_stalker'),\n",
       " (59, 'npc_dota_hero_huskar'),\n",
       " (58, 'npc_dota_hero_enchantress'),\n",
       " (57, 'npc_dota_hero_omniknight'),\n",
       " (56, 'npc_dota_hero_clinkz'),\n",
       " (55, 'npc_dota_hero_dark_seer'),\n",
       " (54, 'npc_dota_hero_life_stealer'),\n",
       " (53, 'npc_dota_hero_furion'),\n",
       " (52, 'npc_dota_hero_leshrac'),\n",
       " (51, 'npc_dota_hero_rattletrap'),\n",
       " (50, 'npc_dota_hero_dazzle'),\n",
       " (49, 'npc_dota_hero_dragon_knight'),\n",
       " (48, 'npc_dota_hero_luna'),\n",
       " (47, 'npc_dota_hero_viper'),\n",
       " (46, 'npc_dota_hero_templar_assassin'),\n",
       " (45, 'npc_dota_hero_pugna'),\n",
       " (44, 'npc_dota_hero_phantom_assassin'),\n",
       " (43, 'npc_dota_hero_death_prophet'),\n",
       " (42, 'npc_dota_hero_skeleton_king'),\n",
       " (41, 'npc_dota_hero_faceless_void'),\n",
       " (40, 'npc_dota_hero_venomancer'),\n",
       " (39, 'npc_dota_hero_queenofpain'),\n",
       " (38, 'npc_dota_hero_beastmaster'),\n",
       " (37, 'npc_dota_hero_warlock'),\n",
       " (36, 'npc_dota_hero_necrolyte'),\n",
       " (35, 'npc_dota_hero_sniper'),\n",
       " (34, 'npc_dota_hero_tinker'),\n",
       " (33, 'npc_dota_hero_enigma'),\n",
       " (32, 'npc_dota_hero_riki'),\n",
       " (31, 'npc_dota_hero_lich'),\n",
       " (30, 'npc_dota_hero_witch_doctor'),\n",
       " (29, 'npc_dota_hero_tidehunter'),\n",
       " (28, 'npc_dota_hero_slardar'),\n",
       " (27, 'npc_dota_hero_shadow_shaman'),\n",
       " (26, 'npc_dota_hero_lion'),\n",
       " (25, 'npc_dota_hero_lina'),\n",
       " (23, 'npc_dota_hero_kunkka'),\n",
       " (22, 'npc_dota_hero_zuus'),\n",
       " (21, 'npc_dota_hero_windrunner'),\n",
       " (20, 'npc_dota_hero_vengefulspirit'),\n",
       " (19, 'npc_dota_hero_tiny'),\n",
       " (18, 'npc_dota_hero_sven'),\n",
       " (17, 'npc_dota_hero_storm_spirit'),\n",
       " (16, 'npc_dota_hero_sand_king'),\n",
       " (15, 'npc_dota_hero_razor'),\n",
       " (14, 'npc_dota_hero_pudge'),\n",
       " (13, 'npc_dota_hero_puck'),\n",
       " (12, 'npc_dota_hero_phantom_lancer'),\n",
       " (11, 'npc_dota_hero_nevermore'),\n",
       " (10, 'npc_dota_hero_morphling'),\n",
       " (9, 'npc_dota_hero_mirana'),\n",
       " (8, 'npc_dota_hero_juggernaut'),\n",
       " (7, 'npc_dota_hero_earthshaker'),\n",
       " (6, 'npc_dota_hero_drow_ranger'),\n",
       " (5, 'npc_dota_hero_crystal_maiden'),\n",
       " (4, 'npc_dota_hero_bloodseeker'),\n",
       " (3, 'npc_dota_hero_bane'),\n",
       " (2, 'npc_dota_hero_axe'),\n",
       " (1, 'npc_dota_hero_antimage')]"
      ]
     },
     "execution_count": 8,
     "metadata": {},
     "output_type": "execute_result"
    }
   ],
   "source": [
    "sorted(unique_heroes, key=lambda x:x[0], reverse=True)"
   ]
  },
  {
   "cell_type": "code",
   "execution_count": 6,
   "metadata": {},
   "outputs": [
    {
     "data": {
      "text/plain": [
       "115"
      ]
     },
     "execution_count": 6,
     "metadata": {},
     "output_type": "execute_result"
    }
   ],
   "source": [
    "len(unique_heroes)"
   ]
  },
  {
   "cell_type": "code",
   "execution_count": 10,
   "metadata": {},
   "outputs": [],
   "source": [
    "with open('data/dota-data/heroes.json') as fp:\n",
    "    obj = json.loads(fp.read())"
   ]
  },
  {
   "cell_type": "code",
   "execution_count": 11,
   "metadata": {},
   "outputs": [
    {
     "data": {
      "text/plain": [
       "117"
      ]
     },
     "execution_count": 11,
     "metadata": {},
     "output_type": "execute_result"
    }
   ],
   "source": [
    "len(obj)"
   ]
  },
  {
   "cell_type": "code",
   "execution_count": 23,
   "metadata": {},
   "outputs": [
    {
     "data": {
      "text/plain": [
       "[('beastmaster', 'Beastmaster', '38'),\n",
       " ('juggernaut', 'Juggernaut', '8'),\n",
       " ('faceless_void', 'Faceless Void', '41'),\n",
       " ('axe', 'Axe', '2'),\n",
       " ('lina', 'Lina', '25')]"
      ]
     },
     "execution_count": 23,
     "metadata": {},
     "output_type": "execute_result"
    }
   ],
   "source": [
    "[(o['tag'], o['name'], o['attributes']['HeroID']) for o in obj[:5]]"
   ]
  },
  {
   "cell_type": "code",
   "execution_count": 13,
   "metadata": {},
   "outputs": [],
   "source": [
    "hero1 = obj[0]"
   ]
  },
  {
   "cell_type": "code",
   "execution_count": 14,
   "metadata": {},
   "outputs": [
    {
     "data": {
      "text/plain": [
       "dict_keys(['tag', 'name', 'bio', 'hype', 'item_builds', 'abilities', 'talents', 'attributes', 'abilities_aghs', 'abilities_special', 'abilities_hidden'])"
      ]
     },
     "execution_count": 14,
     "metadata": {},
     "output_type": "execute_result"
    }
   ],
   "source": [
    "hero1.keys()"
   ]
  },
  {
   "cell_type": "code",
   "execution_count": 15,
   "metadata": {},
   "outputs": [
    {
     "data": {
      "text/plain": [
       "('beastmaster', 'Initiator,Disabler,Durable,Nuker')"
      ]
     },
     "execution_count": 15,
     "metadata": {},
     "output_type": "execute_result"
    }
   ],
   "source": [
    "hero1['tag'], hero1['attributes']['Role']"
   ]
  },
  {
   "cell_type": "code",
   "execution_count": 16,
   "metadata": {},
   "outputs": [
    {
     "data": {
      "text/plain": [
       "{'AttributePrimary': 'DOTA_ATTRIBUTE_STRENGTH',\n",
       " 'AttributeBaseAgility': '18',\n",
       " 'AttributeAgilityGain': '1.600000',\n",
       " 'AttributeBaseStrength': '23',\n",
       " 'AttributeStrengthGain': '2.900000',\n",
       " 'AttributeBaseIntelligence': '16',\n",
       " 'AttributeIntelligenceGain': '1.900000',\n",
       " 'ArmorPhysical': '-1',\n",
       " 'MagicalResistance': '25',\n",
       " 'StatusHealth': '200',\n",
       " 'StatusHealthRegen': '1.5000',\n",
       " 'StatusMana': '75',\n",
       " 'StatusManaRegen': '0.9',\n",
       " 'MovementSpeed': '305',\n",
       " 'MovementTurnRate': '0.500000',\n",
       " 'VisionDaytimeRange': '1800',\n",
       " 'VisionNighttimeRange': '800',\n",
       " 'AttackCapabilities': 'DOTA_UNIT_CAP_MELEE_ATTACK',\n",
       " 'AttackDamageMin': '41',\n",
       " 'AttackDamageMax': '45',\n",
       " 'AttackRate': '1.700000',\n",
       " 'AttackAnimationPoint': '0.300000',\n",
       " 'AttackAcquisitionRange': '600',\n",
       " 'AttackRange': '150',\n",
       " 'ProjectileSpeed': '0',\n",
       " 'Role': 'Initiator,Disabler,Durable,Nuker',\n",
       " 'Rolelevels': '2,2,2,1',\n",
       " 'Complexity': '2',\n",
       " 'Team': 'Good',\n",
       " 'HeroID': '38'}"
      ]
     },
     "execution_count": 16,
     "metadata": {},
     "output_type": "execute_result"
    }
   ],
   "source": [
    "hero1['attributes']"
   ]
  },
  {
   "cell_type": "code",
   "execution_count": 17,
   "metadata": {},
   "outputs": [
    {
     "name": "stdout",
     "output_type": "stream",
     "text": [
      "FOUND:  razor\n"
     ]
    }
   ],
   "source": [
    "# is hero_id corresponds to our data? If yes, then Razor should have id 15\n",
    "for h in obj:\n",
    "    if h['attributes']['HeroID'] == '15':\n",
    "        print(\"FOUND: \", h['tag'])\n",
    "        break"
   ]
  },
  {
   "cell_type": "code",
   "execution_count": 18,
   "metadata": {},
   "outputs": [
    {
     "data": {
      "text/plain": [
       "[('beastmaster', 'Good'),\n",
       " ('juggernaut', 'Good'),\n",
       " ('faceless_void', 'Bad'),\n",
       " ('axe', 'Bad'),\n",
       " ('lina', 'Good')]"
      ]
     },
     "execution_count": 18,
     "metadata": {},
     "output_type": "execute_result"
    }
   ],
   "source": [
    "# Team is not interesting\n",
    "[(h['tag'], h['attributes']['Team']) for h in obj[:5]]"
   ]
  },
  {
   "cell_type": "code",
   "execution_count": 19,
   "metadata": {},
   "outputs": [
    {
     "data": {
      "text/plain": [
       "[('beastmaster', '2', 'Initiator,Disabler,Durable,Nuker'),\n",
       " ('juggernaut', '1', 'Carry,Pusher,Escape'),\n",
       " ('faceless_void', '2', 'Carry,Initiator,Disabler,Escape,Durable'),\n",
       " ('axe', '1', 'Initiator,Durable,Disabler,Jungler'),\n",
       " ('lina', '1', 'Support,Carry,Nuker,Disabler'),\n",
       " ('chen', '3', 'Support,Jungler,Pusher')]"
      ]
     },
     "execution_count": 19,
     "metadata": {},
     "output_type": "execute_result"
    }
   ],
   "source": [
    "[(h['tag'], h['attributes']['Complexity'], h['attributes']['Role']) for h in obj[:6]]"
   ]
  },
  {
   "cell_type": "code",
   "execution_count": 20,
   "metadata": {},
   "outputs": [
    {
     "data": {
      "text/plain": [
       "dict_keys(['tag', 'name', 'bio', 'hype', 'item_builds', 'abilities', 'talents', 'attributes', 'abilities_aghs', 'abilities_special', 'abilities_hidden'])"
      ]
     },
     "execution_count": 20,
     "metadata": {},
     "output_type": "execute_result"
    }
   ],
   "source": [
    "hero1.keys()"
   ]
  },
  {
   "cell_type": "code",
   "execution_count": 22,
   "metadata": {},
   "outputs": [
    {
     "data": {
      "text/plain": [
       "[{'tag': 'special_bonus_exp_boost_25',\n",
       "  'name': '+25% XP Gain',\n",
       "  'position': 'right'},\n",
       " {'tag': 'special_bonus_movement_speed_20',\n",
       "  'name': '+20 Movement Speed',\n",
       "  'position': 'left'},\n",
       " {'tag': 'special_bonus_armor_6', 'name': '+6 Armor', 'position': 'right'},\n",
       " {'tag': 'special_bonus_unique_beastmaster_2',\n",
       "  'name': '+35 Boar Damage',\n",
       "  'position': 'left'},\n",
       " {'tag': 'special_bonus_unique_beastmaster',\n",
       "  'name': '+75 Wild Axes Damage',\n",
       "  'position': 'right'},\n",
       " {'tag': 'special_bonus_hp_500', 'name': '+500 Health', 'position': 'left'},\n",
       " {'tag': 'special_bonus_unique_beastmaster_4',\n",
       "  'name': '+25 Inner Beast Attack Speed',\n",
       "  'position': 'right'},\n",
       " {'tag': 'special_bonus_unique_beastmaster_3',\n",
       "  'name': '-20s Hawks Cooldown',\n",
       "  'position': 'left'}]"
      ]
     },
     "execution_count": 22,
     "metadata": {},
     "output_type": "execute_result"
    }
   ],
   "source": [
    "hero1['talents']"
   ]
  }
 ],
 "metadata": {
  "kernelspec": {
   "display_name": "Python 3",
   "language": "python",
   "name": "python3"
  },
  "language_info": {
   "codemirror_mode": {
    "name": "ipython",
    "version": 3
   },
   "file_extension": ".py",
   "mimetype": "text/x-python",
   "name": "python",
   "nbconvert_exporter": "python",
   "pygments_lexer": "ipython3",
   "version": "3.6.2"
  }
 },
 "nbformat": 4,
 "nbformat_minor": 4
}
